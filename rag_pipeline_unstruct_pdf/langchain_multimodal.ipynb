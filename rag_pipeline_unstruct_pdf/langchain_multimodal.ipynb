{
 "cells": [
  {
   "cell_type": "markdown",
   "id": "812a4dbc-fe04-4b84-bdf9-390045e30806",
   "metadata": {
    "id": "812a4dbc-fe04-4b84-bdf9-390045e30806"
   },
   "source": [
    "# Multi-modal RAG with LangChain"
   ]
  },
  {
   "cell_type": "markdown",
   "id": "ecXPgawqG7XH",
   "metadata": {
    "id": "ecXPgawqG7XH"
   },
   "source": [
    "## SetUp\n",
    "\n",
    "Install the dependencies you need to run the notebook."
   ]
  },
  {
   "cell_type": "code",
   "execution_count": 25,
   "id": "133b74f6",
   "metadata": {
    "id": "133b74f6"
   },
   "outputs": [],
   "source": [
    "# for linux\n",
    "# %sudo apt-get install poppler-utils tesseract-ocr libmagic-dev\n",
    "\n",
    "# for mac\n",
    "# %brew install poppler tesseract libmagic"
   ]
  },
  {
   "cell_type": "code",
   "execution_count": 26,
   "id": "2nDWBTrhn-_M",
   "metadata": {
    "id": "2nDWBTrhn-_M",
    "outputId": "7f1e98ab-538a-4c49-85ef-8590f83c4770"
   },
   "outputs": [
    {
     "name": "stderr",
     "output_type": "stream",
     "text": [
      "1476.73s - pydevd: Sending message related to process being replaced timed-out after 5 seconds\n"
     ]
    },
    {
     "name": "stdout",
     "output_type": "stream",
     "text": [
      "Requirement already satisfied: unstructured[all-docs] in ./env/lib/python3.10/site-packages (from -r requirements.txt (line 1)) (0.17.2)\n",
      "Requirement already satisfied: pillow in ./env/lib/python3.10/site-packages (from -r requirements.txt (line 2)) (11.2.1)\n",
      "Requirement already satisfied: lxml in ./env/lib/python3.10/site-packages (from -r requirements.txt (line 3)) (5.4.0)\n",
      "Requirement already satisfied: chromadb in ./env/lib/python3.10/site-packages (from -r requirements.txt (line 4)) (1.0.7)\n",
      "Requirement already satisfied: tiktoken in ./env/lib/python3.10/site-packages (from -r requirements.txt (line 5)) (0.9.0)\n",
      "Requirement already satisfied: langchain in ./env/lib/python3.10/site-packages (from -r requirements.txt (line 6)) (0.3.24)\n",
      "Requirement already satisfied: langchain-community in ./env/lib/python3.10/site-packages (from -r requirements.txt (line 7)) (0.3.22)\n",
      "Requirement already satisfied: langchain-openai in ./env/lib/python3.10/site-packages (from -r requirements.txt (line 8)) (0.3.14)\n",
      "Requirement already satisfied: langchain-groq in ./env/lib/python3.10/site-packages (from -r requirements.txt (line 9)) (0.3.2)\n",
      "Requirement already satisfied: python_dotenv in ./env/lib/python3.10/site-packages (from -r requirements.txt (line 10)) (1.1.0)\n",
      "Requirement already satisfied: openai in ./env/lib/python3.10/site-packages (from -r requirements.txt (line 11)) (1.76.0)\n",
      "Requirement already satisfied: emoji in ./env/lib/python3.10/site-packages (from unstructured[all-docs]->-r requirements.txt (line 1)) (2.14.1)\n",
      "Requirement already satisfied: unstructured-client in ./env/lib/python3.10/site-packages (from unstructured[all-docs]->-r requirements.txt (line 1)) (0.34.0)\n",
      "Requirement already satisfied: filetype in ./env/lib/python3.10/site-packages (from unstructured[all-docs]->-r requirements.txt (line 1)) (1.2.0)\n",
      "Requirement already satisfied: typing-extensions in ./env/lib/python3.10/site-packages (from unstructured[all-docs]->-r requirements.txt (line 1)) (4.13.2)\n",
      "Requirement already satisfied: html5lib in ./env/lib/python3.10/site-packages (from unstructured[all-docs]->-r requirements.txt (line 1)) (1.1)\n",
      "Requirement already satisfied: chardet in ./env/lib/python3.10/site-packages (from unstructured[all-docs]->-r requirements.txt (line 1)) (5.2.0)\n",
      "Requirement already satisfied: python-magic in ./env/lib/python3.10/site-packages (from unstructured[all-docs]->-r requirements.txt (line 1)) (0.4.27)\n",
      "Requirement already satisfied: wrapt in ./env/lib/python3.10/site-packages (from unstructured[all-docs]->-r requirements.txt (line 1)) (1.17.2)\n",
      "Requirement already satisfied: numpy in ./env/lib/python3.10/site-packages (from unstructured[all-docs]->-r requirements.txt (line 1)) (2.2.5)\n",
      "Requirement already satisfied: python-iso639 in ./env/lib/python3.10/site-packages (from unstructured[all-docs]->-r requirements.txt (line 1)) (2025.2.18)\n",
      "Requirement already satisfied: rapidfuzz in ./env/lib/python3.10/site-packages (from unstructured[all-docs]->-r requirements.txt (line 1)) (3.13.0)\n",
      "Requirement already satisfied: nltk in ./env/lib/python3.10/site-packages (from unstructured[all-docs]->-r requirements.txt (line 1)) (3.9.1)\n",
      "Requirement already satisfied: requests in ./env/lib/python3.10/site-packages (from unstructured[all-docs]->-r requirements.txt (line 1)) (2.32.3)\n",
      "Requirement already satisfied: beautifulsoup4 in ./env/lib/python3.10/site-packages (from unstructured[all-docs]->-r requirements.txt (line 1)) (4.13.4)\n",
      "Requirement already satisfied: langdetect in ./env/lib/python3.10/site-packages (from unstructured[all-docs]->-r requirements.txt (line 1)) (1.0.9)\n",
      "Requirement already satisfied: psutil in ./env/lib/python3.10/site-packages (from unstructured[all-docs]->-r requirements.txt (line 1)) (7.0.0)\n",
      "Requirement already satisfied: dataclasses-json in ./env/lib/python3.10/site-packages (from unstructured[all-docs]->-r requirements.txt (line 1)) (0.6.7)\n",
      "Requirement already satisfied: python-oxmsg in ./env/lib/python3.10/site-packages (from unstructured[all-docs]->-r requirements.txt (line 1)) (0.0.2)\n",
      "Requirement already satisfied: backoff in ./env/lib/python3.10/site-packages (from unstructured[all-docs]->-r requirements.txt (line 1)) (2.2.1)\n",
      "Requirement already satisfied: tqdm in ./env/lib/python3.10/site-packages (from unstructured[all-docs]->-r requirements.txt (line 1)) (4.67.1)\n",
      "Requirement already satisfied: markdown in ./env/lib/python3.10/site-packages (from unstructured[all-docs]->-r requirements.txt (line 1)) (3.8)\n",
      "Requirement already satisfied: google-cloud-vision in ./env/lib/python3.10/site-packages (from unstructured[all-docs]->-r requirements.txt (line 1)) (3.10.1)\n",
      "Requirement already satisfied: python-pptx>=1.0.1 in ./env/lib/python3.10/site-packages (from unstructured[all-docs]->-r requirements.txt (line 1)) (1.0.2)\n",
      "Requirement already satisfied: unstructured-inference>=0.8.10 in ./env/lib/python3.10/site-packages (from unstructured[all-docs]->-r requirements.txt (line 1)) (0.8.10)\n",
      "Requirement already satisfied: pdfminer.six in ./env/lib/python3.10/site-packages (from unstructured[all-docs]->-r requirements.txt (line 1)) (20250416)\n",
      "Requirement already satisfied: openpyxl in ./env/lib/python3.10/site-packages (from unstructured[all-docs]->-r requirements.txt (line 1)) (3.1.5)\n",
      "Requirement already satisfied: pi-heif in ./env/lib/python3.10/site-packages (from unstructured[all-docs]->-r requirements.txt (line 1)) (0.22.0)\n",
      "Requirement already satisfied: pandas in ./env/lib/python3.10/site-packages (from unstructured[all-docs]->-r requirements.txt (line 1)) (2.2.3)\n",
      "Requirement already satisfied: python-docx>=1.1.2 in ./env/lib/python3.10/site-packages (from unstructured[all-docs]->-r requirements.txt (line 1)) (1.1.2)\n",
      "Requirement already satisfied: networkx in ./env/lib/python3.10/site-packages (from unstructured[all-docs]->-r requirements.txt (line 1)) (3.4.2)\n",
      "Requirement already satisfied: effdet in ./env/lib/python3.10/site-packages (from unstructured[all-docs]->-r requirements.txt (line 1)) (0.4.1)\n",
      "Requirement already satisfied: onnx>=1.17.0 in ./env/lib/python3.10/site-packages (from unstructured[all-docs]->-r requirements.txt (line 1)) (1.17.0)\n",
      "Requirement already satisfied: pikepdf in ./env/lib/python3.10/site-packages (from unstructured[all-docs]->-r requirements.txt (line 1)) (9.7.0)\n",
      "Requirement already satisfied: pdf2image in ./env/lib/python3.10/site-packages (from unstructured[all-docs]->-r requirements.txt (line 1)) (1.17.0)\n",
      "Requirement already satisfied: pypandoc in ./env/lib/python3.10/site-packages (from unstructured[all-docs]->-r requirements.txt (line 1)) (1.15)\n",
      "Requirement already satisfied: unstructured.pytesseract>=0.3.12 in ./env/lib/python3.10/site-packages (from unstructured[all-docs]->-r requirements.txt (line 1)) (0.3.15)\n",
      "Requirement already satisfied: onnxruntime>=1.19.0 in ./env/lib/python3.10/site-packages (from unstructured[all-docs]->-r requirements.txt (line 1)) (1.21.1)\n",
      "Requirement already satisfied: pypdf in ./env/lib/python3.10/site-packages (from unstructured[all-docs]->-r requirements.txt (line 1)) (5.4.0)\n",
      "Requirement already satisfied: xlrd in ./env/lib/python3.10/site-packages (from unstructured[all-docs]->-r requirements.txt (line 1)) (2.0.1)\n",
      "Requirement already satisfied: opentelemetry-api>=1.2.0 in ./env/lib/python3.10/site-packages (from chromadb->-r requirements.txt (line 4)) (1.32.1)\n",
      "Requirement already satisfied: chroma-hnswlib==0.7.6 in ./env/lib/python3.10/site-packages (from chromadb->-r requirements.txt (line 4)) (0.7.6)\n",
      "Requirement already satisfied: uvicorn[standard]>=0.18.3 in ./env/lib/python3.10/site-packages (from chromadb->-r requirements.txt (line 4)) (0.34.2)\n",
      "Requirement already satisfied: build>=1.0.3 in ./env/lib/python3.10/site-packages (from chromadb->-r requirements.txt (line 4)) (1.2.2.post1)\n",
      "Requirement already satisfied: overrides>=7.3.1 in ./env/lib/python3.10/site-packages (from chromadb->-r requirements.txt (line 4)) (7.7.0)\n",
      "Requirement already satisfied: mmh3>=4.0.1 in ./env/lib/python3.10/site-packages (from chromadb->-r requirements.txt (line 4)) (5.1.0)\n",
      "Requirement already satisfied: opentelemetry-sdk>=1.2.0 in ./env/lib/python3.10/site-packages (from chromadb->-r requirements.txt (line 4)) (1.32.1)\n",
      "Requirement already satisfied: opentelemetry-exporter-otlp-proto-grpc>=1.2.0 in ./env/lib/python3.10/site-packages (from chromadb->-r requirements.txt (line 4)) (1.32.1)\n",
      "Requirement already satisfied: grpcio>=1.58.0 in ./env/lib/python3.10/site-packages (from chromadb->-r requirements.txt (line 4)) (1.71.0)\n",
      "Requirement already satisfied: httpx>=0.27.0 in ./env/lib/python3.10/site-packages (from chromadb->-r requirements.txt (line 4)) (0.28.1)\n",
      "Requirement already satisfied: fastapi==0.115.9 in ./env/lib/python3.10/site-packages (from chromadb->-r requirements.txt (line 4)) (0.115.9)\n",
      "Requirement already satisfied: pyyaml>=6.0.0 in ./env/lib/python3.10/site-packages (from chromadb->-r requirements.txt (line 4)) (6.0.2)\n",
      "Requirement already satisfied: opentelemetry-instrumentation-fastapi>=0.41b0 in ./env/lib/python3.10/site-packages (from chromadb->-r requirements.txt (line 4)) (0.53b1)\n",
      "Requirement already satisfied: pydantic>=1.9 in ./env/lib/python3.10/site-packages (from chromadb->-r requirements.txt (line 4)) (2.11.3)\n",
      "Requirement already satisfied: kubernetes>=28.1.0 in ./env/lib/python3.10/site-packages (from chromadb->-r requirements.txt (line 4)) (32.0.1)\n",
      "Requirement already satisfied: orjson>=3.9.12 in ./env/lib/python3.10/site-packages (from chromadb->-r requirements.txt (line 4)) (3.10.16)\n",
      "Requirement already satisfied: pypika>=0.48.9 in ./env/lib/python3.10/site-packages (from chromadb->-r requirements.txt (line 4)) (0.48.9)\n",
      "Requirement already satisfied: importlib-resources in ./env/lib/python3.10/site-packages (from chromadb->-r requirements.txt (line 4)) (6.5.2)\n",
      "Requirement already satisfied: posthog>=2.4.0 in ./env/lib/python3.10/site-packages (from chromadb->-r requirements.txt (line 4)) (4.0.0)\n",
      "Requirement already satisfied: tenacity>=8.2.3 in ./env/lib/python3.10/site-packages (from chromadb->-r requirements.txt (line 4)) (9.1.2)\n",
      "Requirement already satisfied: jsonschema>=4.19.0 in ./env/lib/python3.10/site-packages (from chromadb->-r requirements.txt (line 4)) (4.23.0)\n",
      "Requirement already satisfied: typer>=0.9.0 in ./env/lib/python3.10/site-packages (from chromadb->-r requirements.txt (line 4)) (0.15.2)\n",
      "Requirement already satisfied: tokenizers>=0.13.2 in ./env/lib/python3.10/site-packages (from chromadb->-r requirements.txt (line 4)) (0.21.1)\n",
      "Requirement already satisfied: bcrypt>=4.0.1 in ./env/lib/python3.10/site-packages (from chromadb->-r requirements.txt (line 4)) (4.3.0)\n",
      "Requirement already satisfied: rich>=10.11.0 in ./env/lib/python3.10/site-packages (from chromadb->-r requirements.txt (line 4)) (14.0.0)\n",
      "Requirement already satisfied: starlette<0.46.0,>=0.40.0 in ./env/lib/python3.10/site-packages (from fastapi==0.115.9->chromadb->-r requirements.txt (line 4)) (0.45.3)\n",
      "Requirement already satisfied: regex>=2022.1.18 in ./env/lib/python3.10/site-packages (from tiktoken->-r requirements.txt (line 5)) (2024.11.6)\n",
      "Requirement already satisfied: SQLAlchemy<3,>=1.4 in ./env/lib/python3.10/site-packages (from langchain->-r requirements.txt (line 6)) (2.0.40)\n",
      "Requirement already satisfied: async-timeout<5.0.0,>=4.0.0 in ./env/lib/python3.10/site-packages (from langchain->-r requirements.txt (line 6)) (4.0.3)\n",
      "Requirement already satisfied: langchain-core<1.0.0,>=0.3.55 in ./env/lib/python3.10/site-packages (from langchain->-r requirements.txt (line 6)) (0.3.56)\n",
      "Requirement already satisfied: langsmith<0.4,>=0.1.17 in ./env/lib/python3.10/site-packages (from langchain->-r requirements.txt (line 6)) (0.3.37)\n",
      "Requirement already satisfied: langchain-text-splitters<1.0.0,>=0.3.8 in ./env/lib/python3.10/site-packages (from langchain->-r requirements.txt (line 6)) (0.3.8)\n",
      "Requirement already satisfied: pydantic-settings<3.0.0,>=2.4.0 in ./env/lib/python3.10/site-packages (from langchain-community->-r requirements.txt (line 7)) (2.9.1)\n",
      "Requirement already satisfied: httpx-sse<1.0.0,>=0.4.0 in ./env/lib/python3.10/site-packages (from langchain-community->-r requirements.txt (line 7)) (0.4.0)\n",
      "Requirement already satisfied: aiohttp<4.0.0,>=3.8.3 in ./env/lib/python3.10/site-packages (from langchain-community->-r requirements.txt (line 7)) (3.11.18)\n",
      "Requirement already satisfied: groq<1,>=0.4.1 in ./env/lib/python3.10/site-packages (from langchain-groq->-r requirements.txt (line 9)) (0.23.1)\n",
      "Requirement already satisfied: anyio<5,>=3.5.0 in ./env/lib/python3.10/site-packages (from openai->-r requirements.txt (line 11)) (4.9.0)\n",
      "Requirement already satisfied: jiter<1,>=0.4.0 in ./env/lib/python3.10/site-packages (from openai->-r requirements.txt (line 11)) (0.9.0)\n",
      "Requirement already satisfied: distro<2,>=1.7.0 in ./env/lib/python3.10/site-packages (from openai->-r requirements.txt (line 11)) (1.9.0)\n",
      "Requirement already satisfied: sniffio in ./env/lib/python3.10/site-packages (from openai->-r requirements.txt (line 11)) (1.3.1)\n",
      "Requirement already satisfied: frozenlist>=1.1.1 in ./env/lib/python3.10/site-packages (from aiohttp<4.0.0,>=3.8.3->langchain-community->-r requirements.txt (line 7)) (1.6.0)\n",
      "Requirement already satisfied: multidict<7.0,>=4.5 in ./env/lib/python3.10/site-packages (from aiohttp<4.0.0,>=3.8.3->langchain-community->-r requirements.txt (line 7)) (6.4.3)\n",
      "Requirement already satisfied: aiohappyeyeballs>=2.3.0 in ./env/lib/python3.10/site-packages (from aiohttp<4.0.0,>=3.8.3->langchain-community->-r requirements.txt (line 7)) (2.6.1)\n",
      "Requirement already satisfied: yarl<2.0,>=1.17.0 in ./env/lib/python3.10/site-packages (from aiohttp<4.0.0,>=3.8.3->langchain-community->-r requirements.txt (line 7)) (1.20.0)\n",
      "Requirement already satisfied: propcache>=0.2.0 in ./env/lib/python3.10/site-packages (from aiohttp<4.0.0,>=3.8.3->langchain-community->-r requirements.txt (line 7)) (0.3.1)\n",
      "Requirement already satisfied: aiosignal>=1.1.2 in ./env/lib/python3.10/site-packages (from aiohttp<4.0.0,>=3.8.3->langchain-community->-r requirements.txt (line 7)) (1.3.2)\n",
      "Requirement already satisfied: attrs>=17.3.0 in ./env/lib/python3.10/site-packages (from aiohttp<4.0.0,>=3.8.3->langchain-community->-r requirements.txt (line 7)) (25.3.0)\n",
      "Requirement already satisfied: exceptiongroup>=1.0.2 in ./env/lib/python3.10/site-packages (from anyio<5,>=3.5.0->openai->-r requirements.txt (line 11)) (1.2.2)\n",
      "Requirement already satisfied: idna>=2.8 in ./env/lib/python3.10/site-packages (from anyio<5,>=3.5.0->openai->-r requirements.txt (line 11)) (3.10)\n",
      "Requirement already satisfied: pyproject_hooks in ./env/lib/python3.10/site-packages (from build>=1.0.3->chromadb->-r requirements.txt (line 4)) (1.2.0)\n",
      "Requirement already satisfied: packaging>=19.1 in ./env/lib/python3.10/site-packages (from build>=1.0.3->chromadb->-r requirements.txt (line 4)) (24.2)\n",
      "Requirement already satisfied: tomli>=1.1.0 in ./env/lib/python3.10/site-packages (from build>=1.0.3->chromadb->-r requirements.txt (line 4)) (2.2.1)\n",
      "Requirement already satisfied: typing-inspect<1,>=0.4.0 in ./env/lib/python3.10/site-packages (from dataclasses-json->unstructured[all-docs]->-r requirements.txt (line 1)) (0.9.0)\n",
      "Requirement already satisfied: marshmallow<4.0.0,>=3.18.0 in ./env/lib/python3.10/site-packages (from dataclasses-json->unstructured[all-docs]->-r requirements.txt (line 1)) (3.26.1)\n",
      "Requirement already satisfied: certifi in ./env/lib/python3.10/site-packages (from httpx>=0.27.0->chromadb->-r requirements.txt (line 4)) (2025.4.26)\n",
      "Requirement already satisfied: httpcore==1.* in ./env/lib/python3.10/site-packages (from httpx>=0.27.0->chromadb->-r requirements.txt (line 4)) (1.0.9)\n",
      "Requirement already satisfied: h11>=0.16 in ./env/lib/python3.10/site-packages (from httpcore==1.*->httpx>=0.27.0->chromadb->-r requirements.txt (line 4)) (0.16.0)\n",
      "Requirement already satisfied: referencing>=0.28.4 in ./env/lib/python3.10/site-packages (from jsonschema>=4.19.0->chromadb->-r requirements.txt (line 4)) (0.36.2)\n",
      "Requirement already satisfied: jsonschema-specifications>=2023.03.6 in ./env/lib/python3.10/site-packages (from jsonschema>=4.19.0->chromadb->-r requirements.txt (line 4)) (2025.4.1)\n",
      "Requirement already satisfied: rpds-py>=0.7.1 in ./env/lib/python3.10/site-packages (from jsonschema>=4.19.0->chromadb->-r requirements.txt (line 4)) (0.24.0)\n",
      "Requirement already satisfied: six>=1.9.0 in ./env/lib/python3.10/site-packages (from kubernetes>=28.1.0->chromadb->-r requirements.txt (line 4)) (1.17.0)\n",
      "Requirement already satisfied: requests-oauthlib in ./env/lib/python3.10/site-packages (from kubernetes>=28.1.0->chromadb->-r requirements.txt (line 4)) (2.0.0)\n",
      "Requirement already satisfied: urllib3>=1.24.2 in ./env/lib/python3.10/site-packages (from kubernetes>=28.1.0->chromadb->-r requirements.txt (line 4)) (2.4.0)\n",
      "Requirement already satisfied: oauthlib>=3.2.2 in ./env/lib/python3.10/site-packages (from kubernetes>=28.1.0->chromadb->-r requirements.txt (line 4)) (3.2.2)\n",
      "Requirement already satisfied: google-auth>=1.0.1 in ./env/lib/python3.10/site-packages (from kubernetes>=28.1.0->chromadb->-r requirements.txt (line 4)) (2.39.0)\n",
      "Requirement already satisfied: durationpy>=0.7 in ./env/lib/python3.10/site-packages (from kubernetes>=28.1.0->chromadb->-r requirements.txt (line 4)) (0.9)\n",
      "Requirement already satisfied: websocket-client!=0.40.0,!=0.41.*,!=0.42.*,>=0.32.0 in ./env/lib/python3.10/site-packages (from kubernetes>=28.1.0->chromadb->-r requirements.txt (line 4)) (1.8.0)\n",
      "Requirement already satisfied: python-dateutil>=2.5.3 in ./env/lib/python3.10/site-packages (from kubernetes>=28.1.0->chromadb->-r requirements.txt (line 4)) (2.9.0.post0)\n",
      "Requirement already satisfied: jsonpatch<2.0,>=1.33 in ./env/lib/python3.10/site-packages (from langchain-core<1.0.0,>=0.3.55->langchain->-r requirements.txt (line 6)) (1.33)\n",
      "Requirement already satisfied: requests-toolbelt<2.0.0,>=1.0.0 in ./env/lib/python3.10/site-packages (from langsmith<0.4,>=0.1.17->langchain->-r requirements.txt (line 6)) (1.0.0)\n",
      "Requirement already satisfied: zstandard<0.24.0,>=0.23.0 in ./env/lib/python3.10/site-packages (from langsmith<0.4,>=0.1.17->langchain->-r requirements.txt (line 6)) (0.23.0)\n",
      "Requirement already satisfied: protobuf>=3.20.2 in ./env/lib/python3.10/site-packages (from onnx>=1.17.0->unstructured[all-docs]->-r requirements.txt (line 1)) (5.29.4)\n",
      "Requirement already satisfied: flatbuffers in ./env/lib/python3.10/site-packages (from onnxruntime>=1.19.0->unstructured[all-docs]->-r requirements.txt (line 1)) (25.2.10)\n",
      "Requirement already satisfied: coloredlogs in ./env/lib/python3.10/site-packages (from onnxruntime>=1.19.0->unstructured[all-docs]->-r requirements.txt (line 1)) (15.0.1)\n",
      "Requirement already satisfied: sympy in ./env/lib/python3.10/site-packages (from onnxruntime>=1.19.0->unstructured[all-docs]->-r requirements.txt (line 1)) (1.14.0)\n",
      "Requirement already satisfied: deprecated>=1.2.6 in ./env/lib/python3.10/site-packages (from opentelemetry-api>=1.2.0->chromadb->-r requirements.txt (line 4)) (1.2.18)\n",
      "Requirement already satisfied: importlib-metadata<8.7.0,>=6.0 in ./env/lib/python3.10/site-packages (from opentelemetry-api>=1.2.0->chromadb->-r requirements.txt (line 4)) (8.6.1)\n",
      "Requirement already satisfied: googleapis-common-protos~=1.52 in ./env/lib/python3.10/site-packages (from opentelemetry-exporter-otlp-proto-grpc>=1.2.0->chromadb->-r requirements.txt (line 4)) (1.70.0)\n",
      "Requirement already satisfied: opentelemetry-proto==1.32.1 in ./env/lib/python3.10/site-packages (from opentelemetry-exporter-otlp-proto-grpc>=1.2.0->chromadb->-r requirements.txt (line 4)) (1.32.1)\n",
      "Requirement already satisfied: opentelemetry-exporter-otlp-proto-common==1.32.1 in ./env/lib/python3.10/site-packages (from opentelemetry-exporter-otlp-proto-grpc>=1.2.0->chromadb->-r requirements.txt (line 4)) (1.32.1)\n",
      "Requirement already satisfied: opentelemetry-semantic-conventions==0.53b1 in ./env/lib/python3.10/site-packages (from opentelemetry-instrumentation-fastapi>=0.41b0->chromadb->-r requirements.txt (line 4)) (0.53b1)\n",
      "Requirement already satisfied: opentelemetry-instrumentation==0.53b1 in ./env/lib/python3.10/site-packages (from opentelemetry-instrumentation-fastapi>=0.41b0->chromadb->-r requirements.txt (line 4)) (0.53b1)\n",
      "Requirement already satisfied: opentelemetry-instrumentation-asgi==0.53b1 in ./env/lib/python3.10/site-packages (from opentelemetry-instrumentation-fastapi>=0.41b0->chromadb->-r requirements.txt (line 4)) (0.53b1)\n",
      "Requirement already satisfied: opentelemetry-util-http==0.53b1 in ./env/lib/python3.10/site-packages (from opentelemetry-instrumentation-fastapi>=0.41b0->chromadb->-r requirements.txt (line 4)) (0.53b1)\n",
      "Requirement already satisfied: asgiref~=3.0 in ./env/lib/python3.10/site-packages (from opentelemetry-instrumentation-asgi==0.53b1->opentelemetry-instrumentation-fastapi>=0.41b0->chromadb->-r requirements.txt (line 4)) (3.8.1)\n",
      "Requirement already satisfied: monotonic>=1.5 in ./env/lib/python3.10/site-packages (from posthog>=2.4.0->chromadb->-r requirements.txt (line 4)) (1.6)\n",
      "Requirement already satisfied: pydantic-core==2.33.1 in ./env/lib/python3.10/site-packages (from pydantic>=1.9->chromadb->-r requirements.txt (line 4)) (2.33.1)\n",
      "Requirement already satisfied: typing-inspection>=0.4.0 in ./env/lib/python3.10/site-packages (from pydantic>=1.9->chromadb->-r requirements.txt (line 4)) (0.4.0)\n",
      "Requirement already satisfied: annotated-types>=0.6.0 in ./env/lib/python3.10/site-packages (from pydantic>=1.9->chromadb->-r requirements.txt (line 4)) (0.7.0)\n",
      "Requirement already satisfied: XlsxWriter>=0.5.7 in ./env/lib/python3.10/site-packages (from python-pptx>=1.0.1->unstructured[all-docs]->-r requirements.txt (line 1)) (3.2.3)\n",
      "Requirement already satisfied: charset-normalizer<4,>=2 in ./env/lib/python3.10/site-packages (from requests->unstructured[all-docs]->-r requirements.txt (line 1)) (3.4.1)\n",
      "Requirement already satisfied: markdown-it-py>=2.2.0 in ./env/lib/python3.10/site-packages (from rich>=10.11.0->chromadb->-r requirements.txt (line 4)) (3.0.0)\n",
      "Requirement already satisfied: pygments<3.0.0,>=2.13.0 in ./env/lib/python3.10/site-packages (from rich>=10.11.0->chromadb->-r requirements.txt (line 4)) (2.19.1)\n",
      "Requirement already satisfied: greenlet>=1 in ./env/lib/python3.10/site-packages (from SQLAlchemy<3,>=1.4->langchain->-r requirements.txt (line 6)) (3.2.1)\n",
      "Requirement already satisfied: huggingface-hub<1.0,>=0.16.4 in ./env/lib/python3.10/site-packages (from tokenizers>=0.13.2->chromadb->-r requirements.txt (line 4)) (0.30.2)\n",
      "Requirement already satisfied: shellingham>=1.3.0 in ./env/lib/python3.10/site-packages (from typer>=0.9.0->chromadb->-r requirements.txt (line 4)) (1.5.4)\n",
      "Requirement already satisfied: click>=8.0.0 in ./env/lib/python3.10/site-packages (from typer>=0.9.0->chromadb->-r requirements.txt (line 4)) (8.1.8)\n",
      "Requirement already satisfied: opencv-python!=4.7.0.68 in ./env/lib/python3.10/site-packages (from unstructured-inference>=0.8.10->unstructured[all-docs]->-r requirements.txt (line 1)) (4.11.0.86)\n",
      "Requirement already satisfied: matplotlib in ./env/lib/python3.10/site-packages (from unstructured-inference>=0.8.10->unstructured[all-docs]->-r requirements.txt (line 1)) (3.10.1)\n",
      "Requirement already satisfied: torch in ./env/lib/python3.10/site-packages (from unstructured-inference>=0.8.10->unstructured[all-docs]->-r requirements.txt (line 1)) (2.7.0)\n",
      "Requirement already satisfied: pypdfium2 in ./env/lib/python3.10/site-packages (from unstructured-inference>=0.8.10->unstructured[all-docs]->-r requirements.txt (line 1)) (4.30.1)\n",
      "Requirement already satisfied: transformers>=4.25.1 in ./env/lib/python3.10/site-packages (from unstructured-inference>=0.8.10->unstructured[all-docs]->-r requirements.txt (line 1)) (4.51.3)\n",
      "Requirement already satisfied: python-multipart in ./env/lib/python3.10/site-packages (from unstructured-inference>=0.8.10->unstructured[all-docs]->-r requirements.txt (line 1)) (0.0.20)\n",
      "Requirement already satisfied: timm in ./env/lib/python3.10/site-packages (from unstructured-inference>=0.8.10->unstructured[all-docs]->-r requirements.txt (line 1)) (1.0.15)\n",
      "Requirement already satisfied: scipy in ./env/lib/python3.10/site-packages (from unstructured-inference>=0.8.10->unstructured[all-docs]->-r requirements.txt (line 1)) (1.15.2)\n",
      "Requirement already satisfied: uvloop!=0.15.0,!=0.15.1,>=0.14.0 in ./env/lib/python3.10/site-packages (from uvicorn[standard]>=0.18.3->chromadb->-r requirements.txt (line 4)) (0.21.0)\n",
      "Requirement already satisfied: watchfiles>=0.13 in ./env/lib/python3.10/site-packages (from uvicorn[standard]>=0.18.3->chromadb->-r requirements.txt (line 4)) (1.0.5)\n",
      "Requirement already satisfied: websockets>=10.4 in ./env/lib/python3.10/site-packages (from uvicorn[standard]>=0.18.3->chromadb->-r requirements.txt (line 4)) (15.0.1)\n",
      "Requirement already satisfied: httptools>=0.6.3 in ./env/lib/python3.10/site-packages (from uvicorn[standard]>=0.18.3->chromadb->-r requirements.txt (line 4)) (0.6.4)\n",
      "Requirement already satisfied: soupsieve>1.2 in ./env/lib/python3.10/site-packages (from beautifulsoup4->unstructured[all-docs]->-r requirements.txt (line 1)) (2.7)\n",
      "Requirement already satisfied: torchvision in ./env/lib/python3.10/site-packages (from effdet->unstructured[all-docs]->-r requirements.txt (line 1)) (0.22.0)\n",
      "Requirement already satisfied: omegaconf>=2.0 in ./env/lib/python3.10/site-packages (from effdet->unstructured[all-docs]->-r requirements.txt (line 1)) (2.3.0)\n",
      "Requirement already satisfied: pycocotools>=2.0.2 in ./env/lib/python3.10/site-packages (from effdet->unstructured[all-docs]->-r requirements.txt (line 1)) (2.0.8)\n",
      "Requirement already satisfied: proto-plus<2.0.0,>=1.22.3 in ./env/lib/python3.10/site-packages (from google-cloud-vision->unstructured[all-docs]->-r requirements.txt (line 1)) (1.26.1)\n",
      "Requirement already satisfied: google-api-core[grpc]!=2.0.*,!=2.1.*,!=2.10.*,!=2.2.*,!=2.3.*,!=2.4.*,!=2.5.*,!=2.6.*,!=2.7.*,!=2.8.*,!=2.9.*,<3.0.0,>=1.34.1 in ./env/lib/python3.10/site-packages (from google-cloud-vision->unstructured[all-docs]->-r requirements.txt (line 1)) (2.24.2)\n",
      "Requirement already satisfied: webencodings in ./env/lib/python3.10/site-packages (from html5lib->unstructured[all-docs]->-r requirements.txt (line 1)) (0.5.1)\n",
      "Requirement already satisfied: joblib in ./env/lib/python3.10/site-packages (from nltk->unstructured[all-docs]->-r requirements.txt (line 1)) (1.4.2)\n",
      "Requirement already satisfied: et-xmlfile in ./env/lib/python3.10/site-packages (from openpyxl->unstructured[all-docs]->-r requirements.txt (line 1)) (2.0.0)\n",
      "Requirement already satisfied: pytz>=2020.1 in ./env/lib/python3.10/site-packages (from pandas->unstructured[all-docs]->-r requirements.txt (line 1)) (2025.2)\n",
      "Requirement already satisfied: tzdata>=2022.7 in ./env/lib/python3.10/site-packages (from pandas->unstructured[all-docs]->-r requirements.txt (line 1)) (2025.2)\n",
      "Requirement already satisfied: cryptography>=36.0.0 in ./env/lib/python3.10/site-packages (from pdfminer.six->unstructured[all-docs]->-r requirements.txt (line 1)) (44.0.2)\n",
      "Requirement already satisfied: olefile in ./env/lib/python3.10/site-packages (from python-oxmsg->unstructured[all-docs]->-r requirements.txt (line 1)) (0.47)\n",
      "Requirement already satisfied: nest-asyncio>=1.6.0 in ./env/lib/python3.10/site-packages (from unstructured-client->unstructured[all-docs]->-r requirements.txt (line 1)) (1.6.0)\n",
      "Requirement already satisfied: aiofiles>=24.1.0 in ./env/lib/python3.10/site-packages (from unstructured-client->unstructured[all-docs]->-r requirements.txt (line 1)) (24.1.0)\n",
      "Requirement already satisfied: eval-type-backport>=0.2.0 in ./env/lib/python3.10/site-packages (from unstructured-client->unstructured[all-docs]->-r requirements.txt (line 1)) (0.2.2)\n",
      "Requirement already satisfied: cffi>=1.12 in ./env/lib/python3.10/site-packages (from cryptography>=36.0.0->pdfminer.six->unstructured[all-docs]->-r requirements.txt (line 1)) (1.17.1)\n",
      "Requirement already satisfied: grpcio-status<2.0.dev0,>=1.33.2 in ./env/lib/python3.10/site-packages (from google-api-core[grpc]!=2.0.*,!=2.1.*,!=2.10.*,!=2.2.*,!=2.3.*,!=2.4.*,!=2.5.*,!=2.6.*,!=2.7.*,!=2.8.*,!=2.9.*,<3.0.0,>=1.34.1->google-cloud-vision->unstructured[all-docs]->-r requirements.txt (line 1)) (1.71.0)\n",
      "Requirement already satisfied: rsa<5,>=3.1.4 in ./env/lib/python3.10/site-packages (from google-auth>=1.0.1->kubernetes>=28.1.0->chromadb->-r requirements.txt (line 4)) (4.9.1)\n",
      "Requirement already satisfied: cachetools<6.0,>=2.0.0 in ./env/lib/python3.10/site-packages (from google-auth>=1.0.1->kubernetes>=28.1.0->chromadb->-r requirements.txt (line 4)) (5.5.2)\n",
      "Requirement already satisfied: pyasn1-modules>=0.2.1 in ./env/lib/python3.10/site-packages (from google-auth>=1.0.1->kubernetes>=28.1.0->chromadb->-r requirements.txt (line 4)) (0.4.2)\n",
      "Requirement already satisfied: fsspec>=2023.5.0 in ./env/lib/python3.10/site-packages (from huggingface-hub<1.0,>=0.16.4->tokenizers>=0.13.2->chromadb->-r requirements.txt (line 4)) (2025.3.2)\n",
      "Requirement already satisfied: filelock in ./env/lib/python3.10/site-packages (from huggingface-hub<1.0,>=0.16.4->tokenizers>=0.13.2->chromadb->-r requirements.txt (line 4)) (3.18.0)\n",
      "Requirement already satisfied: zipp>=3.20 in ./env/lib/python3.10/site-packages (from importlib-metadata<8.7.0,>=6.0->opentelemetry-api>=1.2.0->chromadb->-r requirements.txt (line 4)) (3.21.0)\n",
      "Requirement already satisfied: jsonpointer>=1.9 in ./env/lib/python3.10/site-packages (from jsonpatch<2.0,>=1.33->langchain-core<1.0.0,>=0.3.55->langchain->-r requirements.txt (line 6)) (3.0.0)\n",
      "Requirement already satisfied: mdurl~=0.1 in ./env/lib/python3.10/site-packages (from markdown-it-py>=2.2.0->rich>=10.11.0->chromadb->-r requirements.txt (line 4)) (0.1.2)\n",
      "Requirement already satisfied: antlr4-python3-runtime==4.9.* in ./env/lib/python3.10/site-packages (from omegaconf>=2.0->effdet->unstructured[all-docs]->-r requirements.txt (line 1)) (4.9.3)\n",
      "Requirement already satisfied: contourpy>=1.0.1 in ./env/lib/python3.10/site-packages (from matplotlib->unstructured-inference>=0.8.10->unstructured[all-docs]->-r requirements.txt (line 1)) (1.3.2)\n",
      "Requirement already satisfied: fonttools>=4.22.0 in ./env/lib/python3.10/site-packages (from matplotlib->unstructured-inference>=0.8.10->unstructured[all-docs]->-r requirements.txt (line 1)) (4.57.0)\n",
      "Requirement already satisfied: cycler>=0.10 in ./env/lib/python3.10/site-packages (from matplotlib->unstructured-inference>=0.8.10->unstructured[all-docs]->-r requirements.txt (line 1)) (0.12.1)\n",
      "Requirement already satisfied: kiwisolver>=1.3.1 in ./env/lib/python3.10/site-packages (from matplotlib->unstructured-inference>=0.8.10->unstructured[all-docs]->-r requirements.txt (line 1)) (1.4.8)\n",
      "Requirement already satisfied: pyparsing>=2.3.1 in ./env/lib/python3.10/site-packages (from matplotlib->unstructured-inference>=0.8.10->unstructured[all-docs]->-r requirements.txt (line 1)) (3.2.3)\n",
      "Requirement already satisfied: safetensors in ./env/lib/python3.10/site-packages (from timm->unstructured-inference>=0.8.10->unstructured[all-docs]->-r requirements.txt (line 1)) (0.5.3)\n",
      "Requirement already satisfied: nvidia-curand-cu12==10.3.7.77 in ./env/lib/python3.10/site-packages (from torch->unstructured-inference>=0.8.10->unstructured[all-docs]->-r requirements.txt (line 1)) (10.3.7.77)\n",
      "Requirement already satisfied: jinja2 in ./env/lib/python3.10/site-packages (from torch->unstructured-inference>=0.8.10->unstructured[all-docs]->-r requirements.txt (line 1)) (3.1.6)\n",
      "Requirement already satisfied: triton==3.3.0 in ./env/lib/python3.10/site-packages (from torch->unstructured-inference>=0.8.10->unstructured[all-docs]->-r requirements.txt (line 1)) (3.3.0)\n",
      "Requirement already satisfied: nvidia-cudnn-cu12==9.5.1.17 in ./env/lib/python3.10/site-packages (from torch->unstructured-inference>=0.8.10->unstructured[all-docs]->-r requirements.txt (line 1)) (9.5.1.17)\n",
      "Requirement already satisfied: nvidia-cusolver-cu12==11.7.1.2 in ./env/lib/python3.10/site-packages (from torch->unstructured-inference>=0.8.10->unstructured[all-docs]->-r requirements.txt (line 1)) (11.7.1.2)\n",
      "Requirement already satisfied: nvidia-nvtx-cu12==12.6.77 in ./env/lib/python3.10/site-packages (from torch->unstructured-inference>=0.8.10->unstructured[all-docs]->-r requirements.txt (line 1)) (12.6.77)\n",
      "Requirement already satisfied: nvidia-nccl-cu12==2.26.2 in ./env/lib/python3.10/site-packages (from torch->unstructured-inference>=0.8.10->unstructured[all-docs]->-r requirements.txt (line 1)) (2.26.2)\n",
      "Requirement already satisfied: nvidia-cuda-cupti-cu12==12.6.80 in ./env/lib/python3.10/site-packages (from torch->unstructured-inference>=0.8.10->unstructured[all-docs]->-r requirements.txt (line 1)) (12.6.80)\n",
      "Requirement already satisfied: nvidia-cublas-cu12==12.6.4.1 in ./env/lib/python3.10/site-packages (from torch->unstructured-inference>=0.8.10->unstructured[all-docs]->-r requirements.txt (line 1)) (12.6.4.1)\n",
      "Requirement already satisfied: nvidia-cusparse-cu12==12.5.4.2 in ./env/lib/python3.10/site-packages (from torch->unstructured-inference>=0.8.10->unstructured[all-docs]->-r requirements.txt (line 1)) (12.5.4.2)\n",
      "Requirement already satisfied: nvidia-nvjitlink-cu12==12.6.85 in ./env/lib/python3.10/site-packages (from torch->unstructured-inference>=0.8.10->unstructured[all-docs]->-r requirements.txt (line 1)) (12.6.85)\n",
      "Requirement already satisfied: nvidia-cuda-nvrtc-cu12==12.6.77 in ./env/lib/python3.10/site-packages (from torch->unstructured-inference>=0.8.10->unstructured[all-docs]->-r requirements.txt (line 1)) (12.6.77)\n",
      "Requirement already satisfied: nvidia-cuda-runtime-cu12==12.6.77 in ./env/lib/python3.10/site-packages (from torch->unstructured-inference>=0.8.10->unstructured[all-docs]->-r requirements.txt (line 1)) (12.6.77)\n",
      "Requirement already satisfied: nvidia-cusparselt-cu12==0.6.3 in ./env/lib/python3.10/site-packages (from torch->unstructured-inference>=0.8.10->unstructured[all-docs]->-r requirements.txt (line 1)) (0.6.3)\n",
      "Requirement already satisfied: nvidia-cufile-cu12==1.11.1.6 in ./env/lib/python3.10/site-packages (from torch->unstructured-inference>=0.8.10->unstructured[all-docs]->-r requirements.txt (line 1)) (1.11.1.6)\n",
      "Requirement already satisfied: nvidia-cufft-cu12==11.3.0.4 in ./env/lib/python3.10/site-packages (from torch->unstructured-inference>=0.8.10->unstructured[all-docs]->-r requirements.txt (line 1)) (11.3.0.4)\n",
      "Requirement already satisfied: setuptools>=40.8.0 in ./env/lib/python3.10/site-packages (from triton==3.3.0->torch->unstructured-inference>=0.8.10->unstructured[all-docs]->-r requirements.txt (line 1)) (65.5.0)\n",
      "Requirement already satisfied: mpmath<1.4,>=1.1.0 in ./env/lib/python3.10/site-packages (from sympy->onnxruntime>=1.19.0->unstructured[all-docs]->-r requirements.txt (line 1)) (1.3.0)\n",
      "Requirement already satisfied: mypy-extensions>=0.3.0 in ./env/lib/python3.10/site-packages (from typing-inspect<1,>=0.4.0->dataclasses-json->unstructured[all-docs]->-r requirements.txt (line 1)) (1.1.0)\n",
      "Requirement already satisfied: humanfriendly>=9.1 in ./env/lib/python3.10/site-packages (from coloredlogs->onnxruntime>=1.19.0->unstructured[all-docs]->-r requirements.txt (line 1)) (10.0)\n",
      "Requirement already satisfied: pycparser in ./env/lib/python3.10/site-packages (from cffi>=1.12->cryptography>=36.0.0->pdfminer.six->unstructured[all-docs]->-r requirements.txt (line 1)) (2.22)\n",
      "Requirement already satisfied: pyasn1<0.7.0,>=0.6.1 in ./env/lib/python3.10/site-packages (from pyasn1-modules>=0.2.1->google-auth>=1.0.1->kubernetes>=28.1.0->chromadb->-r requirements.txt (line 4)) (0.6.1)\n",
      "Requirement already satisfied: MarkupSafe>=2.0 in ./env/lib/python3.10/site-packages (from jinja2->torch->unstructured-inference>=0.8.10->unstructured[all-docs]->-r requirements.txt (line 1)) (3.0.2)\n",
      "\n",
      "\u001b[1m[\u001b[0m\u001b[34;49mnotice\u001b[0m\u001b[1;39;49m]\u001b[0m\u001b[39;49m A new release of pip is available: \u001b[0m\u001b[31;49m23.0.1\u001b[0m\u001b[39;49m -> \u001b[0m\u001b[32;49m25.1\u001b[0m\n",
      "\u001b[1m[\u001b[0m\u001b[34;49mnotice\u001b[0m\u001b[1;39;49m]\u001b[0m\u001b[39;49m To update, run: \u001b[0m\u001b[32;49mpip install --upgrade pip\u001b[0m\n",
      "Note: you may need to restart the kernel to use updated packages.\n"
     ]
    }
   ],
   "source": [
    "%pip install -r requirements.txt\n"
   ]
  },
  {
   "cell_type": "code",
   "execution_count": 47,
   "id": "ce91e8a3-8b31-4ed7-9045-6bba213fac6d",
   "metadata": {},
   "outputs": [
    {
     "name": "stdout",
     "output_type": "stream",
     "text": [
      "wena wena perritoooo\n"
     ]
    }
   ],
   "source": [
    "print(\"wena wena perritoooo\")"
   ]
  },
  {
   "cell_type": "markdown",
   "id": "5261d9b9",
   "metadata": {},
   "source": [
    "Start debugger"
   ]
  },
  {
   "cell_type": "code",
   "execution_count": null,
   "id": "91106e31",
   "metadata": {
    "id": "91106e31",
    "outputId": "fb35d92c-c338-4b78-bacb-5da648093f6e"
   },
   "outputs": [],
   "source": [
    "import os\n",
    "\n",
    "# keys for the services we will use\n",
    "\n",
    "os.environ[\"LANGCHAIN_TRACING_V2\"] = \"true\""
   ]
  },
  {
   "cell_type": "code",
   "execution_count": 51,
   "id": "a64b88c9",
   "metadata": {},
   "outputs": [
    {
     "name": "stdout",
     "output_type": "stream",
     "text": [
      "True\n",
      "NVIDIA GeForce GTX 1660 Ti\n"
     ]
    }
   ],
   "source": [
    "import torch\n",
    "\n",
    "print(torch.cuda.is_available())  # Debe devolver True\n",
    "print(torch.cuda.get_device_name(0))  # Nombre de tu GPU\n",
    "\n",
    "torch.cuda.empty_cache()"
   ]
  },
  {
   "cell_type": "markdown",
   "id": "74b56bde-1ba0-4525-a11d-cab02c5659e4",
   "metadata": {
    "id": "74b56bde-1ba0-4525-a11d-cab02c5659e4"
   },
   "source": [
    "## Extract the data\n",
    "\n",
    "Extract the elements of the PDF that we will be able to use in the retrieval process. These elements can be: Text, Images, Tables, etc."
   ]
  },
  {
   "cell_type": "markdown",
   "id": "e62ec070",
   "metadata": {
    "id": "e62ec070"
   },
   "source": [
    "### Partition PDF tables, text, and images"
   ]
  },
  {
   "cell_type": "code",
   "execution_count": 61,
   "id": "0a046528-8d22-4f4e-a520-962026562939",
   "metadata": {
    "colab": {
     "base_uri": "https://localhost:8080/",
     "height": 308,
     "referenced_widgets": [
      "5246faf4e8194647a4b41d9de5a168f6",
      "c8f31460d7d5420db2c7840e287fac5b",
      "2ee43f14fa654a66ad0cfb559826f266",
      "e7e6388db19d47ceb06afc75fbb8486c",
      "922be25533bd448e9ce92614f7bd2677",
      "f63ee7f4234c45d48829e011f24eafde",
      "f8bcfb1381aa46d89034ea50e30b43cf",
      "00b164fb36864e53a8a73710d7d855cc",
      "64a0c4aa0bba4b6f8e8f5775a4341147",
      "2bcca7acc6f047d6ad4efbf1e5333c58",
      "052ec73371404595b7dec973dda308d4",
      "b12ba9f2111c44eeb5ae65820cc7d5d7",
      "15b9261bb07f4bbb95d276b92feabade",
      "5ffb0b594f51466284af380fd4d47b40",
      "fc994e0c5ced45c78c0b9bb6f19c073f",
      "c58471c60519419e9cdb3c7ff174d702",
      "0e7ed203dde24ec9a8d0f9c95a8877fd",
      "e64cfd87330d4b238596da66db63d984",
      "c13aff2b064743be941b4672550e56c9",
      "ef5fba5f330748faa9bd583d637087a6",
      "daabde9b4b764797af6b96370e40c1d2",
      "7d37b6f0ba8b4c5eb875635b98778d26",
      "a9a67e81e91e46e19b23f58dea634525",
      "2045ffddb5c4407f9235d1bf472e9ba5",
      "2df0c4cc59044ec8a59aadf2d5d2a9c9",
      "3095817ccc8f4ec6bae9b0c201d8e40a",
      "93205e664daa4921959605eb99dfa9cc",
      "9eab400a02dc46269e2537db44a78625",
      "415ddcb74bc2467fa9399039b7d0cafb",
      "b2fc825e7e6949e0a18f491ff261ac2b",
      "df6e6c84cc1c4c7b8cf5f8555eb42166",
      "547eb1582628438c9f0ef01554dfcdb4",
      "40b532d4d85740a2a16251bb321f489a",
      "ef897646c62444929b91935d3917b14d",
      "3bd05fe4e6bd4ea2b7bfcfba705369c5",
      "27e36e7f92d7417bb221fa95406cfb2f",
      "21318da3ae0644c28ec63983a34bd2ee",
      "c428c0bd915d455986b3193e9636ea80",
      "01ef4b60c3144e17afffb86281466bab",
      "3494ef9884224fa9a0a65999d7fc2945",
      "7185b40a7fa74088ad7ff6efb524e6b5",
      "cc6672c78dac468d9264efd90902c87d",
      "7ad056a7d71847d498f270ecac5cbf62",
      "309bad22d08c47af8d51942da599328e"
     ]
    },
    "id": "0a046528-8d22-4f4e-a520-962026562939",
    "outputId": "85bfb6b1-557f-4d4d-be94-b0c7200150e2",
    "scrolled": true
   },
   "outputs": [],
   "source": [
    "from unstructured.partition.pdf import partition_pdf\n",
    "\n",
    "output_path = \"./research_docs/\"\n",
    "image_output_path = output_path + \"images/\"\n",
    "file_path = output_path + \"covid192.pdf\"\n",
    "file_path_2 = output_path + \"Dialnet-InvestigacionCientificaDeCOVID19DesdeElAmbitoEmpre-9735586.pdf\"\n",
    "file_path_3 = output_path + \"Evidence_Summary_of_Sputnik_V_Gam-COVID-Vac_COVID-19_Vaccine_12_April_2021 TABLAS.pdf\"\n",
    "file_path_4 = output_path + \"TABLAS CICLO_MEDIO_Y_SUPERIOR-_Cuadros_comparativos.pdf\"\n",
    "\n",
    "# Reference: https://docs.unstructured.io/open-source/core-functionality/chunking\n",
    "chunks = partition_pdf(\n",
    "    filename=file_path_4,\n",
    "    infer_table_structure=True,  # extract tables\n",
    "    # skip_infer_table_types=False,\n",
    "    strategy=\"hi_res\",  # mandatory to infer tables\n",
    "    extract_image_block_types=[\"Image\", \"Table\"],  # Add 'Table' to list to extract image of tables\n",
    "    image_output_dir_path=image_output_path,  # if None, images and tables will saved in base64\n",
    "    extract_image_block_to_payload=True,  # if true, will extract base64 for API usage\n",
    "    chunking_strategy=\"by_title\",  # or 'basic'\n",
    "    max_characters=10000,  # defaults to 500\n",
    "    combine_text_under_n_chars=2000,  # defaults to 0\n",
    "    new_after_n_chars=6000,\n",
    "    # extract_images_in_pdf=True,          # deprecated\n",
    ")"
   ]
  },
  {
   "cell_type": "code",
   "execution_count": 53,
   "id": "038f6733",
   "metadata": {
    "id": "038f6733",
    "outputId": "9645206b-5b1d-45b5-ae1d-1883d78247f6"
   },
   "outputs": [
    {
     "data": {
      "text/plain": [
       "{\"<class 'unstructured.documents.elements.CompositeElement'>\"}"
      ]
     },
     "execution_count": 53,
     "metadata": {},
     "output_type": "execute_result"
    }
   ],
   "source": [
    "# We get 2 types of elements from the partition_pdf function\n",
    "set([str(type(el)) for el in chunks])"
   ]
  },
  {
   "cell_type": "code",
   "execution_count": 54,
   "id": "cccca0db",
   "metadata": {
    "id": "cccca0db",
    "outputId": "46f33bf2-d1d8-4bef-a0bf-d903ae2179d3"
   },
   "outputs": [
    {
     "name": "stdout",
     "output_type": "stream",
     "text": [
      "size: 3 chunks: [<unstructured.documents.elements.CompositeElement object at 0x7fd1c22c5990>, <unstructured.documents.elements.CompositeElement object at 0x7fd1c22c6e00>, <unstructured.documents.elements.CompositeElement object at 0x7fd1c22c61d0>]\n"
     ]
    }
   ],
   "source": [
    "# Each CompositeElement containes a bunch of related elements.\n",
    "# This makes it easy to use these elements together in a RAG pipeline.\n",
    "\n",
    "print(f\"size: {len(chunks)} chunks: {chunks}\")\n",
    "# print(chunks[0].metadata.to_dict())"
   ]
  },
  {
   "cell_type": "code",
   "execution_count": 55,
   "id": "b8766f03",
   "metadata": {
    "id": "b8766f03",
    "outputId": "8bd43211-e0a6-4d35-833e-ee7cb374c9b6"
   },
   "outputs": [
    {
     "data": {
      "text/plain": [
       "14"
      ]
     },
     "execution_count": 55,
     "metadata": {},
     "output_type": "execute_result"
    }
   ],
   "source": [
    "# This is what an extracted image looks like.\n",
    "# It contains the base64 representation only because we set the param extract_image_block_to_payload=True\n",
    "elements = chunks[0].metadata.orig_elements\n",
    "chunk_images = [el for el in elements if 'Image' in str(type(el))]\n",
    "len(chunk_images)"
   ]
  },
  {
   "cell_type": "code",
   "execution_count": 57,
   "id": "da86c8b5",
   "metadata": {
    "tags": [
     "sssasda"
    ]
   },
   "outputs": [
    {
     "data": {
      "image/jpeg": "[encoded data removed]",
      "text/plain": [
       "<IPython.core.display.Image object>"
      ]
     },
     "metadata": {},
     "output_type": "display_data"
    }
   ],
   "source": [
    "import base64\n",
    "from IPython.display import Image, display\n",
    "\n",
    "\n",
    "def display_base64_image(base64_code):\n",
    "    # Decode the base64 string to binary\n",
    "    image_data = base64.b64decode(base64_code)\n",
    "    # Display the image\n",
    "    display(Image(data=image_data))\n",
    "\n",
    "\n",
    "imageb64 = chunk_images[10].to_dict()[\"metadata\"][\"image_base64\"]\n",
    "\n",
    "display_base64_image(imageb64)"
   ]
  },
  {
   "cell_type": "code",
   "execution_count": null,
   "id": "25b32414",
   "metadata": {},
   "outputs": [
    {
     "name": "stdout",
     "output_type": "stream",
     "text": [
      "Number of pages: 7\n",
      "Error reading page 1: module 'tabula' has no attribute 'read_pdf'\n",
      "Error reading page 2: module 'tabula' has no attribute 'read_pdf'\n",
      "Error reading page 3: module 'tabula' has no attribute 'read_pdf'\n",
      "Error reading page 4: module 'tabula' has no attribute 'read_pdf'\n",
      "Error reading page 5: module 'tabula' has no attribute 'read_pdf'\n",
      "Error reading page 6: module 'tabula' has no attribute 'read_pdf'\n",
      "Error reading page 7: module 'tabula' has no attribute 'read_pdf'\n",
      "Error reading page 1: module 'tabula' has no attribute 'read_pdf'\n",
      "Error reading page 2: module 'tabula' has no attribute 'read_pdf'\n",
      "Error reading page 3: module 'tabula' has no attribute 'read_pdf'\n",
      "Error reading page 4: module 'tabula' has no attribute 'read_pdf'\n",
      "Error reading page 5: module 'tabula' has no attribute 'read_pdf'\n",
      "Error reading page 6: module 'tabula' has no attribute 'read_pdf'\n",
      "Error reading page 7: module 'tabula' has no attribute 'read_pdf'\n"
     ]
    }
   ],
   "source": [
    "from PyPDF2 import PdfReader \n",
    "import tabula\n",
    "\n",
    "  \n",
    "reader = PdfReader(file_path_4)\n",
    "\n",
    "num_pages=len(reader.pages)\n",
    "print(f\"Number of pages: {num_pages}\")\n",
    "\n",
    "# Extract tables from the PDF, first reading with PyPDF2\n",
    "tables = []\n",
    "for i in range(1,num_pages+1):\n",
    "    try:\n",
    "        # get tables from given page\n",
    "        tables=tabula.read_pdf(file_path_4, pages=i)\n",
    "        # check if tables exist\n",
    "        if len(tables)>0:\n",
    "            for table in tables:# loop through each table\n",
    "                # check if the table has at least 1 row and 2 columns\n",
    "                if table.shape[0]>1 and table.shape[1]>1:\n",
    "                    table_before=table.copy()\n",
    "                    # remove empty columns\n",
    "                    table=table.dropna(axis=1, how='all')\n",
    "                    # remove empty rows\n",
    "                    table=table.dropna(axis=0, how='all')\n",
    "                    # check if the table has at least 1 row and 2 columns\n",
    "                    if table.shape[0]>1 and table.shape[1]>1:\n",
    "                        # check if the table has at least 1 row and 2 columns\n",
    "                        print(f\"Table found on page {i}:\")\n",
    "                        print(table)\n",
    "                        # save the table to a CSV file\n",
    "                        table.to_csv(f\"table_page_{i}.csv\", index=False)\n",
    "                    else:\n",
    "                        print(f\"Table on page {i} is empty after cleaning.\")\n",
    "                else:\n",
    "                    print(f\"Table on page {i} is empty.\")\n",
    "    except Exception as e:\n",
    "        print(f\"Error reading page {i}: {e}\")\n",
    "        continue\n",
    "\n"
   ]
  },
  {
   "cell_type": "markdown",
   "id": "26caebda",
   "metadata": {
    "id": "26caebda"
   },
   "source": [
    "### Separate extracted elements into tables, text, and images"
   ]
  },
  {
   "cell_type": "code",
   "execution_count": 59,
   "id": "8326a750",
   "metadata": {
    "id": "8326a750"
   },
   "outputs": [
    {
     "name": "stdout",
     "output_type": "stream",
     "text": [
      "size: 3 chunks: [<unstructured.documents.elements.Title object at 0x7fd1c206fb80>, <unstructured.documents.elements.Image object at 0x7fd1c2068040>, <unstructured.documents.elements.NarrativeText object at 0x7fd1c2068610>, <unstructured.documents.elements.Image object at 0x7fd1c206ef20>, <unstructured.documents.elements.Image object at 0x7fd1cbff8340>, <unstructured.documents.elements.Image object at 0x7fd1c2069270>, <unstructured.documents.elements.Title object at 0x7fd1c2069570>, <unstructured.documents.elements.Image object at 0x7fd1c2068d00>, <unstructured.documents.elements.NarrativeText object at 0x7fd1c20688e0>, <unstructured.documents.elements.Title object at 0x7fd1c2068be0>, <unstructured.documents.elements.NarrativeText object at 0x7fd1c2068f40>, <unstructured.documents.elements.NarrativeText object at 0x7fd1c206a2c0>, <unstructured.documents.elements.Title object at 0x7fd14b5b2650>, <unstructured.documents.elements.NarrativeText object at 0x7fd14b5b3d60>, <unstructured.documents.elements.Image object at 0x7fd1c2348a60>, <unstructured.documents.elements.NarrativeText object at 0x7fd1c2348f40>, <unstructured.documents.elements.Table object at 0x7fd1c234b400>, <unstructured.documents.elements.Image object at 0x7fd1c2069750>, <unstructured.documents.elements.Image object at 0x7fd1c206bcd0>, <unstructured.documents.elements.Image object at 0x7fd1c206ac50>, <unstructured.documents.elements.NarrativeText object at 0x7fd1c206b850>, <unstructured.documents.elements.Table object at 0x7fd14b5b36d0>, <unstructured.documents.elements.Image object at 0x7fd1c206f160>, <unstructured.documents.elements.NarrativeText object at 0x7fd1c2349bd0>, <unstructured.documents.elements.Table object at 0x7fd1c234ae60>, <unstructured.documents.elements.Image object at 0x7fd1c234b310>, <unstructured.documents.elements.Title object at 0x7fd1c206dde0>, <unstructured.documents.elements.Image object at 0x7fd1c2348340>, <unstructured.documents.elements.ListItem object at 0x7fd1c234bfd0>, <unstructured.documents.elements.Image object at 0x7fd1cbff96f0>, <unstructured.documents.elements.Image object at 0x7fd1c206a620>, <unstructured.documents.elements.Image object at 0x7fd1c234a6b0>]\n",
      "size: 0 tables: []\n"
     ]
    }
   ],
   "source": [
    "# separate tables from texts\n",
    "tables = []\n",
    "texts = []\n",
    "\n",
    "print(f\"size: {len(chunks)} chunks: {chunks[1].metadata.orig_elements}\")\n",
    "for chunk in chunks:\n",
    "    if \"Table\" in str(type(chunk)):\n",
    "        tables.append(chunk)\n",
    "\n",
    "    if \"CompositeElement\" in str(type((chunk))):\n",
    "        texts.append(chunk)\n",
    "\n",
    "print(f\"size: {len(tables)} tables: {tables}\")"
   ]
  },
  {
   "cell_type": "code",
   "execution_count": 26,
   "id": "df548e46",
   "metadata": {
    "id": "df548e46"
   },
   "outputs": [],
   "source": [
    "# Get the images from the CompositeElement objects\n",
    "def get_images_base64(chunks):\n",
    "    images_b64 = []\n",
    "    for chunk in chunks:\n",
    "        if \"CompositeElement\" in str(type(chunk)):\n",
    "            chunk_els = chunk.metadata.orig_elements\n",
    "            for el in chunk_els:\n",
    "                if \"Image\" in str(type(el)):\n",
    "                    images_b64.append(el.metadata.image_base64)\n",
    "    return images_b64\n",
    "\n",
    "images = get_images_base64(chunks)"
   ]
  },
  {
   "cell_type": "markdown",
   "id": "9582f462",
   "metadata": {
    "id": "9582f462"
   },
   "source": [
    "#### Check what the images look like"
   ]
  },
  {
   "cell_type": "code",
   "execution_count": 28,
   "id": "83158c36",
   "metadata": {
    "id": "83158c36",
    "outputId": "50ba7432-e879-4a64-e9f4-b47fdbeb0fbf"
   },
   "outputs": [
    {
     "ename": "IndexError",
     "evalue": "list index out of range",
     "output_type": "error",
     "traceback": [
      "\u001b[0;31m---------------------------------------------------------------------------\u001b[0m",
      "\u001b[0;31mIndexError\u001b[0m                                Traceback (most recent call last)",
      "Cell \u001b[0;32mIn[28], line 1\u001b[0m\n\u001b[0;32m----> 1\u001b[0m display_base64_image(\u001b[43mimages\u001b[49m\u001b[43m[\u001b[49m\u001b[38;5;241;43m0\u001b[39;49m\u001b[43m]\u001b[49m)\n",
      "\u001b[0;31mIndexError\u001b[0m: list index out of range"
     ]
    }
   ],
   "source": [
    "display_base64_image(images[0])"
   ]
  },
  {
   "cell_type": "markdown",
   "id": "0aa7f52f-bf5c-4ba4-af72-b2ccba59a4cf",
   "metadata": {
    "id": "0aa7f52f-bf5c-4ba4-af72-b2ccba59a4cf"
   },
   "source": [
    "## Summarize the data\n",
    "\n",
    "Create a summary of each element extracted from the PDF. This summary will be vectorized and used in the retrieval process."
   ]
  },
  {
   "cell_type": "markdown",
   "id": "8b55862c",
   "metadata": {
    "id": "8b55862c"
   },
   "source": [
    "### Text and Table summaries\n",
    "\n",
    "We don't need a multimodal model to generate the summaries of the tables and the text. I will use open source models available on Groq."
   ]
  },
  {
   "cell_type": "code",
   "execution_count": 15,
   "id": "08b3d2bc",
   "metadata": {
    "id": "08b3d2bc",
    "outputId": "5c39beb3-2a0c-44b8-c2b2-48a4e451282c"
   },
   "outputs": [
    {
     "name": "stdout",
     "output_type": "stream",
     "text": [
      "\n",
      "\u001b[1m[\u001b[0m\u001b[34;49mnotice\u001b[0m\u001b[1;39;49m]\u001b[0m\u001b[39;49m A new release of pip is available: \u001b[0m\u001b[31;49m23.0.1\u001b[0m\u001b[39;49m -> \u001b[0m\u001b[32;49m25.1\u001b[0m\n",
      "\u001b[1m[\u001b[0m\u001b[34;49mnotice\u001b[0m\u001b[1;39;49m]\u001b[0m\u001b[39;49m To update, run: \u001b[0m\u001b[32;49mpip install --upgrade pip\u001b[0m\n",
      "Note: you may need to restart the kernel to use updated packages.\n"
     ]
    }
   ],
   "source": [
    "%pip install -Uq langchain-groq"
   ]
  },
  {
   "cell_type": "code",
   "execution_count": 30,
   "id": "523e6ed2-2132-4748-bdb7-db765f20648d",
   "metadata": {
    "id": "523e6ed2-2132-4748-bdb7-db765f20648d"
   },
   "outputs": [],
   "source": [
    "from langchain_core.prompts import ChatPromptTemplate\n",
    "from langchain_core.output_parsers import StrOutputParser\n",
    "\n",
    "from langchain_openai import ChatOpenAI\n",
    "import os\n"
   ]
  },
  {
   "cell_type": "code",
   "execution_count": 34,
   "id": "22c22e3f-42fb-4a4a-a87a-89f10ba8ab99",
   "metadata": {
    "id": "22c22e3f-42fb-4a4a-a87a-89f10ba8ab99"
   },
   "outputs": [],
   "source": [
    "# Prompt 1\n",
    "prompt_text1 = \"\"\"\n",
    "You are an assistant tasked with summarizing tables and text.\n",
    "Give a concise summary of the table or text.\n",
    "\n",
    "Respond only with the summary, no additionnal comment.\n",
    "Do not start your message by saying \"Here is a summary\" or anything like that.\n",
    "Just give the summary as it is.\n",
    "\n",
    "Table or text chunk: {element}\n",
    "\n",
    "\"\"\"\n",
    "# Prompt 2\n",
    "prompt_text2 = \"\"\"\n",
    "You are an assistant tasked with summarizing tables and only tables.\n",
    "Give a concise summary of the table, detailing the column name and the value.\n",
    "\n",
    "Respond only with the summary, no additionnal comment.\n",
    "Do not start your message by saying \"Here is a summary\" or anything like that.\n",
    "Just give the summary as it is.\n",
    "\n",
    "Table or text chunk: {element}\n",
    "\n",
    "\"\"\"\n",
    "prompt = ChatPromptTemplate.from_template(prompt_text2)\n",
    "\n",
    "# Summary chain\n",
    "# model = ChatGroq(temperature=0.5, model=\"llama-3.1-8b-instant\")\n",
    "OPENAI_API_KEY = os.environ[\"OPENAI_API_KEY\"]\n",
    "model = ChatOpenAI(temperature=0, openai_api_key=OPENAI_API_KEY, model=\"gpt-4o-mini\")\n",
    "summarize_chain = {\"element\": lambda x: x} | prompt | model | StrOutputParser()"
   ]
  },
  {
   "cell_type": "code",
   "execution_count": 37,
   "id": "f176b374-aef0-48f4-a104-fb26b1dd6922",
   "metadata": {
    "id": "f176b374-aef0-48f4-a104-fb26b1dd6922"
   },
   "outputs": [],
   "source": [
    "# Summarize text\n",
    "# text_summaries = summarize_chain.batch(texts, {\"max_concurrency\": 3})\n",
    "\n",
    "# Summarize tables\n",
    "tables_html = [table.metadata.text_as_html for table in tables]\n",
    "table_summaries = summarize_chain.batch(tables_html, {\"max_concurrency\": 3})"
   ]
  },
  {
   "cell_type": "code",
   "execution_count": 38,
   "id": "1d172ad2",
   "metadata": {
    "id": "1d172ad2",
    "outputId": "1ba65afb-c9cd-4503-c154-db7841dfc1d4"
   },
   "outputs": [
    {
     "data": {
      "text/plain": [
       "[]"
      ]
     },
     "execution_count": 38,
     "metadata": {},
     "output_type": "execute_result"
    }
   ],
   "source": [
    "# text_summaries\n",
    "table_summaries"
   ]
  },
  {
   "cell_type": "markdown",
   "id": "b1feadda-8171-4aed-9a60-320a88dc9ee1",
   "metadata": {
    "id": "b1feadda-8171-4aed-9a60-320a88dc9ee1"
   },
   "source": [
    "### Image summaries\n",
    "\n",
    "We will use gpt-4o-mini to produce the image summaries."
   ]
  },
  {
   "cell_type": "code",
   "execution_count": null,
   "id": "32c825e1",
   "metadata": {
    "id": "32c825e1",
    "outputId": "3ef8d057-2214-41e8-80e1-c5f902a01ac8"
   },
   "outputs": [
    {
     "name": "stdout",
     "output_type": "stream",
     "text": [
      "Note: you may need to restart the kernel to use updated packages.\n"
     ]
    }
   ],
   "source": [
    "%pip install -Uq langchain_openai"
   ]
  },
  {
   "cell_type": "code",
   "execution_count": 25,
   "id": "9e6b1d97-4245-45ac-95ba-9bc1cfd10182",
   "metadata": {
    "id": "9e6b1d97-4245-45ac-95ba-9bc1cfd10182"
   },
   "outputs": [],
   "source": [
    "from langchain_openai import ChatOpenAI\n",
    "\n",
    "prompt_template = \"\"\"Describe the image in detail. For context,\n",
    "                  the image is part of a research paper explaining the content of the image. Be specific about graphics.\"\"\"\n",
    "messages = [\n",
    "    (\n",
    "        \"user\",\n",
    "        [\n",
    "            {\"type\": \"text\", \"text\": prompt_template},\n",
    "            {\n",
    "                \"type\": \"image_url\",\n",
    "                \"image_url\": {\"url\": \"data:image/jpeg;base64,{image}\"},\n",
    "            },\n",
    "        ],\n",
    "    )\n",
    "]\n",
    "\n",
    "prompt = ChatPromptTemplate.from_messages(messages)\n",
    "\n",
    "chain = prompt | ChatOpenAI(model=\"gpt-4o-mini\") | StrOutputParser()\n",
    "\n",
    "\n",
    "image_summaries = chain.batch(images)"
   ]
  },
  {
   "cell_type": "code",
   "execution_count": 26,
   "id": "laF_8o1gzHT0",
   "metadata": {
    "colab": {
     "base_uri": "https://localhost:8080/"
    },
    "id": "laF_8o1gzHT0",
    "outputId": "f82547af-0885-4d78-9f50-940dd9e6551e"
   },
   "outputs": [
    {
     "data": {
      "text/plain": [
       "['The image features a logo representing the \"Gaceta Médica Boliviana,\" which is a medical journal from Bolivia. The logo has a predominantly blue background, which conveys a sense of professionalism and trust. \\n\\nIn the logo, the letters \"G,\" \"M,\" and \"B\" are prominently displayed in white, arranged vertically in a stylized manner. The letters are intertwined, creating a cohesive graphic element that symbolizes the journal\\'s identity.\\n\\nAbove the initials, the full name \"GACETA MÉDICA BOLIVIANA\" is written out in uppercase white letters, spanning the width of the logo. This reinforces the recognition of the journal’s purpose and scope. \\n\\nAt the bottom right, the phrase \"Fundada en 1943\" is noted, subtly indicating the journal\\'s historical significance and longevity in the field of medical publishing.\\n\\nOverall, the graphic design is clean and minimalistic, focusing on clarity and easy recognition, aligning with the journal\\'s academic and professional context.',\n",
       " 'The image shows a Creative Commons logo consisting of several graphical elements used to indicate the licensing terms of a particular work. It features a circular icon on the left labeled \"CC,\" which stands for Creative Commons, symbolizing the type of license applied to the content.\\n\\nTo the right of the \"CC\" logo, there are three distinct symbols, each representing a specific aspect of the licensing terms:\\n\\n1. **Information Icon (circle with an \"i\")**: This symbol indicates that users can access additional information about the license. It usually leads to details regarding the use and conditions of the content.\\n   \\n2. **Non-Commercial Symbol (a dollar sign with a diagonal line through it)**: This graphic indicates that the material cannot be used for commercial purposes. Users can utilize the work but must refrain from making money from it.\\n\\n3. **Share-Alike Symbol (three arrows forming a circle)**: This symbol suggests that any derivative works created from the original must be licensed under identical terms. In other words, if the content is modified, it should be shared under the same non-commercial license.\\n\\nThe overall design of the logo is simple yet effective, using a grayscale color palette that enhances clarity and visibility. The arrangement of these elements serves to inform potential users about their rights and restrictions in a straightforward manner, making it an essential part of any work under Creative Commons licensing.',\n",
       " 'The image features a logo for reAlyc, which is a research platform. The design elements include the stylized text \"reAlyc.org,\" where:\\n\\n1. **Text Design**: The main part \"reAlyc\" is in lowercase letters, with \"A\" capitalized for emphasis. The font appears modern and clean, contributing to a professional aesthetic.\\n  \\n2. **Color Scheme**: The text is primarily presented in a light gray or subtle neutral tone, while a pronounced red element juxtaposes this—likely representing vitality or emphasis.\\n\\n3. **Graphic Element**: To the left of the text, there is an artistic representation of a red ribbon, which loops and intertwines with the letters. This ribbon may symbolize connection or continuity, implying the platform’s focus on collaboration and networking in research.\\n\\n4. **Overall Layout**: The logo is horizontally oriented, giving it a streamlined appearance that is typical for web and branding graphics.\\n\\nThis logo likely serves not just as a branding element but also provides visual cues about the organization\\'s mission, potentially indicating a focus on connectivity and accessibility in academia or research dissemination.',\n",
       " 'The image appears to be a minimalist logo or graphic representation, likely associated with a website or organization. It includes a combination of text and a symbolic graphic element.\\n\\n1. **Text Elements:**\\n   - The top part features the abbreviation \"UAEM,\" which might refer to an institution or organization.\\n   - Below it is the web address \"re&alyc.org.\" The text includes a stylized \"&\" symbol, which is integrated into the text flow, suggesting a connection between entities or concepts.\\n\\n2. **Graphic Elements:**\\n   - In the upper right corner, there is a simple geometric shape, possibly resembling a flag or some other indicator. This adds a layer of visual interest without overwhelming the overall design.\\n\\n3. **Color and Style:**\\n   - The image has a monochromatic or very softly contrasted color palette, likely using light gray against a white background, contributing to a clean and modern aesthetic.\\n\\n4. **Overall Design:**\\n   - The logo maintains a minimalist style, focusing on clarity and ease of recognition. The simplicity may suggest professionalism and a focus on research or academic endeavors.\\n\\nThis graphic likely serves as a branding element for the associated organization or initiative within a research context, emphasizing clarity and modern design principles.',\n",
       " \"The image appears to feature a simple graphic of an open padlock, depicted in a light gray color. The design emphasizes the shape of the padlock body and the shackle, which is clearly lifted, symbolizing an 'unlocked' state. The absence of intricate details suggests a minimalist approach aimed at conveying the concept of accessibility or availability easily.\\n\\nIn a research context, such an image could be used to represent various themes like open access in academic publishing or the idea of transparency in data sharing. Its straightforward appearance ensures clarity and can be easily understood without prior context. The choice of color may also contribute to conveying neutrality or a modern aesthetic, making it suitable for academic and professional presentations.\",\n",
       " 'The image features a simple and minimalistic design that includes text and a graphic element. At the bottom left, there is an abbreviation \"UAEM,\" which likely represents an organization or institution. The main text appears to be a combination of letters and symbols that form the website address \"re&alyc.org,\" indicating an online resource or platform.\\n\\nThe overall color scheme is subtle, utilizing a light background that enhances the readability of the text. A graphical element, represented by a small, stylized flag or triangular shape, is present in the upper right corner, adding a visual focal point to the design without overwhelming the text. \\n\\nThe font used is straightforward, emphasizing clarity and legibility. The usage of the ampersand \"&\" signifies a connection or collaboration, possibly hinting at the theme of the content associated with the website. \\n\\nIn summary, this image serves as a logo or branding element for the associated website, emphasizing a clean aesthetic while effectively conveying its identity.',\n",
       " 'The image appears to be a simple graphic representation of an unlocked padlock icon, typically associated with the concept of \"open access.\" \\n\\n### Description:\\n\\n1. **Design and Style**: \\n   - The padlock is depicted in a minimalist style, primarily using shades of gray. This choice suggests neutrality and can imply accessibility or freedom of information.\\n   - The lines are smooth and rounded, giving the padlock a modern appearance.\\n\\n2. **Structure**: \\n   - The padlock consists of two main parts: the body and the shackle.\\n   - The body of the lock is rectangular with rounded corners, while the shackle is a semicircular arch at the top, which is open, indicating that it is not locked.\\n\\n3. **Symbolism**: \\n   - The open padlock icon symbolizes the concept of unrestricted access, commonly used in contexts related to open access in research, data sharing, and transparent communication. It represents that the information or resources behind the image are freely available to the public.\\n\\n4. **Color Scheme**: \\n   - The grayscale color scheme emphasizes clarity and simplicity, making it easier for viewers to understand the intended message without distractions.\\n\\n5. **Usage Context**: \\n   - In a research paper, this image likely serves as a visual cue to convey themes of innovation, transparency, and the importance of sharing knowledge freely. It\\'s important for indicating sections or topics related to open access initiatives or policies.\\n\\nOverall, the image effectively communicates a core idea in research dissemination, staying aligned with modern design trends that favor minimalism and clarity.',\n",
       " 'The image is a multi-line graph depicting the annual evolution of the quantity of vaccines used, categorized by type over the three years: 2020, 2021, and 2022. \\n\\n### Graph Structure:\\n\\n1. **Axes**:\\n   - **Horizontal Axis (X-Axis)**: Represents the years, labeled as 2020, 2021, and 2022.\\n   - **Vertical Axis (Y-Axis)**: Represents the quantity of vaccines in billions, with values ranging from 0 to 80 billion.\\n\\n2. **Lines**:\\n   - There are five distinct lines, each representing a different type of vaccine. Each line has a unique color, facilitating differentiation:\\n     - **Line 1**: Light blue, representing the highest quantity of vaccines.\\n     - **Line 2**: Light green, showing slightly lower usage.\\n     - **Line 3**: Purple, indicating a significant yet lesser amount.\\n     - **Line 4**: Pink, representing another category.\\n     - **Line 5**: Red, representing the lowest quantity of vaccines.\\n\\n3. **Data Points**:\\n   - Each line is marked with circular data points for each year, showing the specific quantity of vaccines used in 2020, 2021, and 2022. The points appear to correspond smoothly to their respective lines, indicating trends over the years.\\n\\n4. **Background**:\\n   - Each row behind the lines is shaded with a gradient corresponding to the line colors, enhancing the visual clarity and making it easier to associate the lines with their respective vaccine types.\\n\\n5. **Labels**:\\n   - Each category of vaccine is labeled to the left of its respective line. The labels are presented in Spanish, indicating they are intended for a Spanish-speaking audience.\\n\\n### Overall Interpretation:\\nThe graph effectively conveys trends over three years, illustrating increases or decreases in vaccine usage across different types. The varying colors and clear layout allow for easy comparison between categories and years, indicating how vaccine distribution may have changed in response to various factors, potentially including public health initiatives or global events.',\n",
       " 'The image features a simplistic graphic design primarily comprising a logo or branding element. The logo appears to be a stylized textual representation that incorporates the letters “UAEM,” alongside a web address “realyc.org.” \\n\\n- **Color Scheme:** The design utilizes a very light color palette, predominantly featuring gray tones. The text and graphics have a faint appearance, suggesting a subtle and minimalistic approach.\\n\\n- **Typography:** The font seems modern and clean, with varying thicknesses that add a sense of depth to the letters. The portion \"realyc\" presents an intertwining of letters, specifically the \"a\" and \"y,\" creating a visually interesting connection. \\n\\n- **Graphic Element:** To the right of the text, there is a small illustration, likely a shape resembling a flag or banner, which adds a dynamic element to the composition. \\n\\n- **Overall Composition:** The layout is straightforward, placing emphasis on the text rather than overwhelming details. The design conveys a sense of professionalism and clarity, suitable for academic or research contexts.\\n\\nIn summary, the image effectively combines typography and minimalistic design elements to create a recognizable logo that serves as part of a broader research theme or organization.',\n",
       " 'The image features a gray, stylized open padlock icon. The padlock is depicted from a frontal perspective, displaying a circular body with a simplified design. The shackle of the lock is raised, signifying an \"unlocked\" status. The gray tone of the icon suggests a neutral or muted aesthetic, which may be intended to convey a sense of modernity or professionalism.\\n\\nThis icon could be used to represent concepts related to open access, transparency, or the unlocking of information. The simplicity of the design ensures that it is easily recognizable, making it suitable for academic or research contexts where clarity is essential.\\n\\nIn the context of a research paper, this icon may be associated with themes such as open data, accessibility of information, or collaboration within academic fields. The accompanying text around this icon could elaborate on the importance of these themes in the research, supporting the overall narrative of promoting openness in scholarly communication.',\n",
       " 'The image appears to be a logo or a graphical representation associated with the website \"realyc.org,\" which is likely affiliated with academic or research activities. \\n\\n1. **Text Elements**: \\n   - The letters “UAEM” are prominently featured at the top left, possibly representing an acronym for an institution or organization, hinting at its educational or research basis.\\n   - The domain “realyc.org” is displayed in a stylized font, suggesting a modern and professional appearance. The inclusion of “&” in the text could symbolize collaboration or connectivity.\\n\\n2. **Graphic Design**: \\n   - The overall design is minimalistic, with a predominantly light background, which allows the text to stand out.\\n   - A simple line or curved design element appears to flow through or around the text, contributing to the theme of connectivity or continuity. \\n\\n3. **Color and Contrast**: \\n   - The color scheme is subdued, likely involving shades of gray or light tones, which may suggest a formal or scholarly nature geared towards academic audiences.\\n\\n4. **Theme and Purpose**: \\n   - The image likely serves as a branding element for the research paper, indicating its focus on scientific or educational initiatives associated with the organization it represents.\\n\\nThis description reflects the visual and contextual elements that would be relevant in explaining the image within a research paper, emphasizing the significance of the logo in conveying the identity and purpose of the associated content.',\n",
       " 'The image features a stylized graphic of an open padlock, rendered in a minimalistic gray color scheme. The padlock symbol is designed with smooth, rounded edges, emphasizing a modern aesthetic. The lock body appears to be slightly larger than the shackle, which is represented as a curved arc at the top. \\n\\nInside the padlock symbol, there is a circular cutout that reinforces the open status of the lock. The overall design is simplistic, focusing on the concept of accessibility and openness, possibly indicating themes related to open access or open data. \\n\\nThe background is likely kept neutral to ensure that the padlock symbol stands out clearly. This imagery is often used in research or academic contexts to denote topics related to unrestricted access or the sharing of information.\\n\\nIn a research paper setting, this graphic could be visually linked to discussions about the importance of open access to research findings or data, symbolizing transparency and the dissemination of knowledge.',\n",
       " 'The image presented is a tabular representation summarizing research papers regarding various vaccines against COVID-19. The table has several rows and columns, each providing specific details related to the vaccines. \\n\\n### Table Structure:\\n1. **Columns**: The table consists of five primary columns:\\n   - **Vacuna**: This column lists the names of various vaccines.\\n   - **Publicación científica/ Ensayo clínico más citado en relación a la vacuna**: This column contains the titles of the most cited scientific publications surrounding the respective vaccines.\\n   - **Autores**: This column lists the authors of the studies.\\n   - **Revista**: This specifies the journal in which the studies were published.\\n   - **Número de Citaciones recibidas en Google Académico**: This shows the number of citations each publication has received according to Google Scholar.\\n\\n### Rows:\\nEach row beneath the header corresponds to a different vaccine. The vaccines listed, in order, are:\\n\\n1. **Vacuna Pfizer**:\\n   - **Publication**: \"Safety and Efficacy of the BNT162b2 mRNA Covid-19 Vaccine\"\\n   - **Authors**: Polack FP et al\\n   - **Journal**: The New England Journal of Medicine\\n   - **Citations**: 7801\\n\\n2. **Vacuna AstraZeneca**:\\n   - **Publication**: \"Safety and efficacy of the ChAdOx1 nCoV-19 vaccine (AZD1222) against SARS-CoV-2: an interim analysis of four randomised controlled trials in Brazil, South Africa, and the UK\"\\n   - **Authors**: Voysey M et al\\n   - **Journal**: The Lancet\\n   - **Citations**: 3196\\n\\n3. **Vacuna Moderna**:\\n   - **Publication**: \"An mRNA Vaccine against SARS-CoV-2 - Preliminary Report\"\\n   - **Authors**: Jackson LA et al\\n   - **Journal**: The New England Journal of Medicine\\n   - **Citations**: 2157 \\n\\n4. **Vacuna Janssen**:\\n   - **Publication**: \"Safety and Efficacy of Single-Dose Ad26.COV2.S Vaccine against Covid-19\"\\n   - **Authors**: Sadoff J et al\\n   - **Journal**: The New England Journal of Medicine\\n   - **Citations**: 1196 \\n\\n5. **Vacuna Sputnik V**:\\n   - **Publication**: \"Safety and efficacy of an rAd26 and rAd5 vector-based heterologous prime-boost COVID-19 vaccine: an interim analysis of a randomised controlled phase 3 trial in Russia\"\\n   - **Authors**: Logunov DY et al\\n   - **Journal**: The Lancet\\n   - **Citations**: 1170 \\n\\n6. **Vacuna Sinopharm**:\\n   - **Publication**: \"Safety and immunogenicity of an inactivated SARS-CoV-2 vaccine, BBIBP-CorV: a randomised, double-blind, placebo-controlled, phase 1/2 trial\"\\n   - **Authors**: Xia S et al\\n   - **Journal**: The Lancet\\n   - **Citations**: 701 \\n\\n### Visual Features:\\n- The header rows are distinctively formatted, possibly with a different background color, enhancing readability.\\n- Each entry in the table is neatly aligned, allowing for easy scanning of information.\\n\\nThis table effectively organizes and presents comparative data about COVID-19 vaccines, highlighting their research impact as indicated by citations.',\n",
       " 'The image consists of a table comparing various COVID-19 vaccines based on two criteria: the number of scientific publications related to randomized clinical trials for each vaccine and the total global citations received on Google Scholar. \\n\\n### Table Details:\\n\\n- **Header:** The table has two primary columns, each with subheadings in Spanish:\\n  - The left column is titled \"Número de publicaciones científicas => ensayos clínicos aleatorizados relacionados con la vacuna\" (Number of scientific publications => randomized clinical trials related to the vaccine).\\n  - The right column is titled \"Número de citas global recibidos en Google académico\" (Number of global citations received in Google Scholar).\\n\\n- **Rows:** Each row represents a different vaccine:\\n  - **Pfizer:** \\n    - Publications: 14 \\n    - Citations: 13,085\\n  - **AstraZeneca:** \\n    - Publications: 13 \\n    - Citations: 5,093\\n  - **Moderna:** \\n    - Publications: 10 \\n    - Citations: 3,098\\n  - **Janssen:** \\n    - Publications: 6 \\n    - Citations: 2,312\\n  - **Sputnik V:** \\n    - Publications: 2 \\n    - Citations: 1,171\\n  - **Sinopharm:** \\n    - Publications: 2 \\n    - Citations: 721\\n\\n### Design Elements:\\n- **Color Scheme:** The table features alternating shades of gray for rows, enhancing readability.\\n- **Font:** The text is likely clear and legible, typically using a professional serif or sans-serif font to maintain scholarly presentation.\\n- **Alignment:** The data in each column appears to be right-aligned, which is standard for numerical data, enhancing clarity.\\n  \\nThis table provides a concise summary of the relative scholarly attention and citation influence of different COVID-19 vaccines, serving as an essential reference in the research paper.',\n",
       " 'The image appears to be a logo or graphic representation associated with a website, specifically \"re&alyc.org.\" The logo is predominantly in light colors, giving it a subtle and minimalist design aesthetic. \\n\\n### Components of the Image:\\n\\n1. **Text Elements**:\\n   - The letters \"UAEM\" are displayed prominently at the top left. \\n   - The name \"re&alyc.org\" is featured centrally, with an ampersand (&) connecting \"re\" and \"alyc,\" suggesting a collaborative or integrated concept.\\n   - The font appears to be modern and simple, contributing to a clean look.\\n\\n2. **Graphics**:\\n   - There is an abstract, possibly whimsical graphic element, resembling a loosely formed ribbon or fluid line, running through the text. It suggests movement or continuity, which may symbolize the dynamic nature of the research or the processes involved.\\n   - A small graphical element resembling a flag or a pointed shape is situated at the end of the word \"org,\" perhaps denoting location or highlighting the website.\\n\\n3. **Color Scheme**:\\n   - The overall color palette is light and understated, contributing to a professional appearance that aims to convey clarity and ease of access.\\n\\n### Contextual Use:\\nIn the context of a research paper, this graphic serves as a visual identifier of the associated organization or project. It likely conveys the themes of collaboration, research, and academic integrity, aligning with the objectives and findings of the study presented within the paper. The minimalist design may also imply a focus on precision and straightforward communication of information. \\n\\nThis logo would typically be accompanied by explanations in the paper regarding its significance to the research, as well as details about the organization or website it represents.',\n",
       " 'The image features an icon representing an open padlock, rendered in a simple gray scale. The padlock is outlined with soft curves and includes a shackle that is raised, indicating that it is unlocked. The circular portion at the bottom of the lock is solid, while the loop is slightly elongated, giving the lock a distinct, easily recognizable shape. \\n\\nThe overall design is minimalistic, lacking intricate details, which enhances its clarity and effectiveness as a visual symbol for \"open access\" or \"unlocked\" information. This could suggest a theme of accessibility or availability in the context of the accompanying research paper, possibly indicating that the content or data being discussed is freely accessible to the audience. \\n\\nThe background is likely neutral, allowing the padlock graphic to stand out clearly, serving as a focal point in the document.',\n",
       " 'The image is a table displaying information about various COVID-19 vaccines and their related scientific publications. It contains several columns, each designated for specific details:\\n\\n1. **Vaccine**: Lists the names of the vaccines, including Pfizer, AstraZeneca, Moderna, Janssen, Sputnik V, and Sinopharm.\\n  \\n2. **Publication**: This column provides the titles of significant clinical research papers related to each vaccine. Each title describes the vaccine\\'s efficacy and safety, along with details about the trials conducted.\\n\\n3. **Authors**: Lists the authors of each publication. For instance, the Pfizer vaccine\\'s publication is authored by Polack FP et al.\\n\\n4. **Journal**: Indicates the journals where the studies were published; most entries are from \"The New England Journal of Medicine\" or \"The Lancet.\"\\n\\n5. **Number of citations**: This column shows the number of citations each publication has received in Google Scholar, ranging from 701 to 7801, indicating the level of recognition and influence each study has achieved.\\n\\nThe table has a clean design with alternating background shades for clarity, making it easy to read and compare the entries. Each row corresponds to a different vaccine, providing a structured overview of its research impact.',\n",
       " 'The image consists of six distinct panels labeled A through F, each illustrating a network graph related to different COVID-19 vaccines. Here’s a detailed description of each panel:\\n\\n### Panel A: Moderna\\n- **Nodes**: Represent various factors or topics associated with the Moderna vaccine.\\n- **Edges**: Connections between the nodes, shown in red (negative correlation) and green (positive correlation). The graph has a somewhat dense network with multiple intersecting lines indicating relationships.\\n- **Layout**: The nodes are clustered with some tightly grouped, suggesting strong relationships.\\n\\n### Panel B: Sputnik V\\n- **Nodes**: Similar setup as in panel A, with nodes corresponding to various related topics.\\n- **Edges**: Predominantly red connections, indicating more negative correlations than positive ones.\\n- **Visual Complexity**: This network appears more evenly distributed, with nodes spread out, facilitating a clearer view of each connection.\\n\\n### Panel C: Pfizer\\n- **Nodes**: Depicts factors relevant to the Pfizer vaccine.\\n- **Edges**: A mix of red and green edges, denoting both positive and negative relationships. The graph is densely interconnected.\\n- **Shape**: More circular in arrangement, suggesting a holistic view of the relationships among various factors.\\n\\n### Panel D: Sinopharm\\n- **Nodes**: Nodes represent various elements concerning the Sinopharm vaccine.\\n- **Edges**: A palette of green and red connections, similar to previous panels.\\n- **Distinct Features**: The layout shows a significant central node, with others branching out, highlighting prominent relationships.\\n\\n### Panel E: Janssen\\n- **Nodes**: Connected factors linked to the Janssen vaccine.\\n- **Edges**: The network shows a higher number of red edges, indicating a stronger presence of negative correlations.\\n- **Configuration**: The graph appears less interconnected than other panels, implying fewer direct relationships among nodes.\\n\\n### Panel F: Overview\\n- **Nodes and Edges**: Offers a summary that connects multiple topics across the vaccines.\\n- **Visual Style**: Similar to the other panels, but perhaps denotes overarching themes that affect multiple vaccines.\\n- **Connectivity**: The connections appear sparser, indicating some generalized relationships.\\n\\n### Overall Design\\n- **Graph Aesthetics**: Each panel uses a consistent color scheme (red and green) to indicate the nature of the relationships.\\n- **Alignment**: Panels are organized neatly, allowing easy comparison across the different vaccine datasets.\\n- **Labels**: Each panel includes labels for nodes that describe the topics being analyzed.\\n\\nThe entire image provides a comprehensive visual representation of how various topics relate to each of the vaccines studied. Each network graph serves as a distinct analysis entity while being part of a larger comparative study.',\n",
       " 'The image consists of a logo or header graphic featuring the text \"UAEM\" prominently at the far left. To the right of \"UAEM,\" there is a stylized representation of \"re&alyc.org,\" where the \"re\" and \"alyc\" are connected by an artistic swirl or ribbon-like line that adds a sense of continuity between the two textual elements. \\n\\nThe design appears minimalist, primarily using a monochromatic color scheme with a soft gray tone dominating the image. There’s an abstract shape resembling a flag or banner in the upper right corner, which adds a subtle touch of graphic interest. The overall layout conveys a modern and professional impression, potentially indicating that it belongs to an academic or organizational context related to research or education.\\n\\nThis logo may serve to identify a specific initiative or platform associated with the organization, emphasizing collaboration and connectivity through its design elements. The sleek graphic and choice of font suggest a focus on clarity and professionalism, aligning with the themes typically found in research papers.',\n",
       " \"The image features a stylized graphic representation of an open padlock, depicted in a gray color scheme. The padlock's body is oval-shaped, with a rounded top, and the shackle is presented in an upward position, suggesting the concept of accessibility or open access. The overall design is minimalist, lacking intricate details, which enhances its clarity and immediate recognition as a symbol of unlocked or unrestricted access. \\n\\nIn a research context, this graphic could represent themes such as open data, transparency, or free information sharing, and it may be used to emphasize key points within the paper regarding these topics. The simplicity of the graphic ensures that it's easily interpretable at a glance, making it effective for conveying its intended message without requiring extensive explanation.\",\n",
       " \"The image presents a table detailing keywords related to a study, including their occurrences and total link strength. \\n\\n### Structure and Formatting:\\n- **Columns**: The table has three primary columns:\\n  1. **Keyword**: Lists specific terms relevant to the research.\\n  2. **Occurrences**: Shows the frequency of each keyword's appearance in the dataset.\\n  3. **Total Link Strength**: Indicates a numerical score representing the significance or relevance of the keyword within the study.\\n\\n- **Rows**: Each row corresponds to a different keyword. \\n\\n### Content Analysis:\\n- The **header row** is distinguished, potentially using a bold font or a different shading to emphasize the categories.\\n- The **keywords** range from broad terms like “humans” and “COVID-19” to more specific terms such as “bnt162 vaccine” and “double-blind method.”\\n- The **occurrences** provide insight into how prevalent each keyword is in the research, with “humans” being the most frequently mentioned at 55 times.\\n- The **total link strength** can be interpreted as reflecting the importance of each keyword in connection to other terms in the study, with “humans” again leading with a score of 512.\\n\\n### Visual Elements:\\n- **Background**: The alternating row colors (for instance, light and dark shades) improve readability by visually separating entries.\\n- **Alignment**: The text is likely aligned to the left for keywords and centered for numerical data, enhancing clarity.\\n  \\n### Potential Conclusions:\\nThis information could be valuable for understanding the focus areas of the research, identifying key demographics (e.g., “adult,” “middle aged,” “female”), and evaluating the components related to COVID-19 vaccines and their effects, as well as treatment outcomes. \\n\\nThis structured presentation allows for quick reference and comparison, essential for analyzing trends and themes in the research context.\",\n",
       " 'The image features a logo that includes the text \"UAEM\" and \"re&alyc.org\" in a minimalist design. The graphics are rendered in light colors, predominantly white and pale gray, contributing to a clean and professional aesthetic.\\n\\n1. **Text Elements**: \\n   - \"UAEM\" is displayed prominently, possibly representing an acronym related to an institution, likely the Universidad Autónoma del Estado de México. The letter formatting appears bold and distinct.\\n   - The text \"re&alyc.org\" is less pronounced, suggesting a website or a digital platform related to research or academic activities. The use of \"&\" in the text adds a decorative touch while also indicating a connection or partnership.\\n\\n2. **Design Features**:\\n   - The logo has a subtle graphical element that resembles an abstract shape, positioned to the right. This might indicate a visual motif or icon related to the organization’s mission or focus.\\n   - The overall design uses a straightforward and linear layout, suggesting professionalism, clarity, and accessibility, which could be aligned with academic principles.\\n\\n3. **Color Palette**:\\n   - The color scheme is minimalist, relying primarily on light tones, which could symbolize openness, knowledge, and a modern approach to research.\\n\\nIn the context of a research paper, this logo might serve as a representation of the organization’s branding, emphasizing its role in academic and research activities, while also being visually accessible to the audience.',\n",
       " \"The image appears to be an icon depicting an open padlock, which is often associated with concepts of accessibility or open access. Here are specific details to consider for a research paper:\\n\\n1. **Shape and Design**: The padlock icon is simplistic, featuring a rounded body and an arched shackle at the top. The design is minimalistic, utilizing smooth lines and curves.\\n\\n2. **Color**: The icon is presented in a monochrome grayscale, indicating a neutral tone that does not distract from its symbolism. This choice may reflect professionalism and clarity often required in academic contexts.\\n\\n3. **Symbolism**: The open padlock symbolizes accessibility, indicating that the information or content related to the research is freely available to the public. This is a significant element in academic publishing, promoting the idea of sharing knowledge without barriers.\\n\\n4. **Contextual Use**: In the context of a research paper, this icon may be placed next to the title or section headers to emphasize that the associated content is open access. It visually reinforces the paper's commitment to transparency and availability for broader audiences.\\n\\n5. **Size and Placement**: The icon's size should be proportional to surrounding text and graphics, ensuring it is visible but not overpowering. Standard placement would typically be on a white or light background for optimal contrast and readability.\\n\\nThis design element effectively communicates key themes of openness in the research presented.\",\n",
       " 'The image appears to be a logo or header for a website, likely associated with a research or academic institution given the context of a research paper. Here\\'s a detailed description:\\n\\n1. **Text Elements**: The image features the acronym \"UAEM,\" which could represent a university or an academic organization. This is followed by the phrase \"re&alyc.org,\" indicating a web address, likely linked to research or academic initiatives. The text is presented in a stylized font that is easily readable but also gives a modern appearance.\\n\\n2. **Color and Design**: The overall color scheme leans towards a muted palette, possibly using shades of gray and white. The light hues suggest a clean and minimalist design, which is often preferred in academic settings to maintain a professional aesthetic.\\n\\n3. **Graphics**: There is a graphical element intertwined with the text, potentially representing a ribbon or a flowing line that adds a sense of motion or continuity. It could symbolize connection or collaboration in research.\\n\\n4. **Background**: The background is very simple, emphasizing the text and graphic without any distractions. This minimalist approach aligns well with the theme of academic research, which often values clarity and focus.\\n\\nOverall, the image effectively communicates an academic or research-oriented identity, distinguishing itself with simple yet modern design elements.',\n",
       " \"The image features a simple yet effective graphic representation of an open padlock icon, rendered in a monochrome gray color scheme. The design is minimalist, consisting of a circular loop at the top which represents the shackle of the padlock, and a rounded rectangular body beneath it. The background is plain, allowing the padlock icon to stand out clearly.\\n\\nThe padlock is depicted in a slightly raised manner, giving it a subtle three-dimensional effect. The edges are smooth, enhancing the sleek aesthetic. This graphic often symbolizes accessibility or open access, making it relevant for contexts such as research, data sharing, or the importance of open information.\\n\\nIn the context of a research paper, such an image could be employed to visually communicate themes of transparency, security, or the facilitation of information exchange within the academic or scientific community. The icon facilitates immediate recognition and understanding of the concept it represents, thereby reinforcing the paper's objective.\",\n",
       " 'The image shows a simplified graphic likely related to a website or a research organization. It features the text \"UAEM\" prominently at the beginning, indicative of an affiliation with a specific institution. The centerpiece of the design is a stylized representation of the web address \"realyc.org,\" suggesting online resources or services related to academic research, possibly focusing on Latin American and Caribbean sciences.\\n\\nThe design employs a minimalistic color scheme, primarily in light shades, which may contribute to a clean, modern aesthetic. An abstract line curls through the text, enhancing the dynamic quality of the graphic. There’s also an intricate flag graphic positioned near the top right, which might represent a nation or a specific entity.\\n\\nOverall, the image combines text and graphic elements to convey a sense of professionalism and connectivity, suitable for an academic paper\\'s context. It suggests a focus on collaboration and dissemination of knowledge within the research community.',\n",
       " \"The image is a simplistic graphic representation of an open padlock, often symbolizing access and openness. The design features a sleek, minimalist outline of a padlock, typically rendered in a monochromatic gray color. \\n\\nIn terms of specifics, the padlock consists of a circular shackle at the top and a rectangular body below. The shackle is slightly raised above the body, emphasizing the unlock status. Inside the padlock's body, there is usually a circular area representing the keyhole, although specific details of the keyhole are minimal in this illustration.\\n\\nThis image could be used in a research paper to discuss topics related to open access, data sharing, or transparency in research. Its simple design makes it easy to integrate into various contexts, serving as a clear visual metaphor for the concepts of freedom and accessibility in information.\",\n",
       " 'The image appears to be a logo featuring the text \"re&alyc.org\" prominently. The typography consists of a mix of lowercase letters with an emphasis on the \"&\" symbol, which is creatively stylized to resemble a loop or ribbon, enhancing the visual flow of the design. \\n\\nThe background is very light, possibly white or a very pale color, which allows the text and graphics to stand out more prominently. \\n\\nIn the upper right corner, there is a small graphic resembling a flag or a banner, which might indicate a connection to an organization or a specific theme related to the content of the website. \\n\\nThe inclusion of \"UAEM\" at the beginning suggests that this logo is affiliated with an institution, likely the Universidad Autónoma del Estado de México. \\n\\nOverall, the design is simple yet effective, likely intended to convey a sense of professionalism and relevance to the academic or research nature of the content it represents.',\n",
       " 'The image appears to feature a stylized representation of an open padlock, designed in a minimalist style. The padlock is depicted in grayscale, featuring a circular body with a curved shank that is raised, indicative of the lock being in an \"open\" position. \\n\\nThe simplicity of the design emphasizes clarity, likely intended to communicate the concept of accessibility and openness, potentially in the context of open access or sharing in research. \\n\\nSurrounding the padlock, there may be additional visual elements or annotations to provide context, but specific details regarding those are not visible in the current description. The overall aesthetic conveys a straightforward message of security that is transitioned to openness, which could connect to the themes of the research work exploring access to information or resources. \\n\\nThis graphic is likely used to illustrate points related to the research paper\\'s focus, enhance understanding, or introduce a discussion about openness in a specific field.',\n",
       " 'The image features a logo or graphic design associated with a website, specifically \"realyc.org.\" The overall design leans towards a minimalist aesthetic.\\n\\n1. **Text Elements**: \\n   - The text \"UAEM\" is displayed prominently, likely representing the name of an organization or institution.\\n   - \"realyc.org\" appears below or beside the \"UAEM\" text, indicating an online platform.\\n\\n2. **Graphic Elements**: \\n   - There is a visual element that resembles a stylized ribbon or loop, which could symbolize connectivity or continuity. This element flows around part of the text, integrating with it and adding a dynamic quality to the design.\\n   - A small graphic in the upper corner appears to resemble a flag or a small rectangular shape, adding an additional visual layer to the composition.\\n\\n3. **Color and Style**: \\n   - The overall color scheme is neutral or light, which can imply a focus on professionalism and clarity. The simplicity of the design suggests a modern approach.\\n\\n4. **Background**: \\n   - The background is likely plain or a solid color, which helps in emphasizing the logo and text.\\n\\nThis graphic is likely designed to convey information about the organization behind the website, possibly in the context of educational or research-related activities. The combination of text and graphic elements suggests a focus on accessibility and engagement within its intended audience.',\n",
       " \"The image appears to depict an unlocked padlock symbol, often associated with open access or the concept of free availability. The padlock is rendered in a grayscale format, providing a clean and minimalistic look. \\n\\n### Description of Graphics:\\n- **Shape**: The padlock features a typical lock structure— a rectangular body with a curved shackle at the top.\\n- **Color**: The grayscale coloring suggests neutrality and seriousness, often conveying themes related to security and access, particularly in digital contexts.\\n- **Line Thickness**: The lines of the padlock are smooth and continuous, without any embellishments, which enhances clarity and focus on the symbol's core meaning.\\n- **Background**: The background is likely plain, helping the padlock symbol stand out clearly without distractions.\\n\\n### Contextual Interpretation:\\nIn research papers, such a symbol could represent:\\n- **Open Access**: Suggesting that the content is freely available to the public without restrictions.\\n- **Data Sharing**: Indicating that the information can be shared or accessed collaboratively.\\n\\nOverall, the simplicity and clarity of the design make it effective for conveying its intended message in research and academic contexts.\"]"
      ]
     },
     "execution_count": 26,
     "metadata": {},
     "output_type": "execute_result"
    }
   ],
   "source": [
    "image_summaries"
   ]
  },
  {
   "cell_type": "code",
   "execution_count": 29,
   "id": "aHNDEd_2txQI",
   "metadata": {
    "colab": {
     "base_uri": "https://localhost:8080/",
     "height": 143
    },
    "id": "aHNDEd_2txQI",
    "outputId": "fbd7c64e-f463-4203-e1ca-f79c7426aaf6"
   },
   "outputs": [
    {
     "name": "stdout",
     "output_type": "stream",
     "text": [
      "The image appears to be a minimalist logo or graphic representation, likely associated with a website or organization. It includes a combination of text and a symbolic graphic element.\n",
      "\n",
      "1. **Text Elements:**\n",
      "   - The top part features the abbreviation \"UAEM,\" which might refer to an institution or organization.\n",
      "   - Below it is the web address \"re&alyc.org.\" The text includes a stylized \"&\" symbol, which is integrated into the text flow, suggesting a connection between entities or concepts.\n",
      "\n",
      "2. **Graphic Elements:**\n",
      "   - In the upper right corner, there is a simple geometric shape, possibly resembling a flag or some other indicator. This adds a layer of visual interest without overwhelming the overall design.\n",
      "\n",
      "3. **Color and Style:**\n",
      "   - The image has a monochromatic or very softly contrasted color palette, likely using light gray against a white background, contributing to a clean and modern aesthetic.\n",
      "\n",
      "4. **Overall Design:**\n",
      "   - The logo maintains a minimalist style, focusing on clarity and ease of recognition. The simplicity may suggest professionalism and a focus on research or academic endeavors.\n",
      "\n",
      "This graphic likely serves as a branding element for the associated organization or initiative within a research context, emphasizing clarity and modern design principles.\n"
     ]
    }
   ],
   "source": [
    "print(image_summaries[3])"
   ]
  },
  {
   "cell_type": "markdown",
   "id": "67b030d4-2ac5-41b6-9245-fc3ba5771d87",
   "metadata": {
    "id": "67b030d4-2ac5-41b6-9245-fc3ba5771d87"
   },
   "source": [
    "## Load data and summaries to vectorstore"
   ]
  },
  {
   "cell_type": "markdown",
   "id": "bb4d2379",
   "metadata": {
    "id": "bb4d2379"
   },
   "source": [
    "### Create the vectorstore"
   ]
  },
  {
   "cell_type": "code",
   "execution_count": null,
   "id": "9d8d7a34-69e0-49a2-b9f7-1a4e7b26d78f",
   "metadata": {
    "id": "9d8d7a34-69e0-49a2-b9f7-1a4e7b26d78f",
    "outputId": "c91d7a77-d820-446f-a751-15f5d4668e8f"
   },
   "outputs": [
    {
     "name": "stderr",
     "output_type": "stream",
     "text": [
      "/var/folders/lh/7g2mv_x16p79z2rd9jqxqx_w0000gn/T/ipykernel_92745/278287695.py:9: LangChainDeprecationWarning: The class `OpenAIEmbeddings` was deprecated in LangChain 0.0.9 and will be removed in 1.0. An updated version of the class exists in the :class:`~langchain-openai package and should be used instead. To use it run `pip install -U :class:`~langchain-openai` and import as `from :class:`~langchain_openai import OpenAIEmbeddings``.\n",
      "  vectorstore = Chroma(collection_name=\"multi_modal_rag\", embedding_function=OpenAIEmbeddings())\n",
      "/var/folders/lh/7g2mv_x16p79z2rd9jqxqx_w0000gn/T/ipykernel_92745/278287695.py:9: LangChainDeprecationWarning: The class `Chroma` was deprecated in LangChain 0.2.9 and will be removed in 1.0. An updated version of the class exists in the :class:`~langchain-chroma package and should be used instead. To use it run `pip install -U :class:`~langchain-chroma` and import as `from :class:`~langchain_chroma import Chroma``.\n",
      "  vectorstore = Chroma(collection_name=\"multi_modal_rag\", embedding_function=OpenAIEmbeddings())\n"
     ]
    }
   ],
   "source": [
    "import uuid\n",
    "from langchain.vectorstores import Chroma\n",
    "from langchain.storage import InMemoryStore\n",
    "from langchain.schema.document import Document\n",
    "from langchain.embeddings import OpenAIEmbeddings\n",
    "from langchain.retrievers.multi_vector import MultiVectorRetriever\n",
    "\n",
    "# The vectorstore to use to index the child chunks\n",
    "vectorstore = Chroma(collection_name=\"multi_modal_rag\", embedding_function=OpenAIEmbeddings())\n",
    "\n",
    "# The storage layer for the parent documents\n",
    "store = InMemoryStore()\n",
    "id_key = \"doc_id\"\n",
    "\n",
    "# The retriever (empty to start)\n",
    "retriever = MultiVectorRetriever(\n",
    "    vectorstore=vectorstore,\n",
    "    docstore=store,\n",
    "    id_key=id_key,\n",
    ")"
   ]
  },
  {
   "cell_type": "markdown",
   "id": "2bf26669",
   "metadata": {
    "id": "2bf26669"
   },
   "source": [
    "### Load the summaries and link the to the original data"
   ]
  },
  {
   "cell_type": "code",
   "execution_count": null,
   "id": "1792e683",
   "metadata": {
    "id": "1792e683"
   },
   "outputs": [],
   "source": [
    "# Add texts\n",
    "doc_ids = [str(uuid.uuid4()) for _ in texts]\n",
    "summary_texts = [\n",
    "    Document(page_content=summary, metadata={id_key: doc_ids[i]}) for i, summary in enumerate(text_summaries)\n",
    "]\n",
    "retriever.vectorstore.add_documents(summary_texts)\n",
    "retriever.docstore.mset(list(zip(doc_ids, texts)))\n",
    "\n",
    "# Add tables\n",
    "table_ids = [str(uuid.uuid4()) for _ in tables]\n",
    "summary_tables = [\n",
    "    Document(page_content=summary, metadata={id_key: table_ids[i]}) for i, summary in enumerate(table_summaries)\n",
    "]\n",
    "retriever.vectorstore.add_documents(summary_tables)\n",
    "retriever.docstore.mset(list(zip(table_ids, tables)))\n",
    "\n",
    "# Add image summaries\n",
    "img_ids = [str(uuid.uuid4()) for _ in images]\n",
    "summary_img = [\n",
    "    Document(page_content=summary, metadata={id_key: img_ids[i]}) for i, summary in enumerate(image_summaries)\n",
    "]\n",
    "retriever.vectorstore.add_documents(summary_img)\n",
    "retriever.docstore.mset(list(zip(img_ids, images)))"
   ]
  },
  {
   "cell_type": "markdown",
   "id": "4b45fb81-46b1-426e-aa2c-01aed4eac700",
   "metadata": {
    "id": "4b45fb81-46b1-426e-aa2c-01aed4eac700"
   },
   "source": [
    "### Check retrieval"
   ]
  },
  {
   "cell_type": "code",
   "execution_count": null,
   "id": "1bea75fe-85af-4955-a80c-6e0b44a8e215",
   "metadata": {
    "id": "1bea75fe-85af-4955-a80c-6e0b44a8e215"
   },
   "outputs": [],
   "source": [
    "# Retrieve\n",
    "docs = retriever.invoke(\n",
    "    \"who are the authors of the paper?\"\n",
    ")"
   ]
  },
  {
   "cell_type": "code",
   "execution_count": null,
   "id": "a0290c78",
   "metadata": {
    "id": "a0290c78",
    "outputId": "d19cdecf-c9e6-4b40-f996-06041a7f0ee4"
   },
   "outputs": [
    {
     "name": "stdout",
     "output_type": "stream",
     "text": [
      "[36] Christian Szegedy, Vincent Vanhoucke, Sergey Ioffe, Jonathon Shlens, and Zbigniew Wojna. Rethinking the inception architecture for computer vision. CoRR, abs/1512.00567, 2015.\n",
      "\n",
      "[37] Vinyals & Kaiser, Koo, Petrov, Sutskever, and Hinton. Grammar as a foreign language. In Advances in Neural Information Processing Systems, 2015.\n",
      "\n",
      "[38] Yonghui Wu, Mike Schuster, Zhifeng Chen, Quoc V Le, Mohammad Norouzi, Wolfgang Macherey, Maxim Krikun, Yuan Cao, Qin Gao, Klaus Macherey, et al. Google’s neural machine translation system: Bridging the gap between human and machine translation. arXiv preprint arXiv:1609.08144, 2016.\n",
      "\n",
      "[39] Jie Zhou, Ying Cao, Xuguang Wang, Peng Li, and Wei Xu. Deep recurrent models with fast-forward connections for neural machine translation. CoRR, abs/1606.04199, 2016.\n",
      "\n",
      "[40] Muhua Zhu, Yue Zhang, Wenliang Chen, Min Zhang, and Jingbo Zhu. Fast and accurate shift-reduce constituent parsing. In Proceedings of the 51st Annual Meeting of the ACL (Volume 1: Long Papers), pages 434–443. ACL, August 2013.\n",
      "\n",
      "12\n",
      "\n",
      "Attention Visualizations\n",
      "\n",
      "2 i i= RE 3 2 i 2 = = 2c 3 2 £ om % S GBANAAAA FS fe} oD DOD *H o Poe Q €oe2s oyzveyzuyeys 2SE @T_ EFESeSsEzESHR PL, SSSe TZSsSsggsg S=@LEGDEwB ECC oF aAeC RGN ESLSSSEESC -.VvVVVV VV HMO KEBOCSRSHLHOD QKXRDXE EO “A AAAAAA “= <2 £ 8 FogesouggsS ss P25 5273 Qvryxapvs\\3 es sa 5 Seeneteecorzgrs 2g ogs aaa oO 2 Sere =~ aA o ° 8 ueeeogoa0 o © £ 5 ane) vvvvv Vv £ eg € ° 2 Ss v Do <¢ 8 & |\n",
      "\n",
      "Figure 3: An example of the attention mechanism following long-distance dependencies in the encoder self-attention in layer 5 of 6. Many of the attention heads attend to a distant dependency of the verb ‘making’, completing the phrase ‘making...more difficult’. Attentions here shown only for the word ‘making’. Different colors represent different heads. Best viewed in color.\n",
      "\n",
      "13\n",
      "\n",
      "<ped> <ped> UOIUIdO == Aw ul Bulssiw ale « aM = yeum = S| sy ysnf pinoys = uoluldo Aw ul Bulssiw ae ysnf 38q Pinoys uojeojdde si! nq poped 38q JaAou Me] au <ped> <SOa> uojuido Aw ul Bulssiuw oe aM yeum S| SIU} ysnf 3q Pinoys uojeodde Ss}! ynq yoped 3q 4eAeuU meq auL <ped> <SOa> uo|uldo Aw ul Bulssiuw oe eM yeum S| Siu} ysnf 3q Pinoys uoyeoydde si! ynq yoped 3q aul\n",
      "\n",
      "Figure 4: Two attention heads, also in layer 5 of 6, apparently involved in anaphora resolution. Top: Full attentions for head 5. Bottom: Isolated attentions from just the word ‘its’ for attention heads 5 and 6. Note that the attentions are very sharp for this word.\n",
      "\n",
      "14\n",
      "\n",
      "<ped> <ped> <SOH>\\ <SO3> uoluido = uoluido Aw Aw yeyum S| sim pi—f}— 4 -ysn{ | Pinoys «+ pinoys uoeoydde uojeodde SHI S$}! | ya | nga ynq poped pooped aq aq Janou™ J@AoU WIM TIM me) me) aul “OU\n",
      "\n",
      "<ped> <ped> so <0 Uo|UIdO uoluido Aw Aw ul ul Bulssiw Bulssiw ae ale aM am yeuM yeum S| S| sty} # sly -—A - el eq eq pinoys « pinoys uojeoidde ee Ss}! Ss}! nq ee popod a —_ ee eq eq JOAoU JOAoU IW IW rr auL auL\n",
      "\n",
      "Figure 5: Many of the attention heads exhibit behaviour that seems related to the structure of the sentence. We give two such examples above, from two different heads from the encoder self-attention at layer 5 of 6. The heads clearly learned to perform different tasks.\n",
      "\n",
      "15\n",
      "\n",
      "--------------------------------------------------------------------------------\n",
      "Parser Training WSJ 23 F1 Vinyals & Kaiser el al. (2014) [37] WSJ only, discriminative 88.3 Petrov et al. (2006) [29] WSJ only, discriminative 90.4 Zhu et al. (2013) [40] WSJ only, discriminative 90.4 Dyer et al. (2016) [8] WSJ only, discriminative 91.7 Transformer (4 layers) WSJ only, discriminative 91.3 Zhu et al. (2013) [40] semi-supervised 91.3 Huang & Harper (2009) [14] semi-supervised 91.3 McClosky et al. (2006) [26] semi-supervised 92.1 Vinyals & Kaiser el al. (2014) [37] semi-supervised 92.1 Transformer (4 layers) semi-supervised 92.7 Luong et al. (2015) [23] multi-task 93.0 Dyer et al. (2016) [8] generative 93.3\n",
      "\n",
      "--------------------------------------------------------------------------------\n",
      "3\n",
      "\n",
      "2023\n",
      "\n",
      "2\n",
      "\n",
      "0\n",
      "\n",
      "2\n",
      "\n",
      "g u A 2 ] L C . s c [ 7 v 2 6 7 3 0 . 6 0\n",
      "\n",
      "7\n",
      "\n",
      "1\n",
      "\n",
      ":\n",
      "\n",
      "v\n",
      "\n",
      "arXiv\n",
      "\n",
      "i\n",
      "\n",
      "X\n",
      "\n",
      "r\n",
      "\n",
      "a\n",
      "\n",
      "Provided proper attribution is provided, Google hereby grants permission to reproduce the tables and figures in this paper solely for use in journalistic or scholarly works.\n",
      "\n",
      "Attention Is All You Need\n",
      "\n",
      "Ashish Vaswani∗\n",
      "\n",
      "Google Brain\n",
      "\n",
      "avaswani@google.com\n",
      "\n",
      "Noam Shazeer∗ Google Brain noam@google.com\n",
      "\n",
      "Niki Parmar∗ Google Research nikip@google.com\n",
      "\n",
      "Jakob Uszkoreit∗\n",
      "\n",
      "Google Research usz@google.com\n",
      "\n",
      "Llion Jones∗\n",
      "\n",
      "Google Research llion@google.com\n",
      "\n",
      "Aidan N. Gomez∗ † University of Toronto aidan@cs.toronto.edu\n",
      "\n",
      "Łukasz Kaiser∗ Google Brain lukaszkaiser@google.com\n",
      "\n",
      "Illia Polosukhin∗ ‡\n",
      "\n",
      "illia.polosukhin@gmail.com\n",
      "\n",
      "Abstract\n",
      "\n",
      "The dominant sequence transduction models are based on complex recurrent or convolutional neural networks that include an encoder and a decoder. The best performing models also connect the encoder and decoder through an attention mechanism. We propose a new simple network architecture, the Transformer, based solely on attention mechanisms, dispensing with recurrence and convolutions entirely. Experiments on two machine translation tasks show these models to be superior in quality while being more parallelizable and requiring significantly less time to train. Our model achieves 28.4 BLEU on the WMT 2014 English- to-German translation task, improving over the existing best results, including ensembles, by over 2 BLEU. On the WMT 2014 English-to-French translation task, our model establishes a new single-model state-of-the-art BLEU score of 41.8 after training for 3.5 days on eight GPUs, a small fraction of the training costs of the best models from the literature. We show that the Transformer generalizes well to other tasks by applying it successfully to English constituency parsing both with large and limited training data.\n",
      "\n",
      "∗Equal contribution. Listing order is random. Jakob proposed replacing RNNs with self-attention and started the effort to evaluate this idea. Ashish, with Illia, designed and implemented the first Transformer models and has been crucially involved in every aspect of this work. Noam proposed scaled dot-product attention, multi-head attention and the parameter-free position representation and became the other person involved in nearly every detail. Niki designed, implemented, tuned and evaluated countless model variants in our original codebase and tensor2tensor. Llion also experimented with novel model variants, was responsible for our initial codebase, and efficient inference and visualizations. Lukasz and Aidan spent countless long days designing various parts of and implementing tensor2tensor, replacing our earlier codebase, greatly improving results and massively accelerating our research.\n",
      "\n",
      "†Work performed while at Google Brain.\n",
      "\n",
      "‡Work performed while at Google Research.\n",
      "\n",
      "31st Conference on Neural Information Processing Systems (NIPS 2017), Long Beach, CA, USA.\n",
      "\n",
      "--------------------------------------------------------------------------------\n",
      "N dmodel dff h dk dv Pdrop ϵls train steps PPL (dev) BLEU params (dev) ×106 base 6 512 2048 8 64 64 0.1 0.1 100K 4.92 25.8 65 1 512 512 5.29 24.9 (A) 4 16 128 32 128 32 5.00 4.91 25.5 25.8 32 16 16 5.01 25.4 (B) 16 32 5.16 5.01 25.1 25.4 58 60 2 6.11 23.7 36 4 5.19 25.3 50 8 4.88 25.5 80 (C) 256 32 32 5.75 24.5 28 1024 128 128 4.66 26.0 168 1024 5.12 25.4 53 4096 4.75 26.2 90 0.0 5.77 24.6 (D) 0.2 0.0 4.95 4.67 25.5 25.3 0.2 5.47 25.7 (E) positional embedding instead of sinusoids 4.92 25.7\n",
      "\n",
      "--------------------------------------------------------------------------------\n"
     ]
    }
   ],
   "source": [
    "for doc in docs:\n",
    "    print(str(doc) + \"\\n\\n\" + \"-\" * 80)"
   ]
  },
  {
   "cell_type": "markdown",
   "id": "69060724-e390-4dda-8250-5f86025c874a",
   "metadata": {
    "id": "69060724-e390-4dda-8250-5f86025c874a"
   },
   "source": [
    "## RAG pipeline"
   ]
  },
  {
   "cell_type": "code",
   "execution_count": null,
   "id": "771a47fa-1267-4db8-a6ae-5fde48bbc069",
   "metadata": {
    "id": "771a47fa-1267-4db8-a6ae-5fde48bbc069"
   },
   "outputs": [],
   "source": [
    "from langchain_core.runnables import RunnablePassthrough, RunnableLambda\n",
    "from langchain_core.messages import SystemMessage, HumanMessage\n",
    "from langchain_openai import ChatOpenAI\n",
    "from base64 import b64decode\n",
    "\n",
    "\n",
    "def parse_docs(docs):\n",
    "    \"\"\"Split base64-encoded images and texts\"\"\"\n",
    "    b64 = []\n",
    "    text = []\n",
    "    for doc in docs:\n",
    "        try:\n",
    "            b64decode(doc)\n",
    "            b64.append(doc)\n",
    "        except Exception as e:\n",
    "            text.append(doc)\n",
    "    return {\"images\": b64, \"texts\": text}\n",
    "\n",
    "\n",
    "def build_prompt(kwargs):\n",
    "\n",
    "    docs_by_type = kwargs[\"context\"]\n",
    "    user_question = kwargs[\"question\"]\n",
    "\n",
    "    context_text = \"\"\n",
    "    if len(docs_by_type[\"texts\"]) > 0:\n",
    "        for text_element in docs_by_type[\"texts\"]:\n",
    "            context_text += text_element.text\n",
    "\n",
    "    # construct prompt with context (including images)\n",
    "    prompt_template = f\"\"\"\n",
    "    Answer the question based only on the following context, which can include text, tables, and the below image.\n",
    "    Context: {context_text}\n",
    "    Question: {user_question}\n",
    "    \"\"\"\n",
    "\n",
    "    prompt_content = [{\"type\": \"text\", \"text\": prompt_template}]\n",
    "\n",
    "    if len(docs_by_type[\"images\"]) > 0:\n",
    "        for image in docs_by_type[\"images\"]:\n",
    "            prompt_content.append(\n",
    "                {\n",
    "                    \"type\": \"image_url\",\n",
    "                    \"image_url\": {\"url\": f\"data:image/jpeg;base64,{image}\"},\n",
    "                }\n",
    "            )\n",
    "\n",
    "    return ChatPromptTemplate.from_messages(\n",
    "        [\n",
    "            HumanMessage(content=prompt_content),\n",
    "        ]\n",
    "    )\n",
    "\n",
    "\n",
    "chain = (\n",
    "    {\n",
    "        \"context\": retriever | RunnableLambda(parse_docs),\n",
    "        \"question\": RunnablePassthrough(),\n",
    "    }\n",
    "    | RunnableLambda(build_prompt)\n",
    "    | ChatOpenAI(model=\"gpt-4o-mini\")\n",
    "    | StrOutputParser()\n",
    ")\n",
    "\n",
    "chain_with_sources = {\n",
    "    \"context\": retriever | RunnableLambda(parse_docs),\n",
    "    \"question\": RunnablePassthrough(),\n",
    "} | RunnablePassthrough().assign(\n",
    "    response=(\n",
    "        RunnableLambda(build_prompt)\n",
    "        | ChatOpenAI(model=\"gpt-4o-mini\")\n",
    "        | StrOutputParser()\n",
    "    )\n",
    ")"
   ]
  },
  {
   "cell_type": "code",
   "execution_count": null,
   "id": "ea8414a8-65ee-4e11-8154-029b454f46af",
   "metadata": {
    "colab": {
     "base_uri": "https://localhost:8080/",
     "height": 180
    },
    "id": "ea8414a8-65ee-4e11-8154-029b454f46af",
    "outputId": "2edf5f7e-9165-46ef-e710-cc945b78b230"
   },
   "outputs": [
    {
     "name": "stdout",
     "output_type": "stream",
     "text": [
      "The attention mechanism is a function that maps a query and a set of key-value pairs to an output, where the query, keys, values, and output are all vectors. The output is computed as a weighted sum of the values, with the weights determined by a compatibility function that measures how well the query aligns with each key.\n",
      "\n",
      "In mathematical terms, the attention function can be expressed as:\n",
      "\n",
      "\\[ \\text{Attention}(Q, K, V) = \\text{softmax}\\left(\\frac{QK^T}{\\sqrt{d_k}}\\right)V \\]\n",
      "\n",
      "Here, \\(Q\\) represents the queries, \\(K\\) the keys, and \\(V\\) the values. The dot products of the queries and keys are scaled by the square root of the dimension of the keys (\\(d_k\\)) to prevent large values that could push the softmax function into regions with small gradients. This attention mechanism allows the model to focus on different parts of the input sequence when producing an output, enhancing its ability to handle dependencies and context within the data. \n",
      "\n",
      "Additionally, multi-head attention extends this concept by performing multiple attention operations in parallel, allowing the model to attend to information from different representation subspaces simultaneously.\n"
     ]
    }
   ],
   "source": [
    "response = chain.invoke(\n",
    "    \"What is the attention mechanism?\"\n",
    ")\n",
    "\n",
    "print(response)"
   ]
  },
  {
   "cell_type": "code",
   "execution_count": null,
   "id": "e4adfeba",
   "metadata": {
    "id": "e4adfeba",
    "outputId": "7c82360d-4c90-4cd1-9db4-7ba815277bbc"
   },
   "outputs": [
    {
     "name": "stdout",
     "output_type": "stream",
     "text": [
      "Response: Multi-head attention is a mechanism used in the Transformer model that allows the model to focus on different parts of the input sequence simultaneously. Instead of using a single attention function, multi-head attention uses multiple attention heads, each performing attention with different, learned linear projections of the queries, keys, and values. \n",
      "\n",
      "Here's a breakdown of how it works:\n",
      "\n",
      "1. **Linear Projections**: The queries (Q), keys (K), and values (V) are projected into different subspaces using learned linear transformations. Each head has its own set of projections.\n",
      "\n",
      "2. **Parallel Attention**: Each head computes attention independently, allowing the model to attend to various representation subspaces from different positions in the input sequence.\n",
      "\n",
      "3. **Concatenation**: The outputs from all heads are concatenated together.\n",
      "\n",
      "4. **Final Linear Projection**: The concatenated output is then projected again to produce the final output.\n",
      "\n",
      "This approach enables the model to capture a richer set of relationships in the data compared to a single attention head, which might average out important information. Multi-head attention is particularly beneficial for tasks that require understanding complex dependencies in sequences, such as natural language processing.\n",
      "\n",
      "\n",
      "Context:\n",
      "3.2.2 Multi-Head Attention\n",
      "\n",
      "Instead of performing a single attention function with dmodel-dimensional keys, values and queries, we found it beneficial to linearly project the queries, keys and values h times with different, learned linear projections to dk, dk and dv dimensions, respectively. On each of these projected versions of queries, keys and values we then perform the attention function in parallel, yielding dv-dimensional\n",
      "\n",
      "‘To illustrate why the dot products get large, assume that the components of q and k are independent random variables with mean 0 and variance 1. Then their dot product, g -k = ves, qiki, has mean 0 and variance dx.\n",
      "\n",
      "4\n",
      "\n",
      "output values. These are concatenated and once again projected, resulting in the final values, as depicted in Figure 2.\n",
      "\n",
      "Multi-head attention allows the model to jointly attend to information from different representation subspaces at different positions. With a single attention head, averaging inhibits this.\n",
      "\n",
      "MultiHead(Q, K, V ) = Concat(head1, ..., headh)W O where headi = Attention(QW Q i , KW K i , V W V i )\n",
      "\n",
      "Where the projections are parameter matrices W Q and W O ∈ Rhdv×dmodel. i ∈ Rdmodel×dk , W K i ∈ Rdmodel×dk , W V i ∈ Rdmodel×dv\n",
      "\n",
      "In this work we employ h = 8 parallel attention layers, or heads. For each of these we use dk = dv = dmodel/h = 64. Due to the reduced dimension of each head, the total computational cost is similar to that of single-head attention with full dimensionality.\n",
      "\n",
      "3.2.3 Applications of Attention in our Model\n",
      "\n",
      "The Transformer uses multi-head attention in three different ways:\n",
      "\n",
      "• In \"encoder-decoder attention\" layers, the queries come from the previous decoder layer, and the memory keys and values come from the output of the encoder. This allows every position in the decoder to attend over all positions in the input sequence. This mimics the typical encoder-decoder attention mechanisms in sequence-to-sequence models such as [38, 2, 9].\n",
      "\n",
      "• The encoder contains self-attention layers. In a self-attention layer all of the keys, values and queries come from the same place, in this case, the output of the previous layer in the encoder. Each position in the encoder can attend to all positions in the previous layer of the encoder.\n",
      "\n",
      "• Similarly, self-attention layers in the decoder allow each position in the decoder to attend to all positions in the decoder up to and including that position. We need to prevent leftward information flow in the decoder to preserve the auto-regressive property. We implement this inside of scaled dot-product attention by masking out (setting to −∞) all values in the input of the softmax which correspond to illegal connections. See Figure 2.\n",
      "Page number:  4\n",
      "\n",
      "--------------------------------------------------\n",
      "\n",
      "big\n",
      "\n",
      "6\n",
      "\n",
      "1024\n",
      "\n",
      "4096\n",
      "\n",
      "16\n",
      "\n",
      "0.3\n",
      "\n",
      "300K 4.33\n",
      "\n",
      "26.4\n",
      "\n",
      "development set, newstest2013. We used beam search as described in the previous section, but no checkpoint averaging. We present these results in Table 3.\n",
      "\n",
      "In Table 3 rows (A), we vary the number of attention heads and the attention key and value dimensions, keeping the amount of computation constant, as described in Section 3.2.2. While single-head attention is 0.9 BLEU worse than the best setting, quality also drops off with too many heads.\n",
      "\n",
      "In Table 3 rows (B), we observe that reducing the attention key size dk hurts model quality. This suggests that determining compatibility is not easy and that a more sophisticated compatibility function than dot product may be beneficial. We further observe in rows (C) and (D) that, as expected, bigger models are better, and dropout is very helpful in avoiding over-fitting. In row (E) we replace our sinusoidal positional encoding with learned positional embeddings [9], and observe nearly identical results to the base model.\n",
      "\n",
      "6.3 English Constituency Parsing\n",
      "\n",
      "To evaluate if the Transformer can generalize to other tasks we performed experiments on English constituency parsing. This task presents specific challenges: the output is subject to strong structural constraints and is significantly longer than the input. Furthermore, RNN sequence-to-sequence models have not been able to attain state-of-the-art results in small-data regimes [37].\n",
      "\n",
      "We trained a 4-layer transformer with dmodel = 1024 on the Wall Street Journal (WSJ) portion of the Penn Treebank [25], about 40K training sentences. We also trained it in a semi-supervised setting, using the larger high-confidence and BerkleyParser corpora from with approximately 17M sentences [37]. We used a vocabulary of 16K tokens for the WSJ only setting and a vocabulary of 32K tokens for the semi-supervised setting.\n",
      "\n",
      "We performed only a small number of experiments to select the dropout, both attention and residual (section 5.4), learning rates and beam size on the Section 22 development set, all other parameters remained unchanged from the English-to-German base translation model. During inference, we\n",
      "\n",
      "9\n",
      "\n",
      "213\n",
      "\n",
      "Table 4: The Transformer generalizes well to English constituency parsing (Results are on Section 23 of WSJ)\n",
      "Page number:  9\n",
      "\n",
      "--------------------------------------------------\n",
      "\n",
      "[36] Christian Szegedy, Vincent Vanhoucke, Sergey Ioffe, Jonathon Shlens, and Zbigniew Wojna. Rethinking the inception architecture for computer vision. CoRR, abs/1512.00567, 2015.\n",
      "\n",
      "[37] Vinyals & Kaiser, Koo, Petrov, Sutskever, and Hinton. Grammar as a foreign language. In Advances in Neural Information Processing Systems, 2015.\n",
      "\n",
      "[38] Yonghui Wu, Mike Schuster, Zhifeng Chen, Quoc V Le, Mohammad Norouzi, Wolfgang Macherey, Maxim Krikun, Yuan Cao, Qin Gao, Klaus Macherey, et al. Google’s neural machine translation system: Bridging the gap between human and machine translation. arXiv preprint arXiv:1609.08144, 2016.\n",
      "\n",
      "[39] Jie Zhou, Ying Cao, Xuguang Wang, Peng Li, and Wei Xu. Deep recurrent models with fast-forward connections for neural machine translation. CoRR, abs/1606.04199, 2016.\n",
      "\n",
      "[40] Muhua Zhu, Yue Zhang, Wenliang Chen, Min Zhang, and Jingbo Zhu. Fast and accurate shift-reduce constituent parsing. In Proceedings of the 51st Annual Meeting of the ACL (Volume 1: Long Papers), pages 434–443. ACL, August 2013.\n",
      "\n",
      "12\n",
      "\n",
      "Attention Visualizations\n",
      "\n",
      "2 i i= RE 3 2 i 2 = = 2c 3 2 £ om % S GBANAAAA FS fe} oD DOD *H o Poe Q €oe2s oyzveyzuyeys 2SE @T_ EFESeSsEzESHR PL, SSSe TZSsSsggsg S=@LEGDEwB ECC oF aAeC RGN ESLSSSEESC -.VvVVVV VV HMO KEBOCSRSHLHOD QKXRDXE EO “A AAAAAA “= <2 £ 8 FogesouggsS ss P25 5273 Qvryxapvs\\3 es sa 5 Seeneteecorzgrs 2g ogs aaa oO 2 Sere =~ aA o ° 8 ueeeogoa0 o © £ 5 ane) vvvvv Vv £ eg € ° 2 Ss v Do <¢ 8 & |\n",
      "\n",
      "Figure 3: An example of the attention mechanism following long-distance dependencies in the encoder self-attention in layer 5 of 6. Many of the attention heads attend to a distant dependency of the verb ‘making’, completing the phrase ‘making...more difficult’. Attentions here shown only for the word ‘making’. Different colors represent different heads. Best viewed in color.\n",
      "\n",
      "13\n",
      "\n",
      "<ped> <ped> UOIUIdO == Aw ul Bulssiw ale « aM = yeum = S| sy ysnf pinoys = uoluldo Aw ul Bulssiw ae ysnf 38q Pinoys uojeojdde si! nq poped 38q JaAou Me] au <ped> <SOa> uojuido Aw ul Bulssiuw oe aM yeum S| SIU} ysnf 3q Pinoys uojeodde Ss}! ynq yoped 3q 4eAeuU meq auL <ped> <SOa> uo|uldo Aw ul Bulssiuw oe eM yeum S| Siu} ysnf 3q Pinoys uoyeoydde si! ynq yoped 3q aul\n",
      "\n",
      "Figure 4: Two attention heads, also in layer 5 of 6, apparently involved in anaphora resolution. Top: Full attentions for head 5. Bottom: Isolated attentions from just the word ‘its’ for attention heads 5 and 6. Note that the attentions are very sharp for this word.\n",
      "\n",
      "14\n",
      "\n",
      "<ped> <ped> <SOH>\\ <SO3> uoluido = uoluido Aw Aw yeyum S| sim pi—f}— 4 -ysn{ | Pinoys «+ pinoys uoeoydde uojeodde SHI S$}! | ya | nga ynq poped pooped aq aq Janou™ J@AoU WIM TIM me) me) aul “OU\n",
      "\n",
      "<ped> <ped> so <0 Uo|UIdO uoluido Aw Aw ul ul Bulssiw Bulssiw ae ale aM am yeuM yeum S| S| sty} # sly -—A - el eq eq pinoys « pinoys uojeoidde ee Ss}! Ss}! nq ee popod a —_ ee eq eq JOAoU JOAoU IW IW rr auL auL\n",
      "\n",
      "Figure 5: Many of the attention heads exhibit behaviour that seems related to the structure of the sentence. We give two such examples above, from two different heads from the encoder self-attention at layer 5 of 6. The heads clearly learned to perform different tasks.\n",
      "\n",
      "15\n",
      "Page number:  12\n",
      "\n",
      "--------------------------------------------------\n",
      "\n"
     ]
    },
    {
     "data": {
      "image/jpeg": "[encoded data removed]",
      "text/plain": [
       "<IPython.core.display.Image object>"
      ]
     },
     "metadata": {},
     "output_type": "display_data"
    }
   ],
   "source": [
    "response = chain_with_sources.invoke(\n",
    "    \"What is multihead?\"\n",
    ")\n",
    "\n",
    "print(\"Response:\", response['response'])\n",
    "\n",
    "print(\"\\n\\nContext:\")\n",
    "for text in response['context']['texts']:\n",
    "    print(text.text)\n",
    "    print(\"Page number: \", text.metadata.page_number)\n",
    "    print(\"\\n\" + \"-\"*50 + \"\\n\")\n",
    "for image in response['context']['images']:\n",
    "    display_base64_image(image)"
   ]
  },
  {
   "cell_type": "markdown",
   "id": "90cd3714",
   "metadata": {
    "id": "90cd3714"
   },
   "source": [
    "## References\n",
    "\n",
    "- [LangChain Inspiration](https://github.com/langchain-ai/langchain/blob/master/cookbook/Semi_structured_and_multi_modal_RAG.ipynb?ref=blog.langchain.dev)\n",
    "- [Multivector Storage](https://python.langchain.com/docs/how_to/multi_vector/)"
   ]
  }
 ],
 "metadata": {
  "colab": {
   "collapsed_sections": [
    "74b56bde-1ba0-4525-a11d-cab02c5659e4",
    "8b55862c",
    "b1feadda-8171-4aed-9a60-320a88dc9ee1",
    "bb4d2379",
    "2bf26669",
    "4b45fb81-46b1-426e-aa2c-01aed4eac700",
    "69060724-e390-4dda-8250-5f86025c874a"
   ],
   "provenance": []
  },
  "kernelspec": {
   "display_name": "Python 3 (ipykernel)",
   "language": "python",
   "name": "python3"
  },
  "language_info": {
   "codemirror_mode": {
    "name": "ipython",
    "version": 3
   },
   "file_extension": ".py",
   "mimetype": "text/x-python",
   "name": "python",
   "nbconvert_exporter": "python",
   "pygments_lexer": "ipython3",
   "version": "3.10.17"
  },
  "widgets": {
   "application/vnd.jupyter.widget-state+json": {
    "00b164fb36864e53a8a73710d7d855cc": {
     "model_module": "@jupyter-widgets/base",
     "model_module_version": "1.2.0",
     "model_name": "LayoutModel",
     "state": {
      "_model_module": "@jupyter-widgets/base",
      "_model_module_version": "1.2.0",
      "_model_name": "LayoutModel",
      "_view_count": null,
      "_view_module": "@jupyter-widgets/base",
      "_view_module_version": "1.2.0",
      "_view_name": "LayoutView",
      "align_content": null,
      "align_items": null,
      "align_self": null,
      "border": null,
      "bottom": null,
      "display": null,
      "flex": null,
      "flex_flow": null,
      "grid_area": null,
      "grid_auto_columns": null,
      "grid_auto_flow": null,
      "grid_auto_rows": null,
      "grid_column": null,
      "grid_gap": null,
      "grid_row": null,
      "grid_template_areas": null,
      "grid_template_columns": null,
      "grid_template_rows": null,
      "height": null,
      "justify_content": null,
      "justify_items": null,
      "left": null,
      "margin": null,
      "max_height": null,
      "max_width": null,
      "min_height": null,
      "min_width": null,
      "object_fit": null,
      "object_position": null,
      "order": null,
      "overflow": null,
      "overflow_x": null,
      "overflow_y": null,
      "padding": null,
      "right": null,
      "top": null,
      "visibility": null,
      "width": null
     }
    },
    "01ef4b60c3144e17afffb86281466bab": {
     "model_module": "@jupyter-widgets/base",
     "model_module_version": "1.2.0",
     "model_name": "LayoutModel",
     "state": {
      "_model_module": "@jupyter-widgets/base",
      "_model_module_version": "1.2.0",
      "_model_name": "LayoutModel",
      "_view_count": null,
      "_view_module": "@jupyter-widgets/base",
      "_view_module_version": "1.2.0",
      "_view_name": "LayoutView",
      "align_content": null,
      "align_items": null,
      "align_self": null,
      "border": null,
      "bottom": null,
      "display": null,
      "flex": null,
      "flex_flow": null,
      "grid_area": null,
      "grid_auto_columns": null,
      "grid_auto_flow": null,
      "grid_auto_rows": null,
      "grid_column": null,
      "grid_gap": null,
      "grid_row": null,
      "grid_template_areas": null,
      "grid_template_columns": null,
      "grid_template_rows": null,
      "height": null,
      "justify_content": null,
      "justify_items": null,
      "left": null,
      "margin": null,
      "max_height": null,
      "max_width": null,
      "min_height": null,
      "min_width": null,
      "object_fit": null,
      "object_position": null,
      "order": null,
      "overflow": null,
      "overflow_x": null,
      "overflow_y": null,
      "padding": null,
      "right": null,
      "top": null,
      "visibility": null,
      "width": null
     }
    },
    "052ec73371404595b7dec973dda308d4": {
     "model_module": "@jupyter-widgets/controls",
     "model_module_version": "1.5.0",
     "model_name": "DescriptionStyleModel",
     "state": {
      "_model_module": "@jupyter-widgets/controls",
      "_model_module_version": "1.5.0",
      "_model_name": "DescriptionStyleModel",
      "_view_count": null,
      "_view_module": "@jupyter-widgets/base",
      "_view_module_version": "1.2.0",
      "_view_name": "StyleView",
      "description_width": ""
     }
    },
    "0e7ed203dde24ec9a8d0f9c95a8877fd": {
     "model_module": "@jupyter-widgets/base",
     "model_module_version": "1.2.0",
     "model_name": "LayoutModel",
     "state": {
      "_model_module": "@jupyter-widgets/base",
      "_model_module_version": "1.2.0",
      "_model_name": "LayoutModel",
      "_view_count": null,
      "_view_module": "@jupyter-widgets/base",
      "_view_module_version": "1.2.0",
      "_view_name": "LayoutView",
      "align_content": null,
      "align_items": null,
      "align_self": null,
      "border": null,
      "bottom": null,
      "display": null,
      "flex": null,
      "flex_flow": null,
      "grid_area": null,
      "grid_auto_columns": null,
      "grid_auto_flow": null,
      "grid_auto_rows": null,
      "grid_column": null,
      "grid_gap": null,
      "grid_row": null,
      "grid_template_areas": null,
      "grid_template_columns": null,
      "grid_template_rows": null,
      "height": null,
      "justify_content": null,
      "justify_items": null,
      "left": null,
      "margin": null,
      "max_height": null,
      "max_width": null,
      "min_height": null,
      "min_width": null,
      "object_fit": null,
      "object_position": null,
      "order": null,
      "overflow": null,
      "overflow_x": null,
      "overflow_y": null,
      "padding": null,
      "right": null,
      "top": null,
      "visibility": null,
      "width": null
     }
    },
    "15b9261bb07f4bbb95d276b92feabade": {
     "model_module": "@jupyter-widgets/controls",
     "model_module_version": "1.5.0",
     "model_name": "HTMLModel",
     "state": {
      "_dom_classes": [],
      "_model_module": "@jupyter-widgets/controls",
      "_model_module_version": "1.5.0",
      "_model_name": "HTMLModel",
      "_view_count": null,
      "_view_module": "@jupyter-widgets/controls",
      "_view_module_version": "1.5.0",
      "_view_name": "HTMLView",
      "description": "",
      "description_tooltip": null,
      "layout": "IPY_MODEL_0e7ed203dde24ec9a8d0f9c95a8877fd",
      "placeholder": "​",
      "style": "IPY_MODEL_e64cfd87330d4b238596da66db63d984",
      "value": "Downloading (…)lve/main/config.json: 100%"
     }
    },
    "2045ffddb5c4407f9235d1bf472e9ba5": {
     "model_module": "@jupyter-widgets/controls",
     "model_module_version": "1.5.0",
     "model_name": "HTMLModel",
     "state": {
      "_dom_classes": [],
      "_model_module": "@jupyter-widgets/controls",
      "_model_module_version": "1.5.0",
      "_model_name": "HTMLModel",
      "_view_count": null,
      "_view_module": "@jupyter-widgets/controls",
      "_view_module_version": "1.5.0",
      "_view_name": "HTMLView",
      "description": "",
      "description_tooltip": null,
      "layout": "IPY_MODEL_9eab400a02dc46269e2537db44a78625",
      "placeholder": "​",
      "style": "IPY_MODEL_415ddcb74bc2467fa9399039b7d0cafb",
      "value": "Downloading model.safetensors: 100%"
     }
    },
    "21318da3ae0644c28ec63983a34bd2ee": {
     "model_module": "@jupyter-widgets/controls",
     "model_module_version": "1.5.0",
     "model_name": "HTMLModel",
     "state": {
      "_dom_classes": [],
      "_model_module": "@jupyter-widgets/controls",
      "_model_module_version": "1.5.0",
      "_model_name": "HTMLModel",
      "_view_count": null,
      "_view_module": "@jupyter-widgets/controls",
      "_view_module_version": "1.5.0",
      "_view_name": "HTMLView",
      "description": "",
      "description_tooltip": null,
      "layout": "IPY_MODEL_7ad056a7d71847d498f270ecac5cbf62",
      "placeholder": "​",
      "style": "IPY_MODEL_309bad22d08c47af8d51942da599328e",
      "value": " 46.8M/46.8M [00:00&lt;00:00, 103MB/s]"
     }
    },
    "27e36e7f92d7417bb221fa95406cfb2f": {
     "model_module": "@jupyter-widgets/controls",
     "model_module_version": "1.5.0",
     "model_name": "FloatProgressModel",
     "state": {
      "_dom_classes": [],
      "_model_module": "@jupyter-widgets/controls",
      "_model_module_version": "1.5.0",
      "_model_name": "FloatProgressModel",
      "_view_count": null,
      "_view_module": "@jupyter-widgets/controls",
      "_view_module_version": "1.5.0",
      "_view_name": "ProgressView",
      "bar_style": "success",
      "description": "",
      "description_tooltip": null,
      "layout": "IPY_MODEL_7185b40a7fa74088ad7ff6efb524e6b5",
      "max": 46807446,
      "min": 0,
      "orientation": "horizontal",
      "style": "IPY_MODEL_cc6672c78dac468d9264efd90902c87d",
      "value": 46807446
     }
    },
    "2bcca7acc6f047d6ad4efbf1e5333c58": {
     "model_module": "@jupyter-widgets/base",
     "model_module_version": "1.2.0",
     "model_name": "LayoutModel",
     "state": {
      "_model_module": "@jupyter-widgets/base",
      "_model_module_version": "1.2.0",
      "_model_name": "LayoutModel",
      "_view_count": null,
      "_view_module": "@jupyter-widgets/base",
      "_view_module_version": "1.2.0",
      "_view_name": "LayoutView",
      "align_content": null,
      "align_items": null,
      "align_self": null,
      "border": null,
      "bottom": null,
      "display": null,
      "flex": null,
      "flex_flow": null,
      "grid_area": null,
      "grid_auto_columns": null,
      "grid_auto_flow": null,
      "grid_auto_rows": null,
      "grid_column": null,
      "grid_gap": null,
      "grid_row": null,
      "grid_template_areas": null,
      "grid_template_columns": null,
      "grid_template_rows": null,
      "height": null,
      "justify_content": null,
      "justify_items": null,
      "left": null,
      "margin": null,
      "max_height": null,
      "max_width": null,
      "min_height": null,
      "min_width": null,
      "object_fit": null,
      "object_position": null,
      "order": null,
      "overflow": null,
      "overflow_x": null,
      "overflow_y": null,
      "padding": null,
      "right": null,
      "top": null,
      "visibility": null,
      "width": null
     }
    },
    "2df0c4cc59044ec8a59aadf2d5d2a9c9": {
     "model_module": "@jupyter-widgets/controls",
     "model_module_version": "1.5.0",
     "model_name": "FloatProgressModel",
     "state": {
      "_dom_classes": [],
      "_model_module": "@jupyter-widgets/controls",
      "_model_module_version": "1.5.0",
      "_model_name": "FloatProgressModel",
      "_view_count": null,
      "_view_module": "@jupyter-widgets/controls",
      "_view_module_version": "1.5.0",
      "_view_name": "ProgressView",
      "bar_style": "success",
      "description": "",
      "description_tooltip": null,
      "layout": "IPY_MODEL_b2fc825e7e6949e0a18f491ff261ac2b",
      "max": 115434268,
      "min": 0,
      "orientation": "horizontal",
      "style": "IPY_MODEL_df6e6c84cc1c4c7b8cf5f8555eb42166",
      "value": 115434268
     }
    },
    "2ee43f14fa654a66ad0cfb559826f266": {
     "model_module": "@jupyter-widgets/controls",
     "model_module_version": "1.5.0",
     "model_name": "FloatProgressModel",
     "state": {
      "_dom_classes": [],
      "_model_module": "@jupyter-widgets/controls",
      "_model_module_version": "1.5.0",
      "_model_name": "FloatProgressModel",
      "_view_count": null,
      "_view_module": "@jupyter-widgets/controls",
      "_view_module_version": "1.5.0",
      "_view_name": "ProgressView",
      "bar_style": "success",
      "description": "",
      "description_tooltip": null,
      "layout": "IPY_MODEL_00b164fb36864e53a8a73710d7d855cc",
      "max": 216625723,
      "min": 0,
      "orientation": "horizontal",
      "style": "IPY_MODEL_64a0c4aa0bba4b6f8e8f5775a4341147",
      "value": 216625723
     }
    },
    "3095817ccc8f4ec6bae9b0c201d8e40a": {
     "model_module": "@jupyter-widgets/controls",
     "model_module_version": "1.5.0",
     "model_name": "HTMLModel",
     "state": {
      "_dom_classes": [],
      "_model_module": "@jupyter-widgets/controls",
      "_model_module_version": "1.5.0",
      "_model_name": "HTMLModel",
      "_view_count": null,
      "_view_module": "@jupyter-widgets/controls",
      "_view_module_version": "1.5.0",
      "_view_name": "HTMLView",
      "description": "",
      "description_tooltip": null,
      "layout": "IPY_MODEL_547eb1582628438c9f0ef01554dfcdb4",
      "placeholder": "​",
      "style": "IPY_MODEL_40b532d4d85740a2a16251bb321f489a",
      "value": " 115M/115M [00:02&lt;00:00, 36.9MB/s]"
     }
    },
    "309bad22d08c47af8d51942da599328e": {
     "model_module": "@jupyter-widgets/controls",
     "model_module_version": "1.5.0",
     "model_name": "DescriptionStyleModel",
     "state": {
      "_model_module": "@jupyter-widgets/controls",
      "_model_module_version": "1.5.0",
      "_model_name": "DescriptionStyleModel",
      "_view_count": null,
      "_view_module": "@jupyter-widgets/base",
      "_view_module_version": "1.2.0",
      "_view_name": "StyleView",
      "description_width": ""
     }
    },
    "3494ef9884224fa9a0a65999d7fc2945": {
     "model_module": "@jupyter-widgets/controls",
     "model_module_version": "1.5.0",
     "model_name": "DescriptionStyleModel",
     "state": {
      "_model_module": "@jupyter-widgets/controls",
      "_model_module_version": "1.5.0",
      "_model_name": "DescriptionStyleModel",
      "_view_count": null,
      "_view_module": "@jupyter-widgets/base",
      "_view_module_version": "1.2.0",
      "_view_name": "StyleView",
      "description_width": ""
     }
    },
    "3bd05fe4e6bd4ea2b7bfcfba705369c5": {
     "model_module": "@jupyter-widgets/controls",
     "model_module_version": "1.5.0",
     "model_name": "HTMLModel",
     "state": {
      "_dom_classes": [],
      "_model_module": "@jupyter-widgets/controls",
      "_model_module_version": "1.5.0",
      "_model_name": "HTMLModel",
      "_view_count": null,
      "_view_module": "@jupyter-widgets/controls",
      "_view_module_version": "1.5.0",
      "_view_name": "HTMLView",
      "description": "",
      "description_tooltip": null,
      "layout": "IPY_MODEL_01ef4b60c3144e17afffb86281466bab",
      "placeholder": "​",
      "style": "IPY_MODEL_3494ef9884224fa9a0a65999d7fc2945",
      "value": "Downloading model.safetensors: 100%"
     }
    },
    "40b532d4d85740a2a16251bb321f489a": {
     "model_module": "@jupyter-widgets/controls",
     "model_module_version": "1.5.0",
     "model_name": "DescriptionStyleModel",
     "state": {
      "_model_module": "@jupyter-widgets/controls",
      "_model_module_version": "1.5.0",
      "_model_name": "DescriptionStyleModel",
      "_view_count": null,
      "_view_module": "@jupyter-widgets/base",
      "_view_module_version": "1.2.0",
      "_view_name": "StyleView",
      "description_width": ""
     }
    },
    "415ddcb74bc2467fa9399039b7d0cafb": {
     "model_module": "@jupyter-widgets/controls",
     "model_module_version": "1.5.0",
     "model_name": "DescriptionStyleModel",
     "state": {
      "_model_module": "@jupyter-widgets/controls",
      "_model_module_version": "1.5.0",
      "_model_name": "DescriptionStyleModel",
      "_view_count": null,
      "_view_module": "@jupyter-widgets/base",
      "_view_module_version": "1.2.0",
      "_view_name": "StyleView",
      "description_width": ""
     }
    },
    "5246faf4e8194647a4b41d9de5a168f6": {
     "model_module": "@jupyter-widgets/controls",
     "model_module_version": "1.5.0",
     "model_name": "HBoxModel",
     "state": {
      "_dom_classes": [],
      "_model_module": "@jupyter-widgets/controls",
      "_model_module_version": "1.5.0",
      "_model_name": "HBoxModel",
      "_view_count": null,
      "_view_module": "@jupyter-widgets/controls",
      "_view_module_version": "1.5.0",
      "_view_name": "HBoxView",
      "box_style": "",
      "children": [
       "IPY_MODEL_c8f31460d7d5420db2c7840e287fac5b",
       "IPY_MODEL_2ee43f14fa654a66ad0cfb559826f266",
       "IPY_MODEL_e7e6388db19d47ceb06afc75fbb8486c"
      ],
      "layout": "IPY_MODEL_922be25533bd448e9ce92614f7bd2677"
     }
    },
    "547eb1582628438c9f0ef01554dfcdb4": {
     "model_module": "@jupyter-widgets/base",
     "model_module_version": "1.2.0",
     "model_name": "LayoutModel",
     "state": {
      "_model_module": "@jupyter-widgets/base",
      "_model_module_version": "1.2.0",
      "_model_name": "LayoutModel",
      "_view_count": null,
      "_view_module": "@jupyter-widgets/base",
      "_view_module_version": "1.2.0",
      "_view_name": "LayoutView",
      "align_content": null,
      "align_items": null,
      "align_self": null,
      "border": null,
      "bottom": null,
      "display": null,
      "flex": null,
      "flex_flow": null,
      "grid_area": null,
      "grid_auto_columns": null,
      "grid_auto_flow": null,
      "grid_auto_rows": null,
      "grid_column": null,
      "grid_gap": null,
      "grid_row": null,
      "grid_template_areas": null,
      "grid_template_columns": null,
      "grid_template_rows": null,
      "height": null,
      "justify_content": null,
      "justify_items": null,
      "left": null,
      "margin": null,
      "max_height": null,
      "max_width": null,
      "min_height": null,
      "min_width": null,
      "object_fit": null,
      "object_position": null,
      "order": null,
      "overflow": null,
      "overflow_x": null,
      "overflow_y": null,
      "padding": null,
      "right": null,
      "top": null,
      "visibility": null,
      "width": null
     }
    },
    "5ffb0b594f51466284af380fd4d47b40": {
     "model_module": "@jupyter-widgets/controls",
     "model_module_version": "1.5.0",
     "model_name": "FloatProgressModel",
     "state": {
      "_dom_classes": [],
      "_model_module": "@jupyter-widgets/controls",
      "_model_module_version": "1.5.0",
      "_model_name": "FloatProgressModel",
      "_view_count": null,
      "_view_module": "@jupyter-widgets/controls",
      "_view_module_version": "1.5.0",
      "_view_name": "ProgressView",
      "bar_style": "success",
      "description": "",
      "description_tooltip": null,
      "layout": "IPY_MODEL_c13aff2b064743be941b4672550e56c9",
      "max": 1469,
      "min": 0,
      "orientation": "horizontal",
      "style": "IPY_MODEL_ef5fba5f330748faa9bd583d637087a6",
      "value": 1469
     }
    },
    "64a0c4aa0bba4b6f8e8f5775a4341147": {
     "model_module": "@jupyter-widgets/controls",
     "model_module_version": "1.5.0",
     "model_name": "ProgressStyleModel",
     "state": {
      "_model_module": "@jupyter-widgets/controls",
      "_model_module_version": "1.5.0",
      "_model_name": "ProgressStyleModel",
      "_view_count": null,
      "_view_module": "@jupyter-widgets/base",
      "_view_module_version": "1.2.0",
      "_view_name": "StyleView",
      "bar_color": null,
      "description_width": ""
     }
    },
    "7185b40a7fa74088ad7ff6efb524e6b5": {
     "model_module": "@jupyter-widgets/base",
     "model_module_version": "1.2.0",
     "model_name": "LayoutModel",
     "state": {
      "_model_module": "@jupyter-widgets/base",
      "_model_module_version": "1.2.0",
      "_model_name": "LayoutModel",
      "_view_count": null,
      "_view_module": "@jupyter-widgets/base",
      "_view_module_version": "1.2.0",
      "_view_name": "LayoutView",
      "align_content": null,
      "align_items": null,
      "align_self": null,
      "border": null,
      "bottom": null,
      "display": null,
      "flex": null,
      "flex_flow": null,
      "grid_area": null,
      "grid_auto_columns": null,
      "grid_auto_flow": null,
      "grid_auto_rows": null,
      "grid_column": null,
      "grid_gap": null,
      "grid_row": null,
      "grid_template_areas": null,
      "grid_template_columns": null,
      "grid_template_rows": null,
      "height": null,
      "justify_content": null,
      "justify_items": null,
      "left": null,
      "margin": null,
      "max_height": null,
      "max_width": null,
      "min_height": null,
      "min_width": null,
      "object_fit": null,
      "object_position": null,
      "order": null,
      "overflow": null,
      "overflow_x": null,
      "overflow_y": null,
      "padding": null,
      "right": null,
      "top": null,
      "visibility": null,
      "width": null
     }
    },
    "7ad056a7d71847d498f270ecac5cbf62": {
     "model_module": "@jupyter-widgets/base",
     "model_module_version": "1.2.0",
     "model_name": "LayoutModel",
     "state": {
      "_model_module": "@jupyter-widgets/base",
      "_model_module_version": "1.2.0",
      "_model_name": "LayoutModel",
      "_view_count": null,
      "_view_module": "@jupyter-widgets/base",
      "_view_module_version": "1.2.0",
      "_view_name": "LayoutView",
      "align_content": null,
      "align_items": null,
      "align_self": null,
      "border": null,
      "bottom": null,
      "display": null,
      "flex": null,
      "flex_flow": null,
      "grid_area": null,
      "grid_auto_columns": null,
      "grid_auto_flow": null,
      "grid_auto_rows": null,
      "grid_column": null,
      "grid_gap": null,
      "grid_row": null,
      "grid_template_areas": null,
      "grid_template_columns": null,
      "grid_template_rows": null,
      "height": null,
      "justify_content": null,
      "justify_items": null,
      "left": null,
      "margin": null,
      "max_height": null,
      "max_width": null,
      "min_height": null,
      "min_width": null,
      "object_fit": null,
      "object_position": null,
      "order": null,
      "overflow": null,
      "overflow_x": null,
      "overflow_y": null,
      "padding": null,
      "right": null,
      "top": null,
      "visibility": null,
      "width": null
     }
    },
    "7d37b6f0ba8b4c5eb875635b98778d26": {
     "model_module": "@jupyter-widgets/controls",
     "model_module_version": "1.5.0",
     "model_name": "DescriptionStyleModel",
     "state": {
      "_model_module": "@jupyter-widgets/controls",
      "_model_module_version": "1.5.0",
      "_model_name": "DescriptionStyleModel",
      "_view_count": null,
      "_view_module": "@jupyter-widgets/base",
      "_view_module_version": "1.2.0",
      "_view_name": "StyleView",
      "description_width": ""
     }
    },
    "922be25533bd448e9ce92614f7bd2677": {
     "model_module": "@jupyter-widgets/base",
     "model_module_version": "1.2.0",
     "model_name": "LayoutModel",
     "state": {
      "_model_module": "@jupyter-widgets/base",
      "_model_module_version": "1.2.0",
      "_model_name": "LayoutModel",
      "_view_count": null,
      "_view_module": "@jupyter-widgets/base",
      "_view_module_version": "1.2.0",
      "_view_name": "LayoutView",
      "align_content": null,
      "align_items": null,
      "align_self": null,
      "border": null,
      "bottom": null,
      "display": null,
      "flex": null,
      "flex_flow": null,
      "grid_area": null,
      "grid_auto_columns": null,
      "grid_auto_flow": null,
      "grid_auto_rows": null,
      "grid_column": null,
      "grid_gap": null,
      "grid_row": null,
      "grid_template_areas": null,
      "grid_template_columns": null,
      "grid_template_rows": null,
      "height": null,
      "justify_content": null,
      "justify_items": null,
      "left": null,
      "margin": null,
      "max_height": null,
      "max_width": null,
      "min_height": null,
      "min_width": null,
      "object_fit": null,
      "object_position": null,
      "order": null,
      "overflow": null,
      "overflow_x": null,
      "overflow_y": null,
      "padding": null,
      "right": null,
      "top": null,
      "visibility": null,
      "width": null
     }
    },
    "93205e664daa4921959605eb99dfa9cc": {
     "model_module": "@jupyter-widgets/base",
     "model_module_version": "1.2.0",
     "model_name": "LayoutModel",
     "state": {
      "_model_module": "@jupyter-widgets/base",
      "_model_module_version": "1.2.0",
      "_model_name": "LayoutModel",
      "_view_count": null,
      "_view_module": "@jupyter-widgets/base",
      "_view_module_version": "1.2.0",
      "_view_name": "LayoutView",
      "align_content": null,
      "align_items": null,
      "align_self": null,
      "border": null,
      "bottom": null,
      "display": null,
      "flex": null,
      "flex_flow": null,
      "grid_area": null,
      "grid_auto_columns": null,
      "grid_auto_flow": null,
      "grid_auto_rows": null,
      "grid_column": null,
      "grid_gap": null,
      "grid_row": null,
      "grid_template_areas": null,
      "grid_template_columns": null,
      "grid_template_rows": null,
      "height": null,
      "justify_content": null,
      "justify_items": null,
      "left": null,
      "margin": null,
      "max_height": null,
      "max_width": null,
      "min_height": null,
      "min_width": null,
      "object_fit": null,
      "object_position": null,
      "order": null,
      "overflow": null,
      "overflow_x": null,
      "overflow_y": null,
      "padding": null,
      "right": null,
      "top": null,
      "visibility": null,
      "width": null
     }
    },
    "9eab400a02dc46269e2537db44a78625": {
     "model_module": "@jupyter-widgets/base",
     "model_module_version": "1.2.0",
     "model_name": "LayoutModel",
     "state": {
      "_model_module": "@jupyter-widgets/base",
      "_model_module_version": "1.2.0",
      "_model_name": "LayoutModel",
      "_view_count": null,
      "_view_module": "@jupyter-widgets/base",
      "_view_module_version": "1.2.0",
      "_view_name": "LayoutView",
      "align_content": null,
      "align_items": null,
      "align_self": null,
      "border": null,
      "bottom": null,
      "display": null,
      "flex": null,
      "flex_flow": null,
      "grid_area": null,
      "grid_auto_columns": null,
      "grid_auto_flow": null,
      "grid_auto_rows": null,
      "grid_column": null,
      "grid_gap": null,
      "grid_row": null,
      "grid_template_areas": null,
      "grid_template_columns": null,
      "grid_template_rows": null,
      "height": null,
      "justify_content": null,
      "justify_items": null,
      "left": null,
      "margin": null,
      "max_height": null,
      "max_width": null,
      "min_height": null,
      "min_width": null,
      "object_fit": null,
      "object_position": null,
      "order": null,
      "overflow": null,
      "overflow_x": null,
      "overflow_y": null,
      "padding": null,
      "right": null,
      "top": null,
      "visibility": null,
      "width": null
     }
    },
    "a9a67e81e91e46e19b23f58dea634525": {
     "model_module": "@jupyter-widgets/controls",
     "model_module_version": "1.5.0",
     "model_name": "HBoxModel",
     "state": {
      "_dom_classes": [],
      "_model_module": "@jupyter-widgets/controls",
      "_model_module_version": "1.5.0",
      "_model_name": "HBoxModel",
      "_view_count": null,
      "_view_module": "@jupyter-widgets/controls",
      "_view_module_version": "1.5.0",
      "_view_name": "HBoxView",
      "box_style": "",
      "children": [
       "IPY_MODEL_2045ffddb5c4407f9235d1bf472e9ba5",
       "IPY_MODEL_2df0c4cc59044ec8a59aadf2d5d2a9c9",
       "IPY_MODEL_3095817ccc8f4ec6bae9b0c201d8e40a"
      ],
      "layout": "IPY_MODEL_93205e664daa4921959605eb99dfa9cc"
     }
    },
    "b12ba9f2111c44eeb5ae65820cc7d5d7": {
     "model_module": "@jupyter-widgets/controls",
     "model_module_version": "1.5.0",
     "model_name": "HBoxModel",
     "state": {
      "_dom_classes": [],
      "_model_module": "@jupyter-widgets/controls",
      "_model_module_version": "1.5.0",
      "_model_name": "HBoxModel",
      "_view_count": null,
      "_view_module": "@jupyter-widgets/controls",
      "_view_module_version": "1.5.0",
      "_view_name": "HBoxView",
      "box_style": "",
      "children": [
       "IPY_MODEL_15b9261bb07f4bbb95d276b92feabade",
       "IPY_MODEL_5ffb0b594f51466284af380fd4d47b40",
       "IPY_MODEL_fc994e0c5ced45c78c0b9bb6f19c073f"
      ],
      "layout": "IPY_MODEL_c58471c60519419e9cdb3c7ff174d702"
     }
    },
    "b2fc825e7e6949e0a18f491ff261ac2b": {
     "model_module": "@jupyter-widgets/base",
     "model_module_version": "1.2.0",
     "model_name": "LayoutModel",
     "state": {
      "_model_module": "@jupyter-widgets/base",
      "_model_module_version": "1.2.0",
      "_model_name": "LayoutModel",
      "_view_count": null,
      "_view_module": "@jupyter-widgets/base",
      "_view_module_version": "1.2.0",
      "_view_name": "LayoutView",
      "align_content": null,
      "align_items": null,
      "align_self": null,
      "border": null,
      "bottom": null,
      "display": null,
      "flex": null,
      "flex_flow": null,
      "grid_area": null,
      "grid_auto_columns": null,
      "grid_auto_flow": null,
      "grid_auto_rows": null,
      "grid_column": null,
      "grid_gap": null,
      "grid_row": null,
      "grid_template_areas": null,
      "grid_template_columns": null,
      "grid_template_rows": null,
      "height": null,
      "justify_content": null,
      "justify_items": null,
      "left": null,
      "margin": null,
      "max_height": null,
      "max_width": null,
      "min_height": null,
      "min_width": null,
      "object_fit": null,
      "object_position": null,
      "order": null,
      "overflow": null,
      "overflow_x": null,
      "overflow_y": null,
      "padding": null,
      "right": null,
      "top": null,
      "visibility": null,
      "width": null
     }
    },
    "c13aff2b064743be941b4672550e56c9": {
     "model_module": "@jupyter-widgets/base",
     "model_module_version": "1.2.0",
     "model_name": "LayoutModel",
     "state": {
      "_model_module": "@jupyter-widgets/base",
      "_model_module_version": "1.2.0",
      "_model_name": "LayoutModel",
      "_view_count": null,
      "_view_module": "@jupyter-widgets/base",
      "_view_module_version": "1.2.0",
      "_view_name": "LayoutView",
      "align_content": null,
      "align_items": null,
      "align_self": null,
      "border": null,
      "bottom": null,
      "display": null,
      "flex": null,
      "flex_flow": null,
      "grid_area": null,
      "grid_auto_columns": null,
      "grid_auto_flow": null,
      "grid_auto_rows": null,
      "grid_column": null,
      "grid_gap": null,
      "grid_row": null,
      "grid_template_areas": null,
      "grid_template_columns": null,
      "grid_template_rows": null,
      "height": null,
      "justify_content": null,
      "justify_items": null,
      "left": null,
      "margin": null,
      "max_height": null,
      "max_width": null,
      "min_height": null,
      "min_width": null,
      "object_fit": null,
      "object_position": null,
      "order": null,
      "overflow": null,
      "overflow_x": null,
      "overflow_y": null,
      "padding": null,
      "right": null,
      "top": null,
      "visibility": null,
      "width": null
     }
    },
    "c428c0bd915d455986b3193e9636ea80": {
     "model_module": "@jupyter-widgets/base",
     "model_module_version": "1.2.0",
     "model_name": "LayoutModel",
     "state": {
      "_model_module": "@jupyter-widgets/base",
      "_model_module_version": "1.2.0",
      "_model_name": "LayoutModel",
      "_view_count": null,
      "_view_module": "@jupyter-widgets/base",
      "_view_module_version": "1.2.0",
      "_view_name": "LayoutView",
      "align_content": null,
      "align_items": null,
      "align_self": null,
      "border": null,
      "bottom": null,
      "display": null,
      "flex": null,
      "flex_flow": null,
      "grid_area": null,
      "grid_auto_columns": null,
      "grid_auto_flow": null,
      "grid_auto_rows": null,
      "grid_column": null,
      "grid_gap": null,
      "grid_row": null,
      "grid_template_areas": null,
      "grid_template_columns": null,
      "grid_template_rows": null,
      "height": null,
      "justify_content": null,
      "justify_items": null,
      "left": null,
      "margin": null,
      "max_height": null,
      "max_width": null,
      "min_height": null,
      "min_width": null,
      "object_fit": null,
      "object_position": null,
      "order": null,
      "overflow": null,
      "overflow_x": null,
      "overflow_y": null,
      "padding": null,
      "right": null,
      "top": null,
      "visibility": null,
      "width": null
     }
    },
    "c58471c60519419e9cdb3c7ff174d702": {
     "model_module": "@jupyter-widgets/base",
     "model_module_version": "1.2.0",
     "model_name": "LayoutModel",
     "state": {
      "_model_module": "@jupyter-widgets/base",
      "_model_module_version": "1.2.0",
      "_model_name": "LayoutModel",
      "_view_count": null,
      "_view_module": "@jupyter-widgets/base",
      "_view_module_version": "1.2.0",
      "_view_name": "LayoutView",
      "align_content": null,
      "align_items": null,
      "align_self": null,
      "border": null,
      "bottom": null,
      "display": null,
      "flex": null,
      "flex_flow": null,
      "grid_area": null,
      "grid_auto_columns": null,
      "grid_auto_flow": null,
      "grid_auto_rows": null,
      "grid_column": null,
      "grid_gap": null,
      "grid_row": null,
      "grid_template_areas": null,
      "grid_template_columns": null,
      "grid_template_rows": null,
      "height": null,
      "justify_content": null,
      "justify_items": null,
      "left": null,
      "margin": null,
      "max_height": null,
      "max_width": null,
      "min_height": null,
      "min_width": null,
      "object_fit": null,
      "object_position": null,
      "order": null,
      "overflow": null,
      "overflow_x": null,
      "overflow_y": null,
      "padding": null,
      "right": null,
      "top": null,
      "visibility": null,
      "width": null
     }
    },
    "c8f31460d7d5420db2c7840e287fac5b": {
     "model_module": "@jupyter-widgets/controls",
     "model_module_version": "1.5.0",
     "model_name": "HTMLModel",
     "state": {
      "_dom_classes": [],
      "_model_module": "@jupyter-widgets/controls",
      "_model_module_version": "1.5.0",
      "_model_name": "HTMLModel",
      "_view_count": null,
      "_view_module": "@jupyter-widgets/controls",
      "_view_module_version": "1.5.0",
      "_view_name": "HTMLView",
      "description": "",
      "description_tooltip": null,
      "layout": "IPY_MODEL_f63ee7f4234c45d48829e011f24eafde",
      "placeholder": "​",
      "style": "IPY_MODEL_f8bcfb1381aa46d89034ea50e30b43cf",
      "value": "Downloading yolox_l0.05.onnx: 100%"
     }
    },
    "cc6672c78dac468d9264efd90902c87d": {
     "model_module": "@jupyter-widgets/controls",
     "model_module_version": "1.5.0",
     "model_name": "ProgressStyleModel",
     "state": {
      "_model_module": "@jupyter-widgets/controls",
      "_model_module_version": "1.5.0",
      "_model_name": "ProgressStyleModel",
      "_view_count": null,
      "_view_module": "@jupyter-widgets/base",
      "_view_module_version": "1.2.0",
      "_view_name": "StyleView",
      "bar_color": null,
      "description_width": ""
     }
    },
    "daabde9b4b764797af6b96370e40c1d2": {
     "model_module": "@jupyter-widgets/base",
     "model_module_version": "1.2.0",
     "model_name": "LayoutModel",
     "state": {
      "_model_module": "@jupyter-widgets/base",
      "_model_module_version": "1.2.0",
      "_model_name": "LayoutModel",
      "_view_count": null,
      "_view_module": "@jupyter-widgets/base",
      "_view_module_version": "1.2.0",
      "_view_name": "LayoutView",
      "align_content": null,
      "align_items": null,
      "align_self": null,
      "border": null,
      "bottom": null,
      "display": null,
      "flex": null,
      "flex_flow": null,
      "grid_area": null,
      "grid_auto_columns": null,
      "grid_auto_flow": null,
      "grid_auto_rows": null,
      "grid_column": null,
      "grid_gap": null,
      "grid_row": null,
      "grid_template_areas": null,
      "grid_template_columns": null,
      "grid_template_rows": null,
      "height": null,
      "justify_content": null,
      "justify_items": null,
      "left": null,
      "margin": null,
      "max_height": null,
      "max_width": null,
      "min_height": null,
      "min_width": null,
      "object_fit": null,
      "object_position": null,
      "order": null,
      "overflow": null,
      "overflow_x": null,
      "overflow_y": null,
      "padding": null,
      "right": null,
      "top": null,
      "visibility": null,
      "width": null
     }
    },
    "df6e6c84cc1c4c7b8cf5f8555eb42166": {
     "model_module": "@jupyter-widgets/controls",
     "model_module_version": "1.5.0",
     "model_name": "ProgressStyleModel",
     "state": {
      "_model_module": "@jupyter-widgets/controls",
      "_model_module_version": "1.5.0",
      "_model_name": "ProgressStyleModel",
      "_view_count": null,
      "_view_module": "@jupyter-widgets/base",
      "_view_module_version": "1.2.0",
      "_view_name": "StyleView",
      "bar_color": null,
      "description_width": ""
     }
    },
    "e64cfd87330d4b238596da66db63d984": {
     "model_module": "@jupyter-widgets/controls",
     "model_module_version": "1.5.0",
     "model_name": "DescriptionStyleModel",
     "state": {
      "_model_module": "@jupyter-widgets/controls",
      "_model_module_version": "1.5.0",
      "_model_name": "DescriptionStyleModel",
      "_view_count": null,
      "_view_module": "@jupyter-widgets/base",
      "_view_module_version": "1.2.0",
      "_view_name": "StyleView",
      "description_width": ""
     }
    },
    "e7e6388db19d47ceb06afc75fbb8486c": {
     "model_module": "@jupyter-widgets/controls",
     "model_module_version": "1.5.0",
     "model_name": "HTMLModel",
     "state": {
      "_dom_classes": [],
      "_model_module": "@jupyter-widgets/controls",
      "_model_module_version": "1.5.0",
      "_model_name": "HTMLModel",
      "_view_count": null,
      "_view_module": "@jupyter-widgets/controls",
      "_view_module_version": "1.5.0",
      "_view_name": "HTMLView",
      "description": "",
      "description_tooltip": null,
      "layout": "IPY_MODEL_2bcca7acc6f047d6ad4efbf1e5333c58",
      "placeholder": "​",
      "style": "IPY_MODEL_052ec73371404595b7dec973dda308d4",
      "value": " 217M/217M [00:07&lt;00:00, 37.2MB/s]"
     }
    },
    "ef5fba5f330748faa9bd583d637087a6": {
     "model_module": "@jupyter-widgets/controls",
     "model_module_version": "1.5.0",
     "model_name": "ProgressStyleModel",
     "state": {
      "_model_module": "@jupyter-widgets/controls",
      "_model_module_version": "1.5.0",
      "_model_name": "ProgressStyleModel",
      "_view_count": null,
      "_view_module": "@jupyter-widgets/base",
      "_view_module_version": "1.2.0",
      "_view_name": "StyleView",
      "bar_color": null,
      "description_width": ""
     }
    },
    "ef897646c62444929b91935d3917b14d": {
     "model_module": "@jupyter-widgets/controls",
     "model_module_version": "1.5.0",
     "model_name": "HBoxModel",
     "state": {
      "_dom_classes": [],
      "_model_module": "@jupyter-widgets/controls",
      "_model_module_version": "1.5.0",
      "_model_name": "HBoxModel",
      "_view_count": null,
      "_view_module": "@jupyter-widgets/controls",
      "_view_module_version": "1.5.0",
      "_view_name": "HBoxView",
      "box_style": "",
      "children": [
       "IPY_MODEL_3bd05fe4e6bd4ea2b7bfcfba705369c5",
       "IPY_MODEL_27e36e7f92d7417bb221fa95406cfb2f",
       "IPY_MODEL_21318da3ae0644c28ec63983a34bd2ee"
      ],
      "layout": "IPY_MODEL_c428c0bd915d455986b3193e9636ea80"
     }
    },
    "f63ee7f4234c45d48829e011f24eafde": {
     "model_module": "@jupyter-widgets/base",
     "model_module_version": "1.2.0",
     "model_name": "LayoutModel",
     "state": {
      "_model_module": "@jupyter-widgets/base",
      "_model_module_version": "1.2.0",
      "_model_name": "LayoutModel",
      "_view_count": null,
      "_view_module": "@jupyter-widgets/base",
      "_view_module_version": "1.2.0",
      "_view_name": "LayoutView",
      "align_content": null,
      "align_items": null,
      "align_self": null,
      "border": null,
      "bottom": null,
      "display": null,
      "flex": null,
      "flex_flow": null,
      "grid_area": null,
      "grid_auto_columns": null,
      "grid_auto_flow": null,
      "grid_auto_rows": null,
      "grid_column": null,
      "grid_gap": null,
      "grid_row": null,
      "grid_template_areas": null,
      "grid_template_columns": null,
      "grid_template_rows": null,
      "height": null,
      "justify_content": null,
      "justify_items": null,
      "left": null,
      "margin": null,
      "max_height": null,
      "max_width": null,
      "min_height": null,
      "min_width": null,
      "object_fit": null,
      "object_position": null,
      "order": null,
      "overflow": null,
      "overflow_x": null,
      "overflow_y": null,
      "padding": null,
      "right": null,
      "top": null,
      "visibility": null,
      "width": null
     }
    },
    "f8bcfb1381aa46d89034ea50e30b43cf": {
     "model_module": "@jupyter-widgets/controls",
     "model_module_version": "1.5.0",
     "model_name": "DescriptionStyleModel",
     "state": {
      "_model_module": "@jupyter-widgets/controls",
      "_model_module_version": "1.5.0",
      "_model_name": "DescriptionStyleModel",
      "_view_count": null,
      "_view_module": "@jupyter-widgets/base",
      "_view_module_version": "1.2.0",
      "_view_name": "StyleView",
      "description_width": ""
     }
    },
    "fc994e0c5ced45c78c0b9bb6f19c073f": {
     "model_module": "@jupyter-widgets/controls",
     "model_module_version": "1.5.0",
     "model_name": "HTMLModel",
     "state": {
      "_dom_classes": [],
      "_model_module": "@jupyter-widgets/controls",
      "_model_module_version": "1.5.0",
      "_model_name": "HTMLModel",
      "_view_count": null,
      "_view_module": "@jupyter-widgets/controls",
      "_view_module_version": "1.5.0",
      "_view_name": "HTMLView",
      "description": "",
      "description_tooltip": null,
      "layout": "IPY_MODEL_daabde9b4b764797af6b96370e40c1d2",
      "placeholder": "​",
      "style": "IPY_MODEL_7d37b6f0ba8b4c5eb875635b98778d26",
      "value": " 1.47k/1.47k [00:00&lt;00:00, 66.9kB/s]"
     }
    }
   }
  }
 },
 "nbformat": 4,
 "nbformat_minor": 5
}
