{
 "cells": [
  {
   "cell_type": "markdown",
   "metadata": {},
   "source": [
    "# SmolDocling"
   ]
  },
  {
   "cell_type": "code",
   "execution_count": 6,
   "metadata": {},
   "outputs": [
    {
     "name": "stderr",
     "output_type": "stream",
     "text": [
      "huggingface/tokenizers: The current process just got forked, after parallelism has already been used. Disabling parallelism to avoid deadlocks...\n",
      "To disable this warning, you can either:\n",
      "\t- Avoid using `tokenizers` before the fork if possible\n",
      "\t- Explicitly set the environment variable TOKENIZERS_PARALLELISM=(true | false)\n"
     ]
    },
    {
     "name": "stdout",
     "output_type": "stream",
     "text": [
      "Requirement already satisfied: transformers in /home/maudev/develoop/incyte/POCS/multi_modal_rags/.venv/lib/python3.10/site-packages (4.51.3)\n",
      "Requirement already satisfied: torch in /home/maudev/develoop/incyte/POCS/multi_modal_rags/.venv/lib/python3.10/site-packages (2.7.0)\n",
      "Requirement already satisfied: docling_core in /home/maudev/develoop/incyte/POCS/multi_modal_rags/.venv/lib/python3.10/site-packages (2.29.0)\n",
      "Collecting markdown2\n",
      "  Downloading markdown2-2.5.3-py3-none-any.whl.metadata (2.1 kB)\n",
      "Requirement already satisfied: filelock in /home/maudev/develoop/incyte/POCS/multi_modal_rags/.venv/lib/python3.10/site-packages (from transformers) (3.18.0)\n",
      "Requirement already satisfied: huggingface-hub<1.0,>=0.30.0 in /home/maudev/develoop/incyte/POCS/multi_modal_rags/.venv/lib/python3.10/site-packages (from transformers) (0.30.2)\n",
      "Requirement already satisfied: numpy>=1.17 in /home/maudev/develoop/incyte/POCS/multi_modal_rags/.venv/lib/python3.10/site-packages (from transformers) (2.2.5)\n",
      "Requirement already satisfied: packaging>=20.0 in /home/maudev/develoop/incyte/POCS/multi_modal_rags/.venv/lib/python3.10/site-packages (from transformers) (24.2)\n",
      "Requirement already satisfied: pyyaml>=5.1 in /home/maudev/develoop/incyte/POCS/multi_modal_rags/.venv/lib/python3.10/site-packages (from transformers) (6.0.2)\n",
      "Requirement already satisfied: regex!=2019.12.17 in /home/maudev/develoop/incyte/POCS/multi_modal_rags/.venv/lib/python3.10/site-packages (from transformers) (2024.11.6)\n",
      "Requirement already satisfied: requests in /home/maudev/develoop/incyte/POCS/multi_modal_rags/.venv/lib/python3.10/site-packages (from transformers) (2.32.3)\n",
      "Requirement already satisfied: tokenizers<0.22,>=0.21 in /home/maudev/develoop/incyte/POCS/multi_modal_rags/.venv/lib/python3.10/site-packages (from transformers) (0.21.1)\n",
      "Requirement already satisfied: safetensors>=0.4.3 in /home/maudev/develoop/incyte/POCS/multi_modal_rags/.venv/lib/python3.10/site-packages (from transformers) (0.5.3)\n",
      "Requirement already satisfied: tqdm>=4.27 in /home/maudev/develoop/incyte/POCS/multi_modal_rags/.venv/lib/python3.10/site-packages (from transformers) (4.67.1)\n",
      "Requirement already satisfied: fsspec>=2023.5.0 in /home/maudev/develoop/incyte/POCS/multi_modal_rags/.venv/lib/python3.10/site-packages (from huggingface-hub<1.0,>=0.30.0->transformers) (2025.3.2)\n",
      "Requirement already satisfied: typing-extensions>=3.7.4.3 in /home/maudev/develoop/incyte/POCS/multi_modal_rags/.venv/lib/python3.10/site-packages (from huggingface-hub<1.0,>=0.30.0->transformers) (4.13.2)\n",
      "Requirement already satisfied: sympy>=1.13.3 in /home/maudev/develoop/incyte/POCS/multi_modal_rags/.venv/lib/python3.10/site-packages (from torch) (1.14.0)\n",
      "Requirement already satisfied: networkx in /home/maudev/develoop/incyte/POCS/multi_modal_rags/.venv/lib/python3.10/site-packages (from torch) (3.4.2)\n",
      "Requirement already satisfied: jinja2 in /home/maudev/develoop/incyte/POCS/multi_modal_rags/.venv/lib/python3.10/site-packages (from torch) (3.1.6)\n",
      "Requirement already satisfied: nvidia-cuda-nvrtc-cu12==12.6.77 in /home/maudev/develoop/incyte/POCS/multi_modal_rags/.venv/lib/python3.10/site-packages (from torch) (12.6.77)\n",
      "Requirement already satisfied: nvidia-cuda-runtime-cu12==12.6.77 in /home/maudev/develoop/incyte/POCS/multi_modal_rags/.venv/lib/python3.10/site-packages (from torch) (12.6.77)\n",
      "Requirement already satisfied: nvidia-cuda-cupti-cu12==12.6.80 in /home/maudev/develoop/incyte/POCS/multi_modal_rags/.venv/lib/python3.10/site-packages (from torch) (12.6.80)\n",
      "Requirement already satisfied: nvidia-cudnn-cu12==9.5.1.17 in /home/maudev/develoop/incyte/POCS/multi_modal_rags/.venv/lib/python3.10/site-packages (from torch) (9.5.1.17)\n",
      "Requirement already satisfied: nvidia-cublas-cu12==12.6.4.1 in /home/maudev/develoop/incyte/POCS/multi_modal_rags/.venv/lib/python3.10/site-packages (from torch) (12.6.4.1)\n",
      "Requirement already satisfied: nvidia-cufft-cu12==11.3.0.4 in /home/maudev/develoop/incyte/POCS/multi_modal_rags/.venv/lib/python3.10/site-packages (from torch) (11.3.0.4)\n",
      "Requirement already satisfied: nvidia-curand-cu12==10.3.7.77 in /home/maudev/develoop/incyte/POCS/multi_modal_rags/.venv/lib/python3.10/site-packages (from torch) (10.3.7.77)\n",
      "Requirement already satisfied: nvidia-cusolver-cu12==11.7.1.2 in /home/maudev/develoop/incyte/POCS/multi_modal_rags/.venv/lib/python3.10/site-packages (from torch) (11.7.1.2)\n",
      "Requirement already satisfied: nvidia-cusparse-cu12==12.5.4.2 in /home/maudev/develoop/incyte/POCS/multi_modal_rags/.venv/lib/python3.10/site-packages (from torch) (12.5.4.2)\n",
      "Requirement already satisfied: nvidia-cusparselt-cu12==0.6.3 in /home/maudev/develoop/incyte/POCS/multi_modal_rags/.venv/lib/python3.10/site-packages (from torch) (0.6.3)\n",
      "Requirement already satisfied: nvidia-nccl-cu12==2.26.2 in /home/maudev/develoop/incyte/POCS/multi_modal_rags/.venv/lib/python3.10/site-packages (from torch) (2.26.2)\n",
      "Requirement already satisfied: nvidia-nvtx-cu12==12.6.77 in /home/maudev/develoop/incyte/POCS/multi_modal_rags/.venv/lib/python3.10/site-packages (from torch) (12.6.77)\n",
      "Requirement already satisfied: nvidia-nvjitlink-cu12==12.6.85 in /home/maudev/develoop/incyte/POCS/multi_modal_rags/.venv/lib/python3.10/site-packages (from torch) (12.6.85)\n",
      "Requirement already satisfied: nvidia-cufile-cu12==1.11.1.6 in /home/maudev/develoop/incyte/POCS/multi_modal_rags/.venv/lib/python3.10/site-packages (from torch) (1.11.1.6)\n",
      "Requirement already satisfied: triton==3.3.0 in /home/maudev/develoop/incyte/POCS/multi_modal_rags/.venv/lib/python3.10/site-packages (from torch) (3.3.0)\n",
      "Requirement already satisfied: setuptools>=40.8.0 in /home/maudev/develoop/incyte/POCS/multi_modal_rags/.venv/lib/python3.10/site-packages (from triton==3.3.0->torch) (65.5.0)\n",
      "Requirement already satisfied: jsonref<2.0.0,>=1.1.0 in /home/maudev/develoop/incyte/POCS/multi_modal_rags/.venv/lib/python3.10/site-packages (from docling_core) (1.1.0)\n",
      "Requirement already satisfied: jsonschema<5.0.0,>=4.16.0 in /home/maudev/develoop/incyte/POCS/multi_modal_rags/.venv/lib/python3.10/site-packages (from docling_core) (4.23.0)\n",
      "Requirement already satisfied: latex2mathml<4.0.0,>=3.77.0 in /home/maudev/develoop/incyte/POCS/multi_modal_rags/.venv/lib/python3.10/site-packages (from docling_core) (3.78.0)\n",
      "Requirement already satisfied: pandas<3.0.0,>=2.1.4 in /home/maudev/develoop/incyte/POCS/multi_modal_rags/.venv/lib/python3.10/site-packages (from docling_core) (2.2.3)\n",
      "Requirement already satisfied: pillow<12.0.0,>=10.0.0 in /home/maudev/develoop/incyte/POCS/multi_modal_rags/.venv/lib/python3.10/site-packages (from docling_core) (11.2.1)\n",
      "Requirement already satisfied: pydantic!=2.10.0,!=2.10.1,!=2.10.2,<3.0.0,>=2.6.0 in /home/maudev/develoop/incyte/POCS/multi_modal_rags/.venv/lib/python3.10/site-packages (from docling_core) (2.11.4)\n",
      "Requirement already satisfied: tabulate<0.10.0,>=0.9.0 in /home/maudev/develoop/incyte/POCS/multi_modal_rags/.venv/lib/python3.10/site-packages (from docling_core) (0.9.0)\n",
      "Requirement already satisfied: typer<0.16.0,>=0.12.5 in /home/maudev/develoop/incyte/POCS/multi_modal_rags/.venv/lib/python3.10/site-packages (from docling_core) (0.15.3)\n",
      "Requirement already satisfied: attrs>=22.2.0 in /home/maudev/develoop/incyte/POCS/multi_modal_rags/.venv/lib/python3.10/site-packages (from jsonschema<5.0.0,>=4.16.0->docling_core) (25.3.0)\n",
      "Requirement already satisfied: jsonschema-specifications>=2023.03.6 in /home/maudev/develoop/incyte/POCS/multi_modal_rags/.venv/lib/python3.10/site-packages (from jsonschema<5.0.0,>=4.16.0->docling_core) (2025.4.1)\n",
      "Requirement already satisfied: referencing>=0.28.4 in /home/maudev/develoop/incyte/POCS/multi_modal_rags/.venv/lib/python3.10/site-packages (from jsonschema<5.0.0,>=4.16.0->docling_core) (0.36.2)\n",
      "Requirement already satisfied: rpds-py>=0.7.1 in /home/maudev/develoop/incyte/POCS/multi_modal_rags/.venv/lib/python3.10/site-packages (from jsonschema<5.0.0,>=4.16.0->docling_core) (0.24.0)\n",
      "Requirement already satisfied: python-dateutil>=2.8.2 in /home/maudev/develoop/incyte/POCS/multi_modal_rags/.venv/lib/python3.10/site-packages (from pandas<3.0.0,>=2.1.4->docling_core) (2.9.0.post0)\n",
      "Requirement already satisfied: pytz>=2020.1 in /home/maudev/develoop/incyte/POCS/multi_modal_rags/.venv/lib/python3.10/site-packages (from pandas<3.0.0,>=2.1.4->docling_core) (2025.2)\n",
      "Requirement already satisfied: tzdata>=2022.7 in /home/maudev/develoop/incyte/POCS/multi_modal_rags/.venv/lib/python3.10/site-packages (from pandas<3.0.0,>=2.1.4->docling_core) (2025.2)\n",
      "Requirement already satisfied: annotated-types>=0.6.0 in /home/maudev/develoop/incyte/POCS/multi_modal_rags/.venv/lib/python3.10/site-packages (from pydantic!=2.10.0,!=2.10.1,!=2.10.2,<3.0.0,>=2.6.0->docling_core) (0.7.0)\n",
      "Requirement already satisfied: pydantic-core==2.33.2 in /home/maudev/develoop/incyte/POCS/multi_modal_rags/.venv/lib/python3.10/site-packages (from pydantic!=2.10.0,!=2.10.1,!=2.10.2,<3.0.0,>=2.6.0->docling_core) (2.33.2)\n",
      "Requirement already satisfied: typing-inspection>=0.4.0 in /home/maudev/develoop/incyte/POCS/multi_modal_rags/.venv/lib/python3.10/site-packages (from pydantic!=2.10.0,!=2.10.1,!=2.10.2,<3.0.0,>=2.6.0->docling_core) (0.4.0)\n",
      "Requirement already satisfied: click>=8.0.0 in /home/maudev/develoop/incyte/POCS/multi_modal_rags/.venv/lib/python3.10/site-packages (from typer<0.16.0,>=0.12.5->docling_core) (8.1.8)\n",
      "Requirement already satisfied: shellingham>=1.3.0 in /home/maudev/develoop/incyte/POCS/multi_modal_rags/.venv/lib/python3.10/site-packages (from typer<0.16.0,>=0.12.5->docling_core) (1.5.4)\n",
      "Requirement already satisfied: rich>=10.11.0 in /home/maudev/develoop/incyte/POCS/multi_modal_rags/.venv/lib/python3.10/site-packages (from typer<0.16.0,>=0.12.5->docling_core) (14.0.0)\n",
      "Requirement already satisfied: six>=1.5 in /home/maudev/develoop/incyte/POCS/multi_modal_rags/.venv/lib/python3.10/site-packages (from python-dateutil>=2.8.2->pandas<3.0.0,>=2.1.4->docling_core) (1.17.0)\n",
      "Requirement already satisfied: markdown-it-py>=2.2.0 in /home/maudev/develoop/incyte/POCS/multi_modal_rags/.venv/lib/python3.10/site-packages (from rich>=10.11.0->typer<0.16.0,>=0.12.5->docling_core) (3.0.0)\n",
      "Requirement already satisfied: pygments<3.0.0,>=2.13.0 in /home/maudev/develoop/incyte/POCS/multi_modal_rags/.venv/lib/python3.10/site-packages (from rich>=10.11.0->typer<0.16.0,>=0.12.5->docling_core) (2.19.1)\n",
      "Requirement already satisfied: mdurl~=0.1 in /home/maudev/develoop/incyte/POCS/multi_modal_rags/.venv/lib/python3.10/site-packages (from markdown-it-py>=2.2.0->rich>=10.11.0->typer<0.16.0,>=0.12.5->docling_core) (0.1.2)\n",
      "Requirement already satisfied: mpmath<1.4,>=1.1.0 in /home/maudev/develoop/incyte/POCS/multi_modal_rags/.venv/lib/python3.10/site-packages (from sympy>=1.13.3->torch) (1.3.0)\n",
      "Requirement already satisfied: MarkupSafe>=2.0 in /home/maudev/develoop/incyte/POCS/multi_modal_rags/.venv/lib/python3.10/site-packages (from jinja2->torch) (3.0.2)\n",
      "Requirement already satisfied: charset-normalizer<4,>=2 in /home/maudev/develoop/incyte/POCS/multi_modal_rags/.venv/lib/python3.10/site-packages (from requests->transformers) (3.4.2)\n",
      "Requirement already satisfied: idna<4,>=2.5 in /home/maudev/develoop/incyte/POCS/multi_modal_rags/.venv/lib/python3.10/site-packages (from requests->transformers) (3.10)\n",
      "Requirement already satisfied: urllib3<3,>=1.21.1 in /home/maudev/develoop/incyte/POCS/multi_modal_rags/.venv/lib/python3.10/site-packages (from requests->transformers) (2.4.0)\n",
      "Requirement already satisfied: certifi>=2017.4.17 in /home/maudev/develoop/incyte/POCS/multi_modal_rags/.venv/lib/python3.10/site-packages (from requests->transformers) (2025.4.26)\n",
      "Downloading markdown2-2.5.3-py3-none-any.whl (48 kB)\n",
      "Installing collected packages: markdown2\n",
      "Successfully installed markdown2-2.5.3\n"
     ]
    }
   ],
   "source": [
    "# Install dependencies\n",
    "!pip install transformers torch docling_core markdown2"
   ]
  },
  {
   "cell_type": "markdown",
   "metadata": {},
   "source": [
    "# Interpret image (should reduce tokens to 256 because it takes a lot of tokens to describe the image)"
   ]
  },
  {
   "cell_type": "code",
   "execution_count": null,
   "metadata": {},
   "outputs": [
    {
     "name": "stderr",
     "output_type": "stream",
     "text": [
      "Truncation was not explicitly activated but `max_length` is provided a specific value, please use `truncation=True` to explicitly truncate examples to max length. Defaulting to 'longest_first' truncation strategy. If you encode pairs of sequences (GLUE-style) with the tokenizer you can select this strategy more precisely by providing a specific strategy to `truncation`.\n"
     ]
    },
    {
     "name": "stdout",
     "output_type": "stream",
     "text": [
      "<chart><loc_0><loc_0><loc_500><loc_500>ID Name Colour Description 1 Tag 1 2 Tag 2 3 Tag 3 3 Tag 3 4 Tag 4 5 Tag 5 6 Tag 6 7 Tag 7 8 Tag 8 9 Tag 9 10 Tag 10 11 Tag 11 12 Tag 12 13 Tag 13 14 Tag 14 15 Tag 15 16 Tag 16 17 Tag 17 18 Tag 18 19 Tag 19 20 Tag 20 21 Tag 21 22 Tag 22 23 Tag 23 24 Tag 24 25 Tag 25 26 Tag 26 27 Tag 27 28 Tag 28 29 Tag 29 30 Tag 30 31 Tag 31 32 Tag 32 33 Tag 33 34 Tag 34 35 Tag 35 3\n",
      "\n"
     ]
    }
   ],
   "source": [
    "import torch\n",
    "from docling_core.types.doc import DoclingDocument\n",
    "from docling_core.types.doc.document import DocTagsDocument\n",
    "from transformers import AutoProcessor, AutoModelForVision2Seq\n",
    "from transformers.image_utils import load_image\n",
    "\n",
    "DEVICE = \"cuda\" if torch.cuda.is_available() else \"cpu\"\n",
    "# DEVICE = \"cpu\"\n",
    "\n",
    "# Load images\n",
    "image = load_image(\"sample.png\")\n",
    "\n",
    "# Initialize processor and model\n",
    "processor = AutoProcessor.from_pretrained(\"ds4sd/SmolDocling-256M-preview\")\n",
    "# model = AutoModelForVision2Seq.from_pretrained(\n",
    "#     \"ds4sd/SmolDocling-256M-preview\",\n",
    "#     torch_dtype=torch.bfloat16,\n",
    "#     _attn_implementation=\"eager\",  # for gpu that does not supports flash attention\n",
    "# ).to(DEVICE)\n",
    "\n",
    "model = AutoModelForVision2Seq.from_pretrained(\n",
    "    \"ds4sd/SmolDocling-256M-preview\",\n",
    "    torch_dtype=torch.float16 if DEVICE == \"cuda\" else torch.float32,\n",
    "    _attn_implementation=\"eager\",\n",
    ").to(DEVICE)\n",
    "\n",
    "# Create input messages\n",
    "messages = [\n",
    "    {\n",
    "        \"role\": \"user\",\n",
    "        \"content\": [\n",
    "            {\"type\": \"image\"},\n",
    "            {\"type\": \"text\", \"text\": \"You are a document generation model. Please generate a document from the image.\"},\n",
    "            # {\"type\": \"text\", \"text\": \"Extract the tables from this image and return them as HTML <table> tags.\"},\n",
    "        ]\n",
    "    },\n",
    "]\n",
    "\n",
    "\n",
    "# Prepare inputs\n",
    "prompt = processor.apply_chat_template(messages, add_generation_prompt=True)\n",
    "inputs = processor(text=prompt, images=[image], return_tensors=\"pt\")\n",
    "inputs = inputs.to(DEVICE)\n",
    "\n",
    "# Generate outputs\n",
    "max_new_tokens = 256\n",
    "# generated_ids = model.generate(**inputs, max_new_tokens=8192)\n",
    "generated_ids = model.generate(**inputs, max_new_tokens=max_new_tokens)\n",
    "\n",
    "prompt_length = inputs.input_ids.shape[1]\n",
    "trimmed_generated_ids = generated_ids[:, prompt_length:]\n",
    "doctags = processor.batch_decode(\n",
    "    trimmed_generated_ids,\n",
    "    skip_special_tokens=False,\n",
    ")[0].lstrip()\n",
    "\n",
    "# Populate document\n",
    "doctags_doc = DocTagsDocument.from_doctags_and_image_pairs([doctags], [image])\n",
    "print(doctags)\n",
    "# create a docling document\n",
    "doc = DoclingDocument(name=\"Document\")\n",
    "doc.load_from_doctags(doctags_doc)\n",
    "\n",
    "print(doc.export_to_markdown())"
   ]
  },
  {
   "cell_type": "markdown",
   "metadata": {},
   "source": [
    "# Extract tables from pdf by converting all pages to images and then using OCR"
   ]
  },
  {
   "cell_type": "code",
   "execution_count": 19,
   "metadata": {},
   "outputs": [
    {
     "name": "stdout",
     "output_type": "stream",
     "text": [
      "Processing page 1...\n"
     ]
    },
    {
     "name": "stderr",
     "output_type": "stream",
     "text": [
      "Truncation was not explicitly activated but `max_length` is provided a specific value, please use `truncation=True` to explicitly truncate examples to max length. Defaulting to 'longest_first' truncation strategy. If you encode pairs of sequences (GLUE-style) with the tokenizer you can select this strategy more precisely by providing a specific strategy to `truncation`.\n"
     ]
    },
    {
     "name": "stdout",
     "output_type": "stream",
     "text": [
      "\n",
      "🧾 Page 1 (HTML extracted):\n",
      " <otsl><loc_83><loc_47><loc_454><loc_360>TABLA COMPARATIVA DE ESTANDARES  USO DEL EDIFICIO  FUENTE DE  INFORMACION  POBLACION  x Dormitorio  %  PoblACION  servida cada 5  %  LIMITE DE  TIEMPO DE  ESPERA  VIVIENDA  Ref. 1  Ref. 2  Ref. 1  Ref. 2  Ref. 1  Ref. 1  Ref. 1  Ref. 1  Ref. 1  Ref. 1  Ref. 1  Ref. 1  Ref. 1  Ref. 1  Ref. 1  Ref. 1  Ref. 1  Ref. 1  Ref. 1  Ref. 1  Ref. 1  Ref. 1  Ref. 1  Ref. 1  Ref. 1  Ref. 1  Ref. 1  Ref. 1  Ref. 1  Ref. 1  Ref. 1  Ref. 1  Ref. 1  Ref. 1  Ref. 1  Ref. 1  Ref. 1  Ref. 1  Ref. 1  Ref. 1  Ref. 1  Ref. 1  Ref. 1  Ref. 1  Ref. 1  Ref. 1  Ref. 1  Ref. 1  Ref. 1  Ref. 1  Ref. 1  Ref. 1  Ref. 1  Ref. 1  Ref. 1  Ref. 1  Ref. 1  Ref. 1  Ref. 1  Ref. 1  Ref. 1  Ref. 1  Ref. 1  Ref. 1  Ref. 1  Ref. 1  Ref. 1  Ref. 1  Ref. 1  Ref. 1  Ref. 1  Ref. 1  Ref. 1  Ref. 1  Ref. 1  Ref. 1  Ref. 1  Ref. 1  Ref. 1  Ref. 1  Ref. 1  Ref. 1  Ref. 1 \n"
     ]
    }
   ],
   "source": [
    "from pdf2image import convert_from_path\n",
    "from transformers import AutoProcessor, AutoModelForVision2Seq\n",
    "from transformers.image_utils import load_image\n",
    "from PIL import Image\n",
    "import torch\n",
    "\n",
    "DEVICE = \"cuda\" if torch.cuda.is_available() else \"cpu\"\n",
    "\n",
    "processor = AutoProcessor.from_pretrained(\"ds4sd/SmolDocling-256M-preview\")\n",
    "model = AutoModelForVision2Seq.from_pretrained(\n",
    "    \"ds4sd/SmolDocling-256M-preview\",\n",
    "    torch_dtype=torch.float16 if DEVICE == \"cuda\" else torch.float32,\n",
    "    _attn_implementation=\"eager\",\n",
    ").to(DEVICE)\n",
    "\n",
    "images = convert_from_path(\"./research_docs/TABLAS P-3 Comparativa de Estandares.pdf\", dpi=300)\n",
    "\n",
    "doctags = []\n",
    "for i, page_image in enumerate(images):\n",
    "    print(f\"Processing page {i+1}...\")\n",
    "\n",
    "    page_image.save(f\"page_{i+1}.png\")\n",
    "\n",
    "    messages = [\n",
    "        {\n",
    "            \"role\": \"user\",\n",
    "            \"content\": [\n",
    "                {\"type\": \"image\"},\n",
    "                {\"type\": \"text\", \"text\": \"Extract all tables from the document in HTML format <table>, only return <table> tags.\"},\n",
    "            ],\n",
    "        },\n",
    "    ]\n",
    "\n",
    "    prompt = processor.apply_chat_template(messages, add_generation_prompt=True)\n",
    "    inputs = processor(text=prompt, images=[page_image], return_tensors=\"pt\").to(DEVICE)\n",
    "\n",
    "    generated_ids = model.generate(**inputs, max_new_tokens=512)\n",
    "    prompt_len = inputs.input_ids.shape[1]\n",
    "    trimmed_ids = generated_ids[:, prompt_len:]\n",
    "\n",
    "    doctag = processor.batch_decode(trimmed_ids, skip_special_tokens=False)[0].lstrip()\n",
    "    doctags.append((doctag, page_image))\n",
    "    print(f\"\\n🧾 Page {i+1} (HTML extracted):\\n\", doctag)"
   ]
  },
  {
   "cell_type": "code",
   "execution_count": 21,
   "metadata": {},
   "outputs": [],
   "source": [
    "from docling_core.types.doc import DoclingDocument\n",
    "from docling_core.types.doc.document import DocTagsDocument\n",
    "from IPython.display import display, HTML\n",
    "\n",
    "html_output = \"\"\n",
    "for doctag, image in doctags:\n",
    "    doctags_doc = DocTagsDocument.from_doctags_and_image_pairs([doctag], [image])\n",
    "\n",
    "    doc = DoclingDocument(name=\"Document\")\n",
    "    doc.load_from_doctags(doctags_doc)\n",
    "\n",
    "    html_output += doc.export_to_html()\n",
    "\n",
    "# write the HTML output to a file\n",
    "with open(\"output.html\", \"w\") as f:\n",
    "    f.write(html_output)\n",
    "\n",
    "# display(HTML(html_output))"
   ]
  }
 ],
 "metadata": {
  "kernelspec": {
   "display_name": ".venv",
   "language": "python",
   "name": "python3"
  },
  "language_info": {
   "codemirror_mode": {
    "name": "ipython",
    "version": 3
   },
   "file_extension": ".py",
   "mimetype": "text/x-python",
   "name": "python",
   "nbconvert_exporter": "python",
   "pygments_lexer": "ipython3",
   "version": "3.10.17"
  }
 },
 "nbformat": 4,
 "nbformat_minor": 2
}
